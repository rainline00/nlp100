{
 "cells": [
  {
   "cell_type": "markdown",
   "metadata": {},
   "source": [
    "# 00. 文字列の逆順\n",
    "文字列”stressed”の文字を逆に（末尾から先頭に向かって）並べた文字列を得よ．"
   ]
  },
  {
   "cell_type": "code",
   "execution_count": 1,
   "metadata": {},
   "outputs": [
    {
     "name": "stdout",
     "output_type": "stream",
     "text": [
      "desserts\n"
     ]
    }
   ],
   "source": [
    "s = \"stressed\"\n",
    "print(s[::-1])"
   ]
  },
  {
   "cell_type": "markdown",
   "metadata": {},
   "source": [
    "# 01. 「パタトクカシーー」\n",
    "「パタトクカシーー」という文字列の1,3,5,7文字目を取り出して連結した文字列を得よ．"
   ]
  },
  {
   "cell_type": "code",
   "execution_count": 2,
   "metadata": {},
   "outputs": [
    {
     "name": "stdout",
     "output_type": "stream",
     "text": [
      "パトカー\n"
     ]
    }
   ],
   "source": [
    "s = \"パタトクカシーー\"\n",
    "print(s[::2])"
   ]
  },
  {
   "cell_type": "markdown",
   "metadata": {},
   "source": [
    "# 02. 「パトカー」＋「タクシー」＝「パタトクカシーー」\n",
    "「パトカー」＋「タクシー」の文字を先頭から交互に連結して文字列「パタトクカシーー」を得よ．"
   ]
  },
  {
   "cell_type": "code",
   "execution_count": 3,
   "metadata": {},
   "outputs": [
    {
     "name": "stdout",
     "output_type": "stream",
     "text": [
      "パタトクカシーー\n"
     ]
    }
   ],
   "source": [
    "s = \"パトカー\"\n",
    "t = \"タクシー\"\n",
    "conc = \"\"\n",
    "for a, b in zip(s,t):\n",
    "    conc += (a + b)\n",
    "print(conc)"
   ]
  },
  {
   "cell_type": "markdown",
   "metadata": {},
   "source": [
    "# 03. 円周率\n",
    "“Now I need a drink, alcoholic of course, after the heavy lectures involving quantum mechanics.”という文を単語に分解し，各単語の（アルファベットの）文字数を先頭から出現順に並べたリストを作成せよ．"
   ]
  },
  {
   "cell_type": "code",
   "execution_count": 4,
   "metadata": {},
   "outputs": [
    {
     "name": "stdout",
     "output_type": "stream",
     "text": [
      "[3, 1, 4, 1, 5, 9, 2, 6, 5, 3, 5, 8, 9, 7, 9]\n"
     ]
    }
   ],
   "source": [
    "s = \"Now I need a drink, alcoholic of course, after the heavy lectures involving quantum mechanics.\"\n",
    "words = s.replace(\",\", \"\").replace(\".\", \"\").split()\n",
    "len_words = [len(word) for word in words]\n",
    "print(len_words)"
   ]
  },
  {
   "cell_type": "markdown",
   "metadata": {},
   "source": [
    "# 04. 元素記号\n",
    "“Hi He Lied Because Boron Could Not Oxidize Fluorine. New Nations Might Also Sign Peace Security Clause. Arthur King Can.”という文を単語に分解し，1, 5, 6, 7, 8, 9, 15, 16, 19番目の単語は先頭の1文字，それ以外の単語は先頭の2文字を取り出し，取り出した文字列から単語の位置（先頭から何番目の単語か）への連想配列（辞書型もしくはマップ型）を作成せよ．"
   ]
  },
  {
   "cell_type": "code",
   "execution_count": 5,
   "metadata": {},
   "outputs": [
    {
     "name": "stdout",
     "output_type": "stream",
     "text": [
      "{1: 'H', 2: 'He', 3: 'Li', 4: 'Be', 5: 'B', 6: 'C', 7: 'N', 8: 'O', 9: 'F', 10: 'Ne', 11: 'Na', 12: 'Mi', 13: 'Al', 14: 'Si', 15: 'P', 16: 'S', 17: 'Cl', 18: 'Ar', 19: 'K', 20: 'Ca'}\n"
     ]
    }
   ],
   "source": [
    "s = \"Hi He Lied Because Boron Could Not Oxidize Fluorine. New Nations Might Also Sign Peace Security Clause. Arthur King Can.\"\n",
    "words = s.replace(\",\", \"\").replace(\".\", \"\").split()\n",
    "indice_pick_one = [1, 5, 6, 7, 8, 9, 15, 16, 19]\n",
    "table = dict()\n",
    "for i, word in enumerate(words):\n",
    "    if i+1 in indice_pick_one:\n",
    "        word = word[0]\n",
    "    else:\n",
    "        word = word[:2]\n",
    "    table[i+1] = word\n",
    "print(table)"
   ]
  },
  {
   "cell_type": "markdown",
   "metadata": {},
   "source": [
    "# 05. n-gram\n",
    "与えられたシーケンス（文字列やリストなど）からn-gramを作る関数を作成せよ．この関数を用い，”I am an NLPer”という文から単語bi-gram，文字bi-gramを得よ．"
   ]
  },
  {
   "cell_type": "code",
   "execution_count": 6,
   "metadata": {},
   "outputs": [
    {
     "name": "stdout",
     "output_type": "stream",
     "text": [
      "単語bi-gram [['I', 'am'], ['am', 'an'], ['an', 'NLPer']]\n",
      "文字bi-gram ['I ', ' a', 'am', 'm ', ' a', 'an', 'n ', ' N', 'NL', 'LP', 'Pe', 'er']\n"
     ]
    }
   ],
   "source": [
    "def make_ngram(n: int, s):\n",
    "    li = []\n",
    "    for i in range(len(s) - n + 1):\n",
    "        li.append(s[i:i+n])\n",
    "    return li\n",
    "\n",
    "s = \"I am an NLPer\"\n",
    "print(\"単語bi-gram\", make_ngram(2, s.split()))\n",
    "print(\"文字bi-gram\", make_ngram(2, s))"
   ]
  },
  {
   "cell_type": "markdown",
   "metadata": {},
   "source": [
    "# 06. 集合\n",
    "“paraparaparadise”と”paragraph”に含まれる文字bi-gramの集合を，それぞれ, XとYとして求め，XとYの和集合，積集合，差集合を求めよ．さらに，’se’というbi-gramがXおよびYに含まれるかどうかを調べよ．"
   ]
  },
  {
   "cell_type": "code",
   "execution_count": 7,
   "metadata": {},
   "outputs": [
    {
     "name": "stdout",
     "output_type": "stream",
     "text": [
      "X: {'ra', 'is', 'pa', 'di', 'ar', 'ap', 'ad', 'se'}\n",
      "Y: {'ph', 'ra', 'pa', 'ag', 'ar', 'ap', 'gr'}\n",
      "和集合: {'ph', 'ra', 'is', 'pa', 'ag', 'gr', 'di', 'ar', 'ap', 'ad', 'se'}\n",
      "積集合: {'ar', 'ra', 'pa', 'ap'}\n",
      "差集合: {'is', 'ad', 'se', 'di'}\n",
      "'se' in X? -> True\n",
      "'se' in Y? -> False\n"
     ]
    }
   ],
   "source": [
    "s = \"paraparaparadise\"\n",
    "t = \"paragraph\"\n",
    "X = set(make_ngram(2, s))\n",
    "Y = set(make_ngram(2, t))\n",
    "print(\"X:\", X)\n",
    "print(\"Y:\", Y)\n",
    "print(\"和集合:\", X | Y)\n",
    "print(\"積集合:\", X & Y)\n",
    "print(\"差集合:\", X - Y)\n",
    "print(\"'se' in X? ->\", \"se\" in X)\n",
    "print(\"'se' in Y? ->\", \"se\" in Y)"
   ]
  },
  {
   "cell_type": "markdown",
   "metadata": {},
   "source": [
    "# 07. テンプレートによる文生成\n",
    "引数x, y, zを受け取り「x時のyはz」という文字列を返す関数を実装せよ．さらに，x=12, y=”気温”, z=22.4として，実行結果を確認せよ．"
   ]
  },
  {
   "cell_type": "code",
   "execution_count": 8,
   "metadata": {},
   "outputs": [
    {
     "name": "stdout",
     "output_type": "stream",
     "text": [
      "12時の気温は22.4\n"
     ]
    }
   ],
   "source": [
    "def generate_text(x, y, z):\n",
    "    return f\"{x}時の{y}は{z}\"\n",
    "\n",
    "print(generate_text(x=12, y=\"気温\", z=22.4))"
   ]
  },
  {
   "cell_type": "markdown",
   "metadata": {},
   "source": [
    "# 08. 暗号文\n",
    "与えられた文字列の各文字を，以下の仕様で変換する関数cipherを実装せよ．\n",
    "\n",
    "* 英小文字ならば(219 - 文字コード)の文字に置換\n",
    "* その他の文字はそのまま出力\n",
    "\n",
    "この関数を用い，英語のメッセージを暗号化・復号化せよ．"
   ]
  },
  {
   "cell_type": "code",
   "execution_count": 9,
   "metadata": {},
   "outputs": [
    {
     "name": "stdout",
     "output_type": "stream",
     "text": [
      "encoded: I zn Hzbzhsr Kzmqf.\n",
      "decoded: I am Hayashi Kanju.\n"
     ]
    }
   ],
   "source": [
    "def cipher(s: str) -> str:\n",
    "    ret = \"\"\n",
    "    for c in s:\n",
    "        if c.islower():\n",
    "            ret += chr(219 - ord(c))\n",
    "        else:\n",
    "            ret += c\n",
    "    return ret\n",
    "\n",
    "s = \"I am Hayashi Kanju.\"\n",
    "s_encoded = cipher(s)\n",
    "s_decoded = cipher(s_encoded)\n",
    "print(\"encoded:\", s_encoded)\n",
    "print(\"decoded:\", s_decoded)"
   ]
  },
  {
   "cell_type": "markdown",
   "metadata": {},
   "source": [
    "# 09. Typoglycemia\n",
    "スペースで区切られた単語列に対して，各単語の先頭と末尾の文字は残し，それ以外の文字の順序をランダムに並び替えるプログラムを作成せよ．ただし，長さが４以下の単語は並び替えないこととする．適当な英語の文（例えば”I couldn’t believe that I could actually understand what I was reading : the phenomenal power of the human mind .”）を与え，その実行結果を確認せよ．"
   ]
  },
  {
   "cell_type": "code",
   "execution_count": 10,
   "metadata": {},
   "outputs": [
    {
     "name": "stdout",
     "output_type": "stream",
     "text": [
      "I cl’ndout beeivle that I colud altlucay uradenstnd what I was rnidaeg : the pehnamenol peowr of the human mind .\n"
     ]
    }
   ],
   "source": [
    "import random\n",
    "\n",
    "def typoglycemia(s):\n",
    "    words = s.split()\n",
    "    ret = []\n",
    "    for word in words:\n",
    "        if len(word) > 4:\n",
    "            word = word[0] + \"\".join(random.sample(word[1:-1], len(word) - 2)) + word[-1]\n",
    "            ret.append(word)\n",
    "        else:\n",
    "            ret.append(word)\n",
    "    return \" \".join(ret)\n",
    "\n",
    "print(typoglycemia(\"I couldn’t believe that I could actually understand what I was reading : the phenomenal power of the human mind .\"))"
   ]
  }
 ],
 "metadata": {
  "kernelspec": {
   "display_name": "Python 3",
   "language": "python",
   "name": "python3"
  },
  "language_info": {
   "codemirror_mode": {
    "name": "ipython",
    "version": 3
   },
   "file_extension": ".py",
   "mimetype": "text/x-python",
   "name": "python",
   "nbconvert_exporter": "python",
   "pygments_lexer": "ipython3",
   "version": "3.7.6"
  }
 },
 "nbformat": 4,
 "nbformat_minor": 4
}
