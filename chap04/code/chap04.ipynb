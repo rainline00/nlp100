{
 "cells": [
  {
   "cell_type": "markdown",
   "metadata": {},
   "source": [
    "# 第4章: 形態素解析\n",
    "\n",
    "夏目漱石の小説『吾輩は猫である』の文章（neko.txt）をMeCabを使って形態素解析し，その結果をneko.txt.mecabというファイルに保存せよ．このファイルを用いて，以下の問に対応するプログラムを実装せよ．\n",
    "\n",
    "なお，問題37, 38, 39はmatplotlibもしくはGnuplotを用いるとよい．\n",
    "```bash\n",
    "$ brew install mecab \n",
    "$ brew install mecab-ipadic\n",
    "$ brew install git curl xz\n",
    "$ git clone --depth 1 git@github.com:neologd/mecab-ipadic-neologd.git\n",
    "$ cd mecab-ipadic-neologd\n",
    "$ ./bin/install-mecab-ipadic-neologd -n\n",
    "$ brew install swig\n",
    "$ pip install mecab-python3 \n",
    "$ mecab ../input/neko.txt -o ../output/neko.txt.mecab\n",
    "```\n",
    "### mecabの形態素解析のテンプレート\n",
    "```\n",
    "表層形\\t品詞,品詞細分類1,品詞細分類2,品詞細分類3,活用型,活用形,原形,読み,発音\n",
    "```"
   ]
  },
  {
   "cell_type": "markdown",
   "metadata": {},
   "source": [
    "# 30. 形態素解析結果の読み込み\n",
    "形態素解析結果（neko.txt.mecab）を読み込むプログラムを実装せよ．ただし，各形態素は表層形（surface），基本形（base），品詞（pos），品詞細分類1（pos1）をキーとするマッピング型に格納し，1文を形態素（マッピング型）のリストとして表現せよ．第4章の残りの問題では，ここで作ったプログラムを活用せよ．"
   ]
  },
  {
   "cell_type": "code",
   "execution_count": 1,
   "metadata": {},
   "outputs": [],
   "source": [
    "import re\n",
    "import csv\n",
    "\n",
    "whole_text = []\n",
    "sent = []\n",
    "set_surface = set()\n",
    "set_base = set()\n",
    "\n",
    "with open(\"../output/neko.txt.mecab\", mode=\"r\") as mecab_morph:\n",
    "    for morph in mecab_morph:\n",
    "        if \"EOS\" in morph:\n",
    "            whole_text.append(sent)\n",
    "            sent = []\n",
    "            continue\n",
    "        items = re.split(\"[\\t,]\", morph.rstrip())\n",
    "        if len(items) != 10:\n",
    "            continue\n",
    "        surface, pos, pos_1, _, _, _, _, base, _, _ \\\n",
    "            = (item for item in items)\n",
    "        morph_dict = dict()\n",
    "        if surface: \n",
    "            morph_dict[\"surface\"] = surface\n",
    "            if pos == \"動詞\":\n",
    "                set_surface.add(surface)\n",
    "        if base: \n",
    "            morph_dict[\"base\"] = base\n",
    "            if pos == \"動詞\":\n",
    "                set_base.add(base)\n",
    "        if pos: \n",
    "            morph_dict[\"pos\"] = pos\n",
    "        if pos_1: \n",
    "            morph_dict[\"pos1\"] = pos_1\n",
    "        sent.append(morph_dict)"
   ]
  },
  {
   "cell_type": "markdown",
   "metadata": {},
   "source": [
    "# 31. 動詞\n",
    "動詞の表層形をすべて抽出せよ．"
   ]
  },
  {
   "cell_type": "code",
   "execution_count": 2,
   "metadata": {},
   "outputs": [],
   "source": [
    "with open(\"../output/neko.txt.extract_base\", mode=\"w\") as f_base:\n",
    "    writer = csv.writer(f_base)\n",
    "    writer.writerow(list(set_base))"
   ]
  },
  {
   "cell_type": "markdown",
   "metadata": {},
   "source": [
    "# 32. 動詞の基本形\n",
    "動詞の基本形をすべて抽出せよ．"
   ]
  },
  {
   "cell_type": "code",
   "execution_count": 3,
   "metadata": {},
   "outputs": [],
   "source": [
    "with open(\"../output/neko.txt.extract_surface\", mode=\"w\") as f_surface:\n",
    "    writer = csv.writer(f_surface)\n",
    "    writer.writerow(list(set_surface))"
   ]
  },
  {
   "cell_type": "markdown",
   "metadata": {},
   "source": [
    "# 33. 「AのB」\n",
    "2つの名詞が「の」で連結されている名詞句を抽出せよ．"
   ]
  },
  {
   "cell_type": "code",
   "execution_count": 4,
   "metadata": {},
   "outputs": [],
   "source": [
    "A_of_B = []\n",
    "for sent in whole_text:\n",
    "    l = len(sent)\n",
    "    for i, word in enumerate(sent):\n",
    "        if word[\"surface\"] == \"の\" and 1 <= i < l - 1:\n",
    "            if sent[i-1][\"pos\"] == \"名詞\" and sent[i+1][\"pos\"] == \"名詞\":\n",
    "                A_of_B.append(sent[i-1][\"surface\"] + \"の\" + sent[i+1][\"surface\"])\n",
    "\n",
    "with open(\"../output/neko.txt.extract_A_of_B\", mode=\"w\") as f_AofB:\n",
    "    writer = csv.writer(f_AofB)\n",
    "    writer.writerow(A_of_B)"
   ]
  },
  {
   "cell_type": "markdown",
   "metadata": {},
   "source": [
    "# 34. 名詞の連接\n",
    "名詞の連接（連続して出現する名詞）を最長一致で抽出せよ．"
   ]
  },
  {
   "cell_type": "code",
   "execution_count": 5,
   "metadata": {},
   "outputs": [],
   "source": [
    "series_nouns = []\n",
    "nouns = []\n",
    "for sent in whole_text:\n",
    "    l = len(sent)\n",
    "    for i, word in enumerate(sent):\n",
    "        if word[\"pos\"] == \"名詞\":\n",
    "            nouns.append(word[\"surface\"])\n",
    "            if (i == l - 1) and (len(nouns) > 1):\n",
    "                series_nouns.append(\"\".join(nouns))\n",
    "        else:\n",
    "            if len(nouns) > 1:\n",
    "                series_nouns.append(\"\".join(nouns))\n",
    "            nouns = []\n",
    "            \n",
    "\n",
    "with open(\"../output/neko.txt.series_nouns\", mode=\"w\") as f_series:\n",
    "    writer = csv.writer(f_series)\n",
    "    writer.writerow(series_nouns)"
   ]
  },
  {
   "cell_type": "markdown",
   "metadata": {},
   "source": [
    "# 35. 単語の出現頻度\n",
    "文章中に出現する単語とその出現頻度を求め，出現頻度の高い順に並べよ．"
   ]
  },
  {
   "cell_type": "markdown",
   "metadata": {},
   "source": [
    "# 36. 頻度上位10語\n",
    "出現頻度が高い10語とその出現頻度をグラフ（例えば棒グラフなど）で表示せよ．"
   ]
  },
  {
   "cell_type": "code",
   "execution_count": 7,
   "metadata": {},
   "outputs": [
    {
     "data": {
      "image/png": "[encoded data removed]",
      "text/plain": [
       "<Figure size 432x288 with 1 Axes>"
      ]
     },
     "metadata": {
      "needs_background": "light"
     },
     "output_type": "display_data"
    }
   ],
   "source": [
    "from collections import Counter\n",
    "%matplotlib inline\n",
    "import matplotlib.pyplot as plt\n",
    "all_words = [word[\"surface\"] for sent in whole_text for word in sent]\n",
    "counter = Counter(all_words)\n",
    "x, y = map(list, zip(*counter.most_common(10)))\n",
    "\n",
    "plt.bar(x, y)\n",
    "plt.title(\"frequency of words in this novel\")\n",
    "plt.show()"
   ]
  },
  {
   "cell_type": "markdown",
   "metadata": {},
   "source": [
    "# 37. 「猫」と共起頻度の高い上位10語\n",
    "「猫」とよく共起する（共起頻度が高い）10語とその出現頻度をグラフ（例えば棒グラフなど）で表示せよ．"
   ]
  },
  {
   "cell_type": "code",
   "execution_count": 16,
   "metadata": {},
   "outputs": [
    {
     "data": {
      "image/png": "[encoded data removed]",
      "text/plain": [
       "<Figure size 432x288 with 1 Axes>"
      ]
     },
     "metadata": {
      "needs_background": "light"
     },
     "output_type": "display_data"
    }
   ],
   "source": [
    "def make_ngram(n: int, s):\n",
    "    li = []\n",
    "    for i in range(len(s) - n + 1):\n",
    "        li.append(s[i:i+n])\n",
    "    return li\n",
    "\n",
    "word_counter = dict()\n",
    "word_bi_gram = make_ngram(2, all_words)\n",
    "for a, b in word_bi_gram:\n",
    "    if a == \"猫\":\n",
    "        if b in word_counter:\n",
    "            word_counter[b] += 1\n",
    "        else:\n",
    "            word_counter[b] = 1\n",
    "    elif b == \"猫\":\n",
    "        if a in word_counter:\n",
    "            word_counter[a] += 1\n",
    "        else:\n",
    "            word_counter[a] = 1\n",
    "most_commons = sorted(word_counter.items(), key=lambda x: x[1], reverse=True)[:10]\n",
    "x, y = map(list, zip(*most_commons))\n",
    "plt.bar(x, y)\n",
    "plt.title(\"猫と共起する単語top10 (bigram)\")\n",
    "plt.show()"
   ]
  },
  {
   "cell_type": "code",
   "execution_count": 18,
   "metadata": {},
   "outputs": [
    {
     "data": {
      "image/png": "[encoded data removed]",
      "text/plain": [
       "<Figure size 432x288 with 1 Axes>"
      ]
     },
     "metadata": {
      "needs_background": "light"
     },
     "output_type": "display_data"
    }
   ],
   "source": [
    "word_counter = dict()\n",
    "word_tri_gram = make_ngram(3, all_words)\n",
    "for a, b, c in word_tri_gram:\n",
    "    if a == \"猫\":\n",
    "        if b in word_counter:\n",
    "            word_counter[b] += 1\n",
    "        else:\n",
    "            word_counter[b] = 1\n",
    "        if c in word_counter:\n",
    "            word_counter[c] += 1\n",
    "        else:\n",
    "            word_counter[c] = 1\n",
    "    elif c == \"猫\":\n",
    "        if a in word_counter:\n",
    "            word_counter[a] += 1\n",
    "        else:\n",
    "            word_counter[a] = 1\n",
    "        if b in word_counter:\n",
    "            word_counter[b] += 1\n",
    "        else:\n",
    "            word_counter[b] = 1\n",
    "most_commons = sorted(word_counter.items(), key=lambda x: x[1], reverse=True)[:10]\n",
    "x, y = map(list, zip(*most_commons))\n",
    "plt.bar(x, y)\n",
    "plt.title(\"猫と共起する単語top10 (trigram)\")\n",
    "plt.show()"
   ]
  },
  {
   "cell_type": "markdown",
   "metadata": {},
   "source": [
    "# 38. ヒストグラム\n",
    "単語の出現頻度のヒストグラムを描け．ただし，横軸は出現頻度を表し，1から単語の出現頻度の最大値までの線形目盛とする．縦軸はx軸で示される出現頻度となった単語の異なり数（種類数）である．"
   ]
  },
  {
   "cell_type": "code",
   "execution_count": 41,
   "metadata": {},
   "outputs": [
    {
     "data": {
      "image/png": "[encoded data removed]",
      "text/plain": [
       "<Figure size 576x288 with 1 Axes>"
      ]
     },
     "metadata": {
      "needs_background": "light"
     },
     "output_type": "display_data"
    }
   ],
   "source": [
    "freq_counter = {i: 0 for i in range(1, counter.most_common(1)[0][1] + 1)}\n",
    "for k, v in counter.most_common():\n",
    "    freq_counter[v] += 1\n",
    "#freq_counter_sorted = sorted(freq_counter.items())\n",
    "#x, y = map(list, zip(*freq_counter_sorted))\n",
    "plt.figure(figsize=(8, 4))\n",
    "plt.hist(freq_counter.values(), bins=100)\n",
    "plt.title(\"word frequency histgram\")\n",
    "plt.show()"
   ]
  },
  {
   "cell_type": "markdown",
   "metadata": {},
   "source": [
    "# 39. Zipfの法則\n",
    "単語の出現頻度順位を横軸，その出現頻度を縦軸として，両対数グラフをプロットせよ．"
   ]
  },
  {
   "cell_type": "code",
   "execution_count": 42,
   "metadata": {},
   "outputs": [
    {
     "data": {
      "image/png": "[encoded data removed]",
      "text/plain": [
       "<Figure size 432x288 with 1 Axes>"
      ]
     },
     "metadata": {
      "needs_background": "light"
     },
     "output_type": "display_data"
    }
   ],
   "source": [
    "x, y = map(list, zip(*counter.most_common()))\n",
    "x = [i for i in range(1, len(x) + 1)]\n",
    "plt.scatter(x, y)\n",
    "plt.xscale('log')\n",
    "plt.yscale('log')\n",
    "plt.xlabel('rank')\n",
    "plt.ylabel('freq')\n",
    "plt.show()"
   ]
  },
  {
   "cell_type": "code",
   "execution_count": null,
   "metadata": {},
   "outputs": [],
   "source": []
  }
 ],
 "metadata": {
  "kernelspec": {
   "display_name": "Python 3",
   "language": "python",
   "name": "python3"
  },
  "language_info": {
   "codemirror_mode": {
    "name": "ipython",
    "version": 3
   },
   "file_extension": ".py",
   "mimetype": "text/x-python",
   "name": "python",
   "nbconvert_exporter": "python",
   "pygments_lexer": "ipython3",
   "version": "3.7.4"
  }
 },
 "nbformat": 4,
 "nbformat_minor": 4
}
