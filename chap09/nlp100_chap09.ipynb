{
  "nbformat": 4,
  "nbformat_minor": 0,
  "metadata": {
    "colab": {
      "name": "nlp100_chap09.ipynb",
      "provenance": [],
      "collapsed_sections": []
    },
    "kernelspec": {
      "name": "python3",
      "display_name": "Python 3"
    },
    "language_info": {
      "name": "python"
    },
    "accelerator": "GPU"
  },
  "cells": [
    {
      "cell_type": "markdown",
      "metadata": {
        "id": "OiV0kMMZlXij"
      },
      "source": [
        "# 80. ID番号への変換\n",
        "問題51で構築した学習データ中の単語にユニークなID番号を付与したい．学習データ中で最も頻出する単語に1，2番目に頻出する単語に2，……といった方法で，学習データ中で2回以上出現する単語にID番号を付与せよ．そして，与えられた単語列に対して，ID番号の列を返す関数を実装せよ．ただし，出現頻度が2回未満の単語のID番号はすべて0とせよ．"
      ]
    },
    {
      "cell_type": "markdown",
      "metadata": {
        "id": "9IAZBQ-9Ew73"
      },
      "source": [
        "[link to this page (on google colaborate)](https://colab.research.google.com/drive/1jGI6u1zcZb2BuYFwB0xaMwWfsSMn_jmA?usp=sharing)"
      ]
    },
    {
      "cell_type": "code",
      "metadata": {
        "colab": {
          "base_uri": "https://localhost:8080/"
        },
        "id": "3sfL8l5Y9MR4",
        "outputId": "c790dc30-2e67-4968-efc1-32c3d9dad7a1"
      },
      "source": [
        "!pip install texthero"
      ],
      "execution_count": null,
      "outputs": [
        {
          "output_type": "stream",
          "name": "stdout",
          "text": [
            "Collecting texthero\n",
            "  Downloading texthero-1.1.0-py3-none-any.whl (24 kB)\n",
            "Requirement already satisfied: spacy<3.0.0 in /usr/local/lib/python3.7/dist-packages (from texthero) (2.2.4)\n",
            "Requirement already satisfied: matplotlib>=3.1.0 in /usr/local/lib/python3.7/dist-packages (from texthero) (3.2.2)\n",
            "Requirement already satisfied: tqdm>=4.3 in /usr/local/lib/python3.7/dist-packages (from texthero) (4.62.0)\n",
            "Requirement already satisfied: plotly>=4.2.0 in /usr/local/lib/python3.7/dist-packages (from texthero) (4.4.1)\n",
            "Requirement already satisfied: scikit-learn>=0.22 in /usr/local/lib/python3.7/dist-packages (from texthero) (0.22.2.post1)\n",
            "Requirement already satisfied: numpy>=1.17 in /usr/local/lib/python3.7/dist-packages (from texthero) (1.19.5)\n",
            "Collecting unidecode>=1.1.1\n",
            "  Downloading Unidecode-1.3.1-py3-none-any.whl (235 kB)\n",
            "\u001b[K     |████████████████████████████████| 235 kB 7.5 MB/s \n",
            "\u001b[?25hRequirement already satisfied: pandas>=1.0.2 in /usr/local/lib/python3.7/dist-packages (from texthero) (1.1.5)\n",
            "Collecting nltk>=3.3\n",
            "  Downloading nltk-3.6.2-py3-none-any.whl (1.5 MB)\n",
            "\u001b[K     |████████████████████████████████| 1.5 MB 41.3 MB/s \n",
            "\u001b[?25hRequirement already satisfied: wordcloud>=1.5.0 in /usr/local/lib/python3.7/dist-packages (from texthero) (1.5.0)\n",
            "Requirement already satisfied: gensim<4.0,>=3.6.0 in /usr/local/lib/python3.7/dist-packages (from texthero) (3.6.0)\n",
            "Requirement already satisfied: smart-open>=1.2.1 in /usr/local/lib/python3.7/dist-packages (from gensim<4.0,>=3.6.0->texthero) (5.1.0)\n",
            "Requirement already satisfied: six>=1.5.0 in /usr/local/lib/python3.7/dist-packages (from gensim<4.0,>=3.6.0->texthero) (1.15.0)\n",
            "Requirement already satisfied: scipy>=0.18.1 in /usr/local/lib/python3.7/dist-packages (from gensim<4.0,>=3.6.0->texthero) (1.4.1)\n",
            "Requirement already satisfied: kiwisolver>=1.0.1 in /usr/local/lib/python3.7/dist-packages (from matplotlib>=3.1.0->texthero) (1.3.1)\n",
            "Requirement already satisfied: cycler>=0.10 in /usr/local/lib/python3.7/dist-packages (from matplotlib>=3.1.0->texthero) (0.10.0)\n",
            "Requirement already satisfied: python-dateutil>=2.1 in /usr/local/lib/python3.7/dist-packages (from matplotlib>=3.1.0->texthero) (2.8.2)\n",
            "Requirement already satisfied: pyparsing!=2.0.4,!=2.1.2,!=2.1.6,>=2.0.1 in /usr/local/lib/python3.7/dist-packages (from matplotlib>=3.1.0->texthero) (2.4.7)\n",
            "Requirement already satisfied: regex in /usr/local/lib/python3.7/dist-packages (from nltk>=3.3->texthero) (2019.12.20)\n",
            "Requirement already satisfied: click in /usr/local/lib/python3.7/dist-packages (from nltk>=3.3->texthero) (7.1.2)\n",
            "Requirement already satisfied: joblib in /usr/local/lib/python3.7/dist-packages (from nltk>=3.3->texthero) (1.0.1)\n",
            "Requirement already satisfied: pytz>=2017.2 in /usr/local/lib/python3.7/dist-packages (from pandas>=1.0.2->texthero) (2018.9)\n",
            "Requirement already satisfied: retrying>=1.3.3 in /usr/local/lib/python3.7/dist-packages (from plotly>=4.2.0->texthero) (1.3.3)\n",
            "Requirement already satisfied: cymem<2.1.0,>=2.0.2 in /usr/local/lib/python3.7/dist-packages (from spacy<3.0.0->texthero) (2.0.5)\n",
            "Requirement already satisfied: preshed<3.1.0,>=3.0.2 in /usr/local/lib/python3.7/dist-packages (from spacy<3.0.0->texthero) (3.0.5)\n",
            "Requirement already satisfied: murmurhash<1.1.0,>=0.28.0 in /usr/local/lib/python3.7/dist-packages (from spacy<3.0.0->texthero) (1.0.5)\n",
            "Requirement already satisfied: srsly<1.1.0,>=1.0.2 in /usr/local/lib/python3.7/dist-packages (from spacy<3.0.0->texthero) (1.0.5)\n",
            "Requirement already satisfied: thinc==7.4.0 in /usr/local/lib/python3.7/dist-packages (from spacy<3.0.0->texthero) (7.4.0)\n",
            "Requirement already satisfied: catalogue<1.1.0,>=0.0.7 in /usr/local/lib/python3.7/dist-packages (from spacy<3.0.0->texthero) (1.0.0)\n",
            "Requirement already satisfied: requests<3.0.0,>=2.13.0 in /usr/local/lib/python3.7/dist-packages (from spacy<3.0.0->texthero) (2.23.0)\n",
            "Requirement already satisfied: wasabi<1.1.0,>=0.4.0 in /usr/local/lib/python3.7/dist-packages (from spacy<3.0.0->texthero) (0.8.2)\n",
            "Requirement already satisfied: blis<0.5.0,>=0.4.0 in /usr/local/lib/python3.7/dist-packages (from spacy<3.0.0->texthero) (0.4.1)\n",
            "Requirement already satisfied: plac<1.2.0,>=0.9.6 in /usr/local/lib/python3.7/dist-packages (from spacy<3.0.0->texthero) (1.1.3)\n",
            "Requirement already satisfied: setuptools in /usr/local/lib/python3.7/dist-packages (from spacy<3.0.0->texthero) (57.4.0)\n",
            "Requirement already satisfied: importlib-metadata>=0.20 in /usr/local/lib/python3.7/dist-packages (from catalogue<1.1.0,>=0.0.7->spacy<3.0.0->texthero) (4.6.4)\n",
            "Requirement already satisfied: zipp>=0.5 in /usr/local/lib/python3.7/dist-packages (from importlib-metadata>=0.20->catalogue<1.1.0,>=0.0.7->spacy<3.0.0->texthero) (3.5.0)\n",
            "Requirement already satisfied: typing-extensions>=3.6.4 in /usr/local/lib/python3.7/dist-packages (from importlib-metadata>=0.20->catalogue<1.1.0,>=0.0.7->spacy<3.0.0->texthero) (3.7.4.3)\n",
            "Requirement already satisfied: chardet<4,>=3.0.2 in /usr/local/lib/python3.7/dist-packages (from requests<3.0.0,>=2.13.0->spacy<3.0.0->texthero) (3.0.4)\n",
            "Requirement already satisfied: urllib3!=1.25.0,!=1.25.1,<1.26,>=1.21.1 in /usr/local/lib/python3.7/dist-packages (from requests<3.0.0,>=2.13.0->spacy<3.0.0->texthero) (1.24.3)\n",
            "Requirement already satisfied: certifi>=2017.4.17 in /usr/local/lib/python3.7/dist-packages (from requests<3.0.0,>=2.13.0->spacy<3.0.0->texthero) (2021.5.30)\n",
            "Requirement already satisfied: idna<3,>=2.5 in /usr/local/lib/python3.7/dist-packages (from requests<3.0.0,>=2.13.0->spacy<3.0.0->texthero) (2.10)\n",
            "Requirement already satisfied: pillow in /usr/local/lib/python3.7/dist-packages (from wordcloud>=1.5.0->texthero) (7.1.2)\n",
            "Installing collected packages: unidecode, nltk, texthero\n",
            "  Attempting uninstall: nltk\n",
            "    Found existing installation: nltk 3.2.5\n",
            "    Uninstalling nltk-3.2.5:\n",
            "      Successfully uninstalled nltk-3.2.5\n",
            "Successfully installed nltk-3.6.2 texthero-1.1.0 unidecode-1.3.1\n"
          ]
        }
      ]
    },
    {
      "cell_type": "code",
      "metadata": {
        "colab": {
          "base_uri": "https://localhost:8080/",
          "height": 485
        },
        "id": "fa_majQ69cvg",
        "outputId": "5ae8abf4-e1bb-4ec0-c650-354172018158"
      },
      "source": [
        "import texthero as hero\n",
        "import pandas as pd\n",
        "header = [\n",
        "    \"ID\",\n",
        "    \"TITLE\",\n",
        "    \"URL\",\n",
        "    \"PUBLISHER\",\n",
        "    \"CATEGORY\",\n",
        "    \"STORY\",\n",
        "    \"HOSTNAME\",\n",
        "    \"TIMESTAMP\",\n",
        "]\n",
        "df = pd.read_csv(\"/content/drive/MyDrive/data_nlp_100_09/newsCorpora.csv\", delimiter=\"\\t\", names=header)\n",
        "df.head(3)\n"
      ],
      "execution_count": null,
      "outputs": [
        {
          "output_type": "stream",
          "name": "stderr",
          "text": [
            "[nltk_data] Downloading package stopwords to /root/nltk_data...\n",
            "[nltk_data]   Unzipping corpora/stopwords.zip.\n"
          ]
        },
        {
          "output_type": "execute_result",
          "data": {
            "text/html": [
              "<div>\n",
              "<style scoped>\n",
              "    .dataframe tbody tr th:only-of-type {\n",
              "        vertical-align: middle;\n",
              "    }\n",
              "\n",
              "    .dataframe tbody tr th {\n",
              "        vertical-align: top;\n",
              "    }\n",
              "\n",
              "    .dataframe thead th {\n",
              "        text-align: right;\n",
              "    }\n",
              "</style>\n",
              "<table border=\"1\" class=\"dataframe\">\n",
              "  <thead>\n",
              "    <tr style=\"text-align: right;\">\n",
              "      <th></th>\n",
              "      <th>ID</th>\n",
              "      <th>TITLE</th>\n",
              "      <th>URL</th>\n",
              "      <th>PUBLISHER</th>\n",
              "      <th>CATEGORY</th>\n",
              "      <th>STORY</th>\n",
              "      <th>HOSTNAME</th>\n",
              "      <th>TIMESTAMP</th>\n",
              "    </tr>\n",
              "  </thead>\n",
              "  <tbody>\n",
              "    <tr>\n",
              "      <th>0</th>\n",
              "      <td>1</td>\n",
              "      <td>Fed official says weak data caused by weather,...</td>\n",
              "      <td>http://www.latimes.com/business/money/la-fi-mo...</td>\n",
              "      <td>Los Angeles Times</td>\n",
              "      <td>b</td>\n",
              "      <td>ddUyU0VZz0BRneMioxUPQVP6sIxvM</td>\n",
              "      <td>www.latimes.com</td>\n",
              "      <td>1394470370698</td>\n",
              "    </tr>\n",
              "    <tr>\n",
              "      <th>1</th>\n",
              "      <td>2</td>\n",
              "      <td>Fed's Charles Plosser sees high bar for change...</td>\n",
              "      <td>http://www.livemint.com/Politics/H2EvwJSK2VE6O...</td>\n",
              "      <td>Livemint</td>\n",
              "      <td>b</td>\n",
              "      <td>ddUyU0VZz0BRneMioxUPQVP6sIxvM</td>\n",
              "      <td>www.livemint.com</td>\n",
              "      <td>1394470371207</td>\n",
              "    </tr>\n",
              "    <tr>\n",
              "      <th>2</th>\n",
              "      <td>3</td>\n",
              "      <td>US open: Stocks fall after Fed official hints ...</td>\n",
              "      <td>http://www.ifamagazine.com/news/us-open-stocks...</td>\n",
              "      <td>IFA Magazine</td>\n",
              "      <td>b</td>\n",
              "      <td>ddUyU0VZz0BRneMioxUPQVP6sIxvM</td>\n",
              "      <td>www.ifamagazine.com</td>\n",
              "      <td>1394470371550</td>\n",
              "    </tr>\n",
              "  </tbody>\n",
              "</table>\n",
              "</div>"
            ],
            "text/plain": [
              "   ID  ...      TIMESTAMP\n",
              "0   1  ...  1394470370698\n",
              "1   2  ...  1394470371207\n",
              "2   3  ...  1394470371550\n",
              "\n",
              "[3 rows x 8 columns]"
            ]
          },
          "metadata": {},
          "execution_count": 2
        }
      ]
    },
    {
      "cell_type": "code",
      "metadata": {
        "id": "7C1YohCA-oIk"
      },
      "source": [
        "target_publisher = [\n",
        "    \"Reuters\", \n",
        "    \"Huffington Post\", \n",
        "    \"Businessweek\", \n",
        "    \"Contactmusic.com\", \n",
        "    \"Daily Mail\",\n",
        "]\n",
        "\n",
        "df = df.loc[df[\"PUBLISHER\"].isin(target_publisher), ['TITLE', 'CATEGORY']]\n",
        "\n",
        "category_map = {\"b\": 0, \"t\": 1, \"e\": 2, \"m\": 3}\n",
        "df[\"CATEGORY\"] = df[\"CATEGORY\"].map(category_map)\n",
        "df[\"TITLE\"] = hero.clean(df[\"TITLE\"], pipeline=[\n",
        "    hero.preprocessing.fillna,\n",
        "    hero.preprocessing.lowercase,\n",
        "    hero.preprocessing.remove_digits,\n",
        "    hero.preprocessing.remove_punctuation,\n",
        "    hero.preprocessing.remove_diacritics,\n",
        "  ]\n",
        ")"
      ],
      "execution_count": null,
      "outputs": []
    },
    {
      "cell_type": "code",
      "metadata": {
        "colab": {
          "base_uri": "https://localhost:8080/",
          "height": 204
        },
        "id": "LhweKPLsg4sO",
        "outputId": "9e2d2cc9-f92b-4b2a-bbfd-818aae95d104"
      },
      "source": [
        "df.head()"
      ],
      "execution_count": null,
      "outputs": [
        {
          "output_type": "execute_result",
          "data": {
            "text/html": [
              "<div>\n",
              "<style scoped>\n",
              "    .dataframe tbody tr th:only-of-type {\n",
              "        vertical-align: middle;\n",
              "    }\n",
              "\n",
              "    .dataframe tbody tr th {\n",
              "        vertical-align: top;\n",
              "    }\n",
              "\n",
              "    .dataframe thead th {\n",
              "        text-align: right;\n",
              "    }\n",
              "</style>\n",
              "<table border=\"1\" class=\"dataframe\">\n",
              "  <thead>\n",
              "    <tr style=\"text-align: right;\">\n",
              "      <th></th>\n",
              "      <th>TITLE</th>\n",
              "      <th>CATEGORY</th>\n",
              "    </tr>\n",
              "  </thead>\n",
              "  <tbody>\n",
              "    <tr>\n",
              "      <th>12</th>\n",
              "      <td>europe reaches crunch point on banking union</td>\n",
              "      <td>0</td>\n",
              "    </tr>\n",
              "    <tr>\n",
              "      <th>13</th>\n",
              "      <td>ecb focus stronger euro drowns out ecb s messa...</td>\n",
              "      <td>0</td>\n",
              "    </tr>\n",
              "    <tr>\n",
              "      <th>19</th>\n",
              "      <td>euro anxieties wane as bunds top treasuries  s...</td>\n",
              "      <td>0</td>\n",
              "    </tr>\n",
              "    <tr>\n",
              "      <th>20</th>\n",
              "      <td>noyer says strong euro creates unwarranted eco...</td>\n",
              "      <td>0</td>\n",
              "    </tr>\n",
              "    <tr>\n",
              "      <th>29</th>\n",
              "      <td>refile bad loan triggers key feature in ecb ba...</td>\n",
              "      <td>0</td>\n",
              "    </tr>\n",
              "  </tbody>\n",
              "</table>\n",
              "</div>"
            ],
            "text/plain": [
              "                                                TITLE  CATEGORY\n",
              "12       europe reaches crunch point on banking union         0\n",
              "13  ecb focus stronger euro drowns out ecb s messa...         0\n",
              "19  euro anxieties wane as bunds top treasuries  s...         0\n",
              "20  noyer says strong euro creates unwarranted eco...         0\n",
              "29  refile bad loan triggers key feature in ecb ba...         0"
            ]
          },
          "metadata": {},
          "execution_count": 4
        }
      ]
    },
    {
      "cell_type": "code",
      "metadata": {
        "id": "OYfr7tq1m-K-"
      },
      "source": [
        "from sklearn.model_selection import train_test_split\n",
        "train_df, temp_df = train_test_split(df, train_size=0.8, stratify=df[\"CATEGORY\"], shuffle=True, random_state=0)\n",
        "valid_df, test_df = train_test_split(temp_df, train_size=0.5, stratify=temp_df[\"CATEGORY\"], shuffle=True, random_state=0)"
      ],
      "execution_count": null,
      "outputs": []
    },
    {
      "cell_type": "code",
      "metadata": {
        "colab": {
          "base_uri": "https://localhost:8080/"
        },
        "id": "MTQGUUXuneNi",
        "outputId": "3e445984-7afb-4b64-9a12-6e61b1cedbaa"
      },
      "source": [
        "print(f\"df: {len(df)}, train: {len(train_df)}, test: {len(test_df)}, valid: {len(valid_df)}\")"
      ],
      "execution_count": null,
      "outputs": [
        {
          "output_type": "stream",
          "name": "stdout",
          "text": [
            "df: 13340, train: 10672, test: 1334, valid: 1334\n"
          ]
        }
      ]
    },
    {
      "cell_type": "code",
      "metadata": {
        "colab": {
          "base_uri": "https://localhost:8080/"
        },
        "id": "4A6EiVL1oQ1R",
        "outputId": "749520e2-9b22-45af-de67-6d6154439ebc"
      },
      "source": [
        "valid_df[\"TITLE\"]"
      ],
      "execution_count": null,
      "outputs": [
        {
          "output_type": "execute_result",
          "data": {
            "text/plain": [
              "106318    legendary comedian jerry lewis flips the bird ...\n",
              "288788    mother s outrage after jetblue flight attendan...\n",
              "320690    deal or no deal model s distraught husband tri...\n",
              "40266     rolling stones   rolling stones to play in isr...\n",
              "287542    jazz great jimmy scott  who turned his genetic...\n",
              "                                ...                        \n",
              "255138    twitter is getting bigger in asia amid deceler...\n",
              "182649    rachel mcadams met gala dress   is pretty and ...\n",
              "253577    watch denzel washington in the first trailer f...\n",
              "111922    tax day freebies      good deals even if you d...\n",
              "327009    even cavemen had to eat their greens    year o...\n",
              "Name: TITLE, Length: 1334, dtype: object"
            ]
          },
          "metadata": {},
          "execution_count": 7
        }
      ]
    },
    {
      "cell_type": "code",
      "metadata": {
        "id": "hoZExOuyh3pR"
      },
      "source": [
        "from collections import Counter\n",
        "\n",
        "word_freq = Counter()\n",
        "for words in train_df[\"TITLE\"]:\n",
        "  words = words.split()\n",
        "  for word in words:\n",
        "    word_freq[word] += 1\n",
        "word_to_id = {word: idx if cnt >= 2 else 0 for idx, (word, cnt) in enumerate(word_freq.most_common())}\n"
      ],
      "execution_count": null,
      "outputs": []
    },
    {
      "cell_type": "code",
      "metadata": {
        "id": "Y3Fu-mN3SiK1"
      },
      "source": [
        "import pickle\n",
        "with open(\"dict.pkl\", mode=\"wb\") as f:\n",
        "  pickle.dump(word_to_id, f)"
      ],
      "execution_count": null,
      "outputs": []
    },
    {
      "cell_type": "code",
      "metadata": {
        "colab": {
          "base_uri": "https://localhost:8080/"
        },
        "id": "_ugMiqTWqFnL",
        "outputId": "f51efde9-6b8a-4fc7-a610-deea362f858d"
      },
      "source": [
        "train_df[\"words_seq\"] = [[word_to_id.get(word, 0) for word in title.split()] for title in train_df[\"TITLE\"]]\n",
        "valid_df[\"words_seq\"] = [[word_to_id.get(word, 0) for word in title.split()] for title in valid_df[\"TITLE\"]]\n",
        "test_df[\"words_seq\"] = [[word_to_id.get(word, 0) for word in title.split()] for title in test_df[\"TITLE\"]]"
      ],
      "execution_count": null,
      "outputs": [
        {
          "output_type": "stream",
          "name": "stderr",
          "text": [
            "/usr/local/lib/python3.7/dist-packages/ipykernel_launcher.py:1: SettingWithCopyWarning:\n",
            "\n",
            "\n",
            "A value is trying to be set on a copy of a slice from a DataFrame.\n",
            "Try using .loc[row_indexer,col_indexer] = value instead\n",
            "\n",
            "See the caveats in the documentation: https://pandas.pydata.org/pandas-docs/stable/user_guide/indexing.html#returning-a-view-versus-a-copy\n",
            "\n",
            "/usr/local/lib/python3.7/dist-packages/ipykernel_launcher.py:2: SettingWithCopyWarning:\n",
            "\n",
            "\n",
            "A value is trying to be set on a copy of a slice from a DataFrame.\n",
            "Try using .loc[row_indexer,col_indexer] = value instead\n",
            "\n",
            "See the caveats in the documentation: https://pandas.pydata.org/pandas-docs/stable/user_guide/indexing.html#returning-a-view-versus-a-copy\n",
            "\n",
            "/usr/local/lib/python3.7/dist-packages/ipykernel_launcher.py:3: SettingWithCopyWarning:\n",
            "\n",
            "\n",
            "A value is trying to be set on a copy of a slice from a DataFrame.\n",
            "Try using .loc[row_indexer,col_indexer] = value instead\n",
            "\n",
            "See the caveats in the documentation: https://pandas.pydata.org/pandas-docs/stable/user_guide/indexing.html#returning-a-view-versus-a-copy\n",
            "\n"
          ]
        }
      ]
    },
    {
      "cell_type": "code",
      "metadata": {
        "colab": {
          "base_uri": "https://localhost:8080/"
        },
        "id": "2GyyFV0KrJX-",
        "outputId": "42badd6b-435b-484b-8f0e-3b5d7abe2e03"
      },
      "source": [
        "train_df.drop(columns=\"TITLE\", inplace=True)\n",
        "valid_df.drop(columns=\"TITLE\", inplace=True)\n",
        "test_df.drop(columns=\"TITLE\", inplace=True)"
      ],
      "execution_count": null,
      "outputs": [
        {
          "output_type": "stream",
          "name": "stderr",
          "text": [
            "/usr/local/lib/python3.7/dist-packages/pandas/core/frame.py:4174: SettingWithCopyWarning:\n",
            "\n",
            "\n",
            "A value is trying to be set on a copy of a slice from a DataFrame\n",
            "\n",
            "See the caveats in the documentation: https://pandas.pydata.org/pandas-docs/stable/user_guide/indexing.html#returning-a-view-versus-a-copy\n",
            "\n"
          ]
        }
      ]
    },
    {
      "cell_type": "code",
      "metadata": {
        "colab": {
          "base_uri": "https://localhost:8080/",
          "height": 204
        },
        "id": "l6VDoVlf6ZAD",
        "outputId": "3f58f303-43ab-4c77-965b-b4ebc0646c65"
      },
      "source": [
        "train_df.head()"
      ],
      "execution_count": null,
      "outputs": [
        {
          "output_type": "execute_result",
          "data": {
            "text/html": [
              "<div>\n",
              "<style scoped>\n",
              "    .dataframe tbody tr th:only-of-type {\n",
              "        vertical-align: middle;\n",
              "    }\n",
              "\n",
              "    .dataframe tbody tr th {\n",
              "        vertical-align: top;\n",
              "    }\n",
              "\n",
              "    .dataframe thead th {\n",
              "        text-align: right;\n",
              "    }\n",
              "</style>\n",
              "<table border=\"1\" class=\"dataframe\">\n",
              "  <thead>\n",
              "    <tr style=\"text-align: right;\">\n",
              "      <th></th>\n",
              "      <th>CATEGORY</th>\n",
              "      <th>words_seq</th>\n",
              "    </tr>\n",
              "  </thead>\n",
              "  <tbody>\n",
              "    <tr>\n",
              "      <th>307341</th>\n",
              "      <td>0</td>\n",
              "      <td>[2745, 515, 674, 2, 9, 1539, 0, 20]</td>\n",
              "    </tr>\n",
              "    <tr>\n",
              "      <th>366806</th>\n",
              "      <td>0</td>\n",
              "      <td>[8, 315, 389, 553, 6, 64, 7, 0, 230, 153]</td>\n",
              "    </tr>\n",
              "    <tr>\n",
              "      <th>272258</th>\n",
              "      <td>0</td>\n",
              "      <td>[49, 89, 19, 295, 97, 100, 28, 1004, 6, 34, 577]</td>\n",
              "    </tr>\n",
              "    <tr>\n",
              "      <th>285727</th>\n",
              "      <td>0</td>\n",
              "      <td>[8, 3706, 1823, 2746, 265, 5, 534, 1428, 3707]</td>\n",
              "    </tr>\n",
              "    <tr>\n",
              "      <th>151203</th>\n",
              "      <td>2</td>\n",
              "      <td>[1824, 1825, 108, 62, 27, 4399, 1187, 2, 1826,...</td>\n",
              "    </tr>\n",
              "  </tbody>\n",
              "</table>\n",
              "</div>"
            ],
            "text/plain": [
              "        CATEGORY                                          words_seq\n",
              "307341         0                [2745, 515, 674, 2, 9, 1539, 0, 20]\n",
              "366806         0          [8, 315, 389, 553, 6, 64, 7, 0, 230, 153]\n",
              "272258         0   [49, 89, 19, 295, 97, 100, 28, 1004, 6, 34, 577]\n",
              "285727         0     [8, 3706, 1823, 2746, 265, 5, 534, 1428, 3707]\n",
              "151203         2  [1824, 1825, 108, 62, 27, 4399, 1187, 2, 1826,..."
            ]
          },
          "metadata": {},
          "execution_count": 12
        }
      ]
    },
    {
      "cell_type": "code",
      "metadata": {
        "id": "FPo0f60clulP"
      },
      "source": [
        "with open(\"./drive/MyDrive/data_nlp_100_09/output/train.feature.txt\", mode=\"w\") as f_train:\n",
        "    train_df.to_csv(f_train, header=True, index=None, sep=\"\\t\")\n",
        "    \n",
        "with open(\"./drive/MyDrive/data_nlp_100_09/output/test.feature.txt\", mode=\"w\") as f_test:\n",
        "    test_df.to_csv(f_test, header=True, index=None, sep=\"\\t\")\n",
        "    \n",
        "with open(\"./drive/MyDrive/data_nlp_100_09/output/valid.feature.txt\", mode=\"w\") as f_valid:\n",
        "    valid_df.to_csv(f_valid, header=True, index=None, sep=\"\\t\")"
      ],
      "execution_count": null,
      "outputs": []
    },
    {
      "cell_type": "markdown",
      "metadata": {
        "id": "asy1PtHMle5m"
      },
      "source": [
        "# 81. RNNによる予測"
      ]
    },
    {
      "cell_type": "code",
      "metadata": {
        "id": "BoS4P_AGhgEH"
      },
      "source": [
        "import torch\n",
        "from torch import nn\n",
        "from torch.utils.data import Dataset, DataLoader\n",
        "from torchvision import datasets\n",
        "# from torchinfo import summary\n",
        "\n",
        "class MyRNN(nn.Module):\n",
        "  def __init__(self, vocab_size, emb_size, padding_idx, output_size, hidden_size):\n",
        "    super(MyRNN, self).__init__()\n",
        "    self.hidden_size = hidden_size\n",
        "    self.emb = nn.Embedding(vocab_size, emb_size, padding_idx)\n",
        "    self.rnn = nn.RNN(emb_size, hidden_size, nonlinearity=\"tanh\", batch_first=True)\n",
        "    self.fc = nn.Linear(hidden_size, output_size)\n",
        "\n",
        "  def forward(self, x):\n",
        "    emb = self.emb(x)\n",
        "    y_rnn, h = self.rnn(emb, None)\n",
        "    y = self.fc(y_rnn[:, -1, :])\n",
        "    return y"
      ],
      "execution_count": null,
      "outputs": []
    },
    {
      "cell_type": "code",
      "metadata": {
        "colab": {
          "base_uri": "https://localhost:8080/"
        },
        "id": "fdxx6st1iwuo",
        "outputId": "63bb7078-e38f-4b0b-8f51-b59c519776ce"
      },
      "source": [
        "n_labels = len(set(word_to_id.values()))\n",
        "VOCAB_SIZE = n_labels + 1\n",
        "EMB_SIZE = 300\n",
        "PADDING_IDX = n_labels\n",
        "OUTPUT_SIZE = 4\n",
        "HIDDEN_SIZE = 50\n",
        "model = MyRNN(VOCAB_SIZE, EMB_SIZE, PADDING_IDX, OUTPUT_SIZE, HIDDEN_SIZE)\n",
        "print(model)"
      ],
      "execution_count": null,
      "outputs": [
        {
          "output_type": "stream",
          "name": "stdout",
          "text": [
            "MyRNN(\n",
            "  (emb): Embedding(7529, 300, padding_idx=7528)\n",
            "  (rnn): RNN(300, 50, batch_first=True)\n",
            "  (fc): Linear(in_features=50, out_features=4, bias=True)\n",
            ")\n"
          ]
        }
      ]
    },
    {
      "cell_type": "markdown",
      "metadata": {
        "id": "qMpilXm1H-pA"
      },
      "source": [
        "* とりあえず出力確認"
      ]
    },
    {
      "cell_type": "code",
      "metadata": {
        "colab": {
          "base_uri": "https://localhost:8080/"
        },
        "id": "Wv5xyBYg3-Xl",
        "outputId": "0051dc5f-e429-4305-f3d9-90db2c21ab3c"
      },
      "source": [
        "target_vector = [2745, 515, 674, 2, 9, 1539, 0, 20]\n",
        "X = torch.Tensor(target_vector).to(int).unsqueeze(0)\n",
        "y = model(X)\n",
        "print(torch.softmax(y, dim=-1))"
      ],
      "execution_count": null,
      "outputs": [
        {
          "output_type": "stream",
          "name": "stdout",
          "text": [
            "tensor([[0.1230, 0.3110, 0.2347, 0.3314]], grad_fn=<SoftmaxBackward>)\n"
          ]
        }
      ]
    },
    {
      "cell_type": "markdown",
      "metadata": {
        "id": "Tj6N-J_hICyX"
      },
      "source": [
        "* 改めてデータセットをしっかり定義する"
      ]
    },
    {
      "cell_type": "code",
      "metadata": {
        "id": "VEididsisWcG"
      },
      "source": [
        "import numpy as np\n",
        "\n",
        "class CustomDataset(Dataset):\n",
        "  def __init__(self, X, y):\n",
        "    self.X = np.array(X)\n",
        "    self.y = np.array(y)\n",
        "\n",
        "  def __len__(self):\n",
        "    return len(self.y)\n",
        "\n",
        "  def __getitem__(self, idx):\n",
        "    text = self.X[idx]\n",
        "    inputs = torch.tensor(text, dtype=torch.int64).clone()\n",
        "    labels = torch.tensor(self.y[idx], dtype=torch.int64).clone()\n",
        "    return {\n",
        "      'inputs': inputs,\n",
        "      'labels': labels\n",
        "    }"
      ],
      "execution_count": null,
      "outputs": []
    },
    {
      "cell_type": "code",
      "metadata": {
        "id": "ioR9iUKdui-8"
      },
      "source": [
        "dataset_train = CustomDataset(train_df[\"words_seq\"], train_df[\"CATEGORY\"])\n",
        "dataset_valid = CustomDataset(valid_df[\"words_seq\"], valid_df[\"CATEGORY\"])\n",
        "dataset_test = CustomDataset(test_df[\"words_seq\"], test_df[\"CATEGORY\"])"
      ],
      "execution_count": null,
      "outputs": []
    },
    {
      "cell_type": "code",
      "metadata": {
        "colab": {
          "base_uri": "https://localhost:8080/",
          "height": 202
        },
        "id": "hGZm6svuv-hm",
        "outputId": "7b9b9626-a3b5-48c2-c3fa-5ce5b5206d4a"
      },
      "source": [
        "# testの先頭10件を確認\n",
        "for i in range(10):\n",
        "  X = dataset_test[i]['inputs']\n",
        "  print(torch.softmax(model(X.unsqueeze(0)), dim=-1))"
      ],
      "execution_count": null,
      "outputs": [
        {
          "output_type": "error",
          "ename": "NameError",
          "evalue": "ignored",
          "traceback": [
            "\u001b[0;31m---------------------------------------------------------------------------\u001b[0m",
            "\u001b[0;31mNameError\u001b[0m                                 Traceback (most recent call last)",
            "\u001b[0;32m<ipython-input-16-62e8bb0774fe>\u001b[0m in \u001b[0;36m<module>\u001b[0;34m()\u001b[0m\n\u001b[1;32m      2\u001b[0m \u001b[0;32mfor\u001b[0m \u001b[0mi\u001b[0m \u001b[0;32min\u001b[0m \u001b[0mrange\u001b[0m\u001b[0;34m(\u001b[0m\u001b[0;36m10\u001b[0m\u001b[0;34m)\u001b[0m\u001b[0;34m:\u001b[0m\u001b[0;34m\u001b[0m\u001b[0;34m\u001b[0m\u001b[0m\n\u001b[1;32m      3\u001b[0m   \u001b[0mX\u001b[0m \u001b[0;34m=\u001b[0m \u001b[0mdataset_test\u001b[0m\u001b[0;34m[\u001b[0m\u001b[0mi\u001b[0m\u001b[0;34m]\u001b[0m\u001b[0;34m[\u001b[0m\u001b[0;34m'inputs'\u001b[0m\u001b[0;34m]\u001b[0m\u001b[0;34m\u001b[0m\u001b[0;34m\u001b[0m\u001b[0m\n\u001b[0;32m----> 4\u001b[0;31m   \u001b[0mprint\u001b[0m\u001b[0;34m(\u001b[0m\u001b[0mtorch\u001b[0m\u001b[0;34m.\u001b[0m\u001b[0msoftmax\u001b[0m\u001b[0;34m(\u001b[0m\u001b[0mmodel\u001b[0m\u001b[0;34m(\u001b[0m\u001b[0mX\u001b[0m\u001b[0;34m.\u001b[0m\u001b[0munsqueeze\u001b[0m\u001b[0;34m(\u001b[0m\u001b[0;36m0\u001b[0m\u001b[0;34m)\u001b[0m\u001b[0;34m)\u001b[0m\u001b[0;34m,\u001b[0m \u001b[0mdim\u001b[0m\u001b[0;34m=\u001b[0m\u001b[0;34m-\u001b[0m\u001b[0;36m1\u001b[0m\u001b[0;34m)\u001b[0m\u001b[0;34m)\u001b[0m\u001b[0;34m\u001b[0m\u001b[0;34m\u001b[0m\u001b[0m\n\u001b[0m",
            "\u001b[0;31mNameError\u001b[0m: name 'model' is not defined"
          ]
        }
      ]
    },
    {
      "cell_type": "markdown",
      "metadata": {
        "id": "d-_hkdSSJg9G"
      },
      "source": [
        "# 82. 確率的勾配降下法による学習"
      ]
    },
    {
      "cell_type": "code",
      "metadata": {
        "id": "CwaW8QBBwZlh"
      },
      "source": [
        "from torch.utils.data import DataLoader\n",
        "import time\n",
        "from torch import optim\n",
        "\n",
        "def calc_loss_and_accuracy(model, \n",
        "                            dataset, \n",
        "                            device='cpu', \n",
        "                            criterion=None,\n",
        "                            ):\n",
        "  \"\"\"crossEntropyLossおよびaccuracyの計算を行う。\"\"\"\n",
        "  model.to(device)\n",
        "  dataloader = DataLoader(dataset, batch_size=1, shuffle=False)\n",
        "  loss = 0.0\n",
        "  total = 0\n",
        "  correct = 0\n",
        "  with torch.no_grad():\n",
        "    for data in dataloader:\n",
        "      inputs = data['inputs'].to(device)\n",
        "      labels = data['labels'].to(device)\n",
        "      outputs = model(inputs)\n",
        "      if criterion is not None:\n",
        "        loss += criterion(outputs, labels).item()\n",
        "      pred = torch.argmax(outputs, dim=-1)\n",
        "      total += len(inputs)\n",
        "      correct += (pred == labels).sum().item()\n",
        "  return loss / len(dataset), correct / total\n",
        "\n",
        "def train_model(dataset_train, \n",
        "                dataset_valid, \n",
        "                batch_size, \n",
        "                model, \n",
        "                criterion, \n",
        "                optimizer,\n",
        "                num_epochs,\n",
        "                collate_fn=None,\n",
        "                device='cpu'\n",
        "                ):\n",
        "  model.to(device)\n",
        "  dataloader_train = DataLoader(dataset_train, batch_size=batch_size, shuffle=True, collate_fn=collate_fn)\n",
        "  dataloader_valid = DataLoader(dataset_valid, batch_size=1, shuffle=False)\n",
        "  scheduler = optim.lr_scheduler.CosineAnnealingLR(optimizer, num_epochs, eta_min=1e-5, last_epoch=-1)\n",
        "\n",
        "  log_train = []\n",
        "  log_valid = []\n",
        "  for epoch in range(num_epochs):\n",
        "    s_time = time.time()\n",
        "    model.train()\n",
        "    for data in dataloader_train:\n",
        "      optimizer.zero_grad()\n",
        "      inputs = data[\"inputs\"].to(device)\n",
        "      labels = data[\"labels\"].to(device)\n",
        "      outputs = model(inputs)\n",
        "      loss = criterion(outputs, labels)\n",
        "      loss.backward()\n",
        "      optimizer.step()\n",
        "\n",
        "    model.eval()\n",
        "    loss_train, acc_train = calc_loss_and_accuracy(model, \n",
        "                                                   dataset_train, \n",
        "                                                   device=device, \n",
        "                                                   criterion=criterion)\n",
        "    loss_valid, acc_valid = calc_loss_and_accuracy(model, \n",
        "                                                   dataset_valid, \n",
        "                                                   device=device, \n",
        "                                                   criterion=criterion)\n",
        "    log_train.append([loss_train, acc_train])\n",
        "    log_valid.append([loss_valid, acc_valid])\n",
        "    \n",
        "    torch.save(\n",
        "        obj={\n",
        "            'epoch': epoch,\n",
        "            'model_state_dict': model.state_dict(),\n",
        "            'optimizer_state_dict': optimizer.state_dict()\n",
        "        },\n",
        "        f=f\"checkpoint{epoch+1}.pt\"\n",
        "    )\n",
        "    \n",
        "    e_time = time.time()\n",
        "    print(f\"epoch: {epoch + 1}, loss_train: {loss_train:.4f}, accuracy_train: {acc_train:.4f}, loss_valid: {loss_valid:.4f}, accuracy_valid: {acc_valid:.4f}, {(e_time - s_time):.4f}sec\")\n",
        "    \n",
        "    # validのlossが3連続下がらなかったらbreak\n",
        "    if epoch > 2 and log_valid[epoch - 3][0] <= log_valid[epoch - 2][0] <= log_valid[epoch - 1][0] <= log_valid[epoch][0]:\n",
        "      break\n",
        "\n",
        "    scheduler.step()\n",
        "\n",
        "  return {\"train\": log_train, \"valid\": log_valid}\n"
      ],
      "execution_count": null,
      "outputs": []
    },
    {
      "cell_type": "code",
      "metadata": {
        "id": "Frsq9JxSM5xM"
      },
      "source": [
        "import numpy as np\n",
        "from matplotlib import pyplot as plt\n",
        "def visualize_logs(log):\n",
        "  fig, ax = plt.subplots(1, 2, figsize=(15, 5))\n",
        "  ax[0].plot(np.array(log['train']).T[0], label='train')\n",
        "  ax[0].plot(np.array(log['valid']).T[0], label='valid')\n",
        "  ax[0].set_xlabel('epoch')\n",
        "  ax[0].set_ylabel('loss')\n",
        "  ax[0].legend()\n",
        "  ax[1].plot(np.array(log['train']).T[1], label='train')\n",
        "  ax[1].plot(np.array(log['valid']).T[1], label='valid')\n",
        "  ax[1].set_xlabel('epoch')\n",
        "  ax[1].set_ylabel('accuracy')\n",
        "  ax[1].legend()\n",
        "  plt.show()"
      ],
      "execution_count": null,
      "outputs": []
    },
    {
      "cell_type": "code",
      "metadata": {
        "colab": {
          "base_uri": "https://localhost:8080/"
        },
        "id": "JGjc9MkqW65p",
        "outputId": "093d8fa9-b19f-4a95-8968-50e020c7d9ce"
      },
      "source": [
        "n_labels = len(set(word_to_id.values()))\n",
        "model_params = {\n",
        "    \"vocab_size\": n_labels + 1,\n",
        "    \"emb_size\": 300,\n",
        "    \"padding_idx\": n_labels,\n",
        "    \"output_size\": 4,\n",
        "    \"hidden_size\": 50,\n",
        "}\n",
        "LEARNING_RATE = 1e-3\n",
        "BATCH_SIZE = 1\n",
        "NUM_EPOCHS = 10\n",
        "\n",
        "model = MyRNN(**model_params)\n",
        "criterion = nn.CrossEntropyLoss()\n",
        "optimizer = torch.optim.SGD(model.parameters(), lr=LEARNING_RATE)\n",
        "\n",
        "device = 'cuda' if torch.cuda.is_available() else 'cpu'\n",
        "print(f'Using {device} device')\n",
        "\n",
        "log = train_model(dataset_train, dataset_valid, BATCH_SIZE, model, criterion, optimizer, NUM_EPOCHS, device=device)"
      ],
      "execution_count": null,
      "outputs": [
        {
          "output_type": "stream",
          "name": "stdout",
          "text": [
            "Using cuda device\n",
            "epoch: 1, loss_train: 1.0834, accuracy_train: 0.5523, loss_valid: 1.0935, accuracy_valid: 0.5472, 37.3416sec\n",
            "epoch: 2, loss_train: 0.9626, accuracy_train: 0.6256, loss_valid: 1.0059, accuracy_valid: 0.6117, 37.2176sec\n",
            "epoch: 3, loss_train: 0.7923, accuracy_train: 0.7148, loss_valid: 0.8697, accuracy_valid: 0.6814, 37.3129sec\n",
            "epoch: 4, loss_train: 0.6614, accuracy_train: 0.7644, loss_valid: 0.7772, accuracy_valid: 0.7271, 37.2303sec\n",
            "epoch: 5, loss_train: 0.5637, accuracy_train: 0.7949, loss_valid: 0.7016, accuracy_valid: 0.7519, 36.9588sec\n",
            "epoch: 6, loss_train: 0.5088, accuracy_train: 0.8167, loss_valid: 0.6581, accuracy_valid: 0.7684, 37.0329sec\n",
            "epoch: 7, loss_train: 0.4650, accuracy_train: 0.8301, loss_valid: 0.6633, accuracy_valid: 0.7721, 37.0183sec\n",
            "epoch: 8, loss_train: 0.4261, accuracy_train: 0.8435, loss_valid: 0.6140, accuracy_valid: 0.7834, 37.0748sec\n",
            "epoch: 9, loss_train: 0.4149, accuracy_train: 0.8470, loss_valid: 0.6129, accuracy_valid: 0.7819, 37.0880sec\n",
            "epoch: 10, loss_train: 0.4049, accuracy_train: 0.8506, loss_valid: 0.6131, accuracy_valid: 0.7849, 37.3125sec\n"
          ]
        }
      ]
    },
    {
      "cell_type": "code",
      "metadata": {
        "colab": {
          "base_uri": "https://localhost:8080/",
          "height": 243
        },
        "id": "j9Fh49wPYMvU",
        "outputId": "d4cd3ab7-69e2-48be-a05c-79427075e499"
      },
      "source": [
        "visualize_logs(log)"
      ],
      "execution_count": null,
      "outputs": [
        {
          "output_type": "display_data",
          "data": {
            "image/png": "[encoded data removed]",
            "text/plain": [
              "<Figure size 1080x360 with 2 Axes>"
            ]
          },
          "metadata": {
            "needs_background": "light"
          }
        }
      ]
    },
    {
      "cell_type": "code",
      "metadata": {
        "colab": {
          "base_uri": "https://localhost:8080/"
        },
        "id": "Od34-kl7cy74",
        "outputId": "8d5adbd6-6d92-4fd2-b780-bad180e29172"
      },
      "source": [
        "_, acc_train = calc_loss_and_accuracy(model, dataset_train)\n",
        "_, acc_test = calc_loss_and_accuracy(model, dataset_test)\n",
        "print(f\"正解率(train): {acc_train:.4f}\")\n",
        "print(f\"正解率(test): {acc_test:.4f}\")"
      ],
      "execution_count": null,
      "outputs": [
        {
          "output_type": "stream",
          "name": "stdout",
          "text": [
            "正解率(train): 0.8506\n",
            "正解率(test): 0.7841\n"
          ]
        }
      ]
    },
    {
      "cell_type": "markdown",
      "metadata": {
        "id": "GHkTLflRdpNP"
      },
      "source": [
        "# 83. ミニバッチ化・GPU上での学習\n",
        "- RNNにおいてミニバッチ化するためには，各words_seqの系列長を揃える必要がある\n",
        "- 最大系列長に合わせてパディングするPadsequenceクラスを定義し，Dataloaderの引数collate_fnに渡すことで，ミニバッチの取り出しごとに系列長を揃えてくれる"
      ]
    },
    {
      "cell_type": "code",
      "metadata": {
        "id": "FnFb81J-dP3p"
      },
      "source": [
        "class Padsequence():\n",
        "  def __init__(self, padding_idx):\n",
        "    self.padding_idx = padding_idx\n",
        "\n",
        "  def __call__(self, batch):\n",
        "    sorted_batch = sorted(batch, key=lambda x: x['inputs'].shape[0], reverse=True)\n",
        "    sequences = [x['inputs'] for x in sorted_batch]\n",
        "    sequences_padded = torch.nn.utils.rnn.pad_sequence(sequences, batch_first=True, padding_value=self.padding_idx)\n",
        "    labels = torch.LongTensor([x['labels'] for x in sorted_batch])\n",
        "    return {'inputs': sequences_padded, \"labels\": labels}\n",
        "  "
      ],
      "execution_count": null,
      "outputs": []
    },
    {
      "cell_type": "code",
      "metadata": {
        "colab": {
          "base_uri": "https://localhost:8080/"
        },
        "id": "a5oG1Nd8gEWm",
        "outputId": "e1e939e5-8cb3-4af7-d668-4c0872d0dc7e"
      },
      "source": [
        "n_labels = len(set(word_to_id.values()))\n",
        "model_params = {\n",
        "    \"vocab_size\": n_labels + 1,\n",
        "    \"emb_size\": 300,\n",
        "    \"padding_idx\": n_labels,\n",
        "    \"output_size\": 4,\n",
        "    \"hidden_size\": 50,\n",
        "}\n",
        "PADDING_IDX = n_labels\n",
        "LEARNING_RATE = 1e-3\n",
        "BATCH_SIZE = 32\n",
        "NUM_EPOCHS = 50\n",
        "\n",
        "model = MyRNN(**model_params)\n",
        "criterion = nn.CrossEntropyLoss()\n",
        "optimizer = torch.optim.SGD(model.parameters(), lr=LEARNING_RATE)\n",
        "\n",
        "device = 'cuda' if torch.cuda.is_available() else 'cpu'\n",
        "print(f'Using {device} device')\n",
        "\n",
        "log = train_model(dataset_train, dataset_valid, BATCH_SIZE, model, criterion, optimizer, NUM_EPOCHS, collate_fn=Padsequence(PADDING_IDX), device=device)\n"
      ],
      "execution_count": null,
      "outputs": [
        {
          "output_type": "stream",
          "name": "stdout",
          "text": [
            "Using cuda device\n",
            "epoch: 1, loss_train: 1.4260, accuracy_train: 0.2732, loss_valid: 1.4203, accuracy_valid: 0.2751, 12.8029sec\n",
            "epoch: 2, loss_train: 1.3889, accuracy_train: 0.3002, loss_valid: 1.3840, accuracy_valid: 0.3028, 12.5624sec\n",
            "epoch: 3, loss_train: 1.3637, accuracy_train: 0.3110, loss_valid: 1.3593, accuracy_valid: 0.3163, 12.5132sec\n",
            "epoch: 4, loss_train: 1.3474, accuracy_train: 0.3237, loss_valid: 1.3437, accuracy_valid: 0.3298, 12.5095sec\n",
            "epoch: 5, loss_train: 1.3369, accuracy_train: 0.3304, loss_valid: 1.3336, accuracy_valid: 0.3373, 12.7141sec\n",
            "epoch: 6, loss_train: 1.3299, accuracy_train: 0.3343, loss_valid: 1.3270, accuracy_valid: 0.3441, 12.5306sec\n",
            "epoch: 7, loss_train: 1.3247, accuracy_train: 0.3396, loss_valid: 1.3224, accuracy_valid: 0.3561, 12.5693sec\n",
            "epoch: 8, loss_train: 1.3214, accuracy_train: 0.3415, loss_valid: 1.3195, accuracy_valid: 0.3568, 12.6487sec\n",
            "epoch: 9, loss_train: 1.3182, accuracy_train: 0.3443, loss_valid: 1.3168, accuracy_valid: 0.3583, 12.7228sec\n",
            "epoch: 10, loss_train: 1.3160, accuracy_train: 0.3463, loss_valid: 1.3150, accuracy_valid: 0.3583, 12.5078sec\n",
            "epoch: 11, loss_train: 1.3142, accuracy_train: 0.3470, loss_valid: 1.3137, accuracy_valid: 0.3598, 12.6116sec\n",
            "epoch: 12, loss_train: 1.3129, accuracy_train: 0.3503, loss_valid: 1.3128, accuracy_valid: 0.3598, 12.8029sec\n",
            "epoch: 13, loss_train: 1.3113, accuracy_train: 0.3543, loss_valid: 1.3116, accuracy_valid: 0.3606, 12.5335sec\n",
            "epoch: 14, loss_train: 1.3097, accuracy_train: 0.3556, loss_valid: 1.3106, accuracy_valid: 0.3621, 12.4880sec\n",
            "epoch: 15, loss_train: 1.3087, accuracy_train: 0.3555, loss_valid: 1.3100, accuracy_valid: 0.3636, 12.4147sec\n",
            "epoch: 16, loss_train: 1.3078, accuracy_train: 0.3564, loss_valid: 1.3095, accuracy_valid: 0.3688, 12.7339sec\n",
            "epoch: 17, loss_train: 1.3072, accuracy_train: 0.3573, loss_valid: 1.3092, accuracy_valid: 0.3673, 12.4489sec\n",
            "epoch: 18, loss_train: 1.3065, accuracy_train: 0.3574, loss_valid: 1.3091, accuracy_valid: 0.3666, 12.3974sec\n",
            "epoch: 19, loss_train: 1.3058, accuracy_train: 0.3594, loss_valid: 1.3087, accuracy_valid: 0.3673, 12.3867sec\n",
            "epoch: 20, loss_train: 1.3052, accuracy_train: 0.3601, loss_valid: 1.3086, accuracy_valid: 0.3681, 12.3754sec\n",
            "epoch: 21, loss_train: 1.3046, accuracy_train: 0.3614, loss_valid: 1.3084, accuracy_valid: 0.3711, 12.3739sec\n",
            "epoch: 22, loss_train: 1.3043, accuracy_train: 0.3624, loss_valid: 1.3084, accuracy_valid: 0.3681, 12.3002sec\n",
            "epoch: 23, loss_train: 1.3039, accuracy_train: 0.3629, loss_valid: 1.3084, accuracy_valid: 0.3673, 12.5390sec\n",
            "epoch: 24, loss_train: 1.3035, accuracy_train: 0.3633, loss_valid: 1.3084, accuracy_valid: 0.3658, 12.4215sec\n",
            "epoch: 25, loss_train: 1.3033, accuracy_train: 0.3645, loss_valid: 1.3085, accuracy_valid: 0.3718, 12.3590sec\n",
            "epoch: 26, loss_train: 1.3031, accuracy_train: 0.3645, loss_valid: 1.3087, accuracy_valid: 0.3733, 12.3165sec\n",
            "epoch: 27, loss_train: 1.3031, accuracy_train: 0.3653, loss_valid: 1.3089, accuracy_valid: 0.3718, 12.6653sec\n"
          ]
        }
      ]
    },
    {
      "cell_type": "code",
      "metadata": {
        "colab": {
          "base_uri": "https://localhost:8080/"
        },
        "id": "-dOIMXnigObQ",
        "outputId": "dbe7d8c3-5bcf-4da1-a8d1-6611d11449f3"
      },
      "source": [
        "_, acc_train = calc_loss_and_accuracy(model, dataset_train)\n",
        "_, acc_test = calc_loss_and_accuracy(model, dataset_test)\n",
        "print(f\"正解率(train): {acc_train:.4f}\")\n",
        "print(f\"正解率(test): {acc_test:.4f}\")"
      ],
      "execution_count": null,
      "outputs": [
        {
          "output_type": "stream",
          "name": "stdout",
          "text": [
            "正解率(train): 0.3653\n",
            "正解率(test): 0.3643\n"
          ]
        }
      ]
    },
    {
      "cell_type": "markdown",
      "metadata": {
        "id": "vB8J0yuGjR3h"
      },
      "source": [
        "* バッチサイズあげるとだいぶ正解率落ちる(in test_dataset, batchsize=1: 0.7841-> batchsize=32: 0.3643)\n",
        "* paddingしてる分がノイズとして働いている気がする（バッチサイズが大きければ多いほど系列長も大きくなりやすいのでバッチサイズに比例しそう）\n"
      ]
    },
    {
      "cell_type": "markdown",
      "metadata": {
        "id": "V60OsqoLkE_d"
      },
      "source": [
        "# 84. 単語ベクトルの導入\n",
        "* 現在のword_to_idに対応したembeddingを抽出する"
      ]
    },
    {
      "cell_type": "code",
      "metadata": {
        "colab": {
          "base_uri": "https://localhost:8080/"
        },
        "id": "YjtSmQi3n7IN",
        "outputId": "a45c61f9-d3f7-45ac-c08d-828b47bbe4ae"
      },
      "source": [
        "!ls drive/MyDrive/data_nlp_100_09"
      ],
      "execution_count": null,
      "outputs": [
        {
          "output_type": "stream",
          "name": "stdout",
          "text": [
            "GoogleNews-vectors-negative300.bin  newsCorpora.csv  output  readme.txt\n"
          ]
        }
      ]
    },
    {
      "cell_type": "code",
      "metadata": {
        "id": "RyqdHkqolGq5"
      },
      "source": [
        "from gensim.models import KeyedVectors\n",
        "\n",
        "# 学習済みモデルのロード\n",
        "model = KeyedVectors.load_word2vec_format('./drive/MyDrive/data_nlp_100_09/GoogleNews-vectors-negative300.bin', binary=True)\n"
      ],
      "execution_count": null,
      "outputs": []
    },
    {
      "cell_type": "code",
      "metadata": {
        "colab": {
          "base_uri": "https://localhost:8080/"
        },
        "id": "ZJ8e6en7lLUP",
        "outputId": "b6abc70a-7706-4bd7-967a-28dfa7edf82e"
      },
      "source": [
        "import numpy as np\n",
        "\n",
        "n_labels = len(set(word_to_id.keys()))\n",
        "VOCAB_SIZE = n_labels + 1\n",
        "EMB_SIZE = 300\n",
        "weights = np.zeros((VOCAB_SIZE, EMB_SIZE))\n",
        "words_in_pretrained = 0\n",
        "for idx, word in enumerate(word_to_id.keys()):\n",
        "  try:\n",
        "    weights[idx] = model[word]\n",
        "    words_in_pretrained += 1\n",
        "  except KeyError:\n",
        "    weights[idx] = np.random.normal(scale=0.4, size=(EMB_SIZE,))\n",
        "weights = torch.from_numpy(weights.astype((np.float32)))\n",
        "\n",
        "print(f\"学習済ベクトル利用単語数: {words_in_pretrained} / {VOCAB_SIZE}\")\n",
        "print(weights.size())"
      ],
      "execution_count": null,
      "outputs": [
        {
          "output_type": "stream",
          "name": "stdout",
          "text": [
            "学習済ベクトル利用単語数: 11011 / 12648\n",
            "torch.Size([12648, 300])\n"
          ]
        }
      ]
    },
    {
      "cell_type": "markdown",
      "metadata": {
        "id": "ed7prvO61t9j"
      },
      "source": [
        ""
      ]
    },
    {
      "cell_type": "markdown",
      "metadata": {
        "id": "ZUhoIZ75z15N"
      },
      "source": [
        "* MyRNNの改良\n",
        "  * embedding層に初期値を設定できるようにする\n",
        "  * 次の問題用に双方向化，多層化のための設定を追加"
      ]
    },
    {
      "cell_type": "code",
      "metadata": {
        "id": "z6rmqYOMxFtr"
      },
      "source": [
        "class MyRNN(nn.Module):\n",
        "  def __init__(self, vocab_size, emb_size, padding_idx, output_size, hidden_size, num_layers, emb_weights=None, bidirectional=False):\n",
        "    super(MyRNN, self).__init__()\n",
        "    self.hidden_size = hidden_size\n",
        "    self.num_layers = num_layers\n",
        "    self.bidirectional = bidirectional\n",
        "    self.num_directions = int(bidirectional) + 1 #uni -> 1 bi -> 2\n",
        "    if emb_weights != None:\n",
        "      self.emb = nn.Embedding.from_pretrained(emb_weights, padding_idx=padding_idx)\n",
        "    else:\n",
        "      self.emb = nn.Embedding(vocab_size, emb_size, padding_idx=padding_idx)\n",
        "    self.rnn = nn.RNN(emb_size, hidden_size, num_layers, nonlinearity=\"tanh\", bidirectional=bidirectional, batch_first=True)\n",
        "    self.fc = nn.Linear(hidden_size * self.num_directions, output_size)\n",
        "\n",
        "\n",
        "  def forward(self, x):\n",
        "    emb = self.emb(x)\n",
        "    y_rnn, h = self.rnn(emb, None)\n",
        "    y = self.fc(y_rnn[:, -1, :])\n",
        "    return y"
      ],
      "execution_count": null,
      "outputs": []
    },
    {
      "cell_type": "code",
      "metadata": {
        "colab": {
          "base_uri": "https://localhost:8080/"
        },
        "id": "RJD4yQzB2EIr",
        "outputId": "5fc961c6-b889-43ba-a786-aacf607d927d"
      },
      "source": [
        "n_labels = len(set(word_to_id.keys()))\n",
        "model_params = {\n",
        "    \"vocab_size\": n_labels + 1,\n",
        "    \"emb_size\": 300,\n",
        "    \"padding_idx\": n_labels,\n",
        "    \"output_size\": 4,\n",
        "    \"hidden_size\": 50,\n",
        "    \"num_layers\": 1,\n",
        "    \"emb_weights\": weights\n",
        "}\n",
        "PADDING_IDX = n_labels\n",
        "LEARNING_RATE = 1e-3\n",
        "BATCH_SIZE = 32\n",
        "NUM_EPOCHS = 50\n",
        "\n",
        "model = MyRNN(**model_params)\n",
        "criterion = nn.CrossEntropyLoss()\n",
        "optimizer = torch.optim.SGD(model.parameters(), lr=LEARNING_RATE)\n",
        "\n",
        "device = 'cuda' if torch.cuda.is_available() else 'cpu'\n",
        "print(f'Using {device} device')\n",
        "\n",
        "log = train_model(dataset_train, dataset_valid, BATCH_SIZE, model, criterion, optimizer, NUM_EPOCHS, collate_fn=Padsequence(PADDING_IDX), device=device)\n"
      ],
      "execution_count": null,
      "outputs": [
        {
          "output_type": "stream",
          "name": "stdout",
          "text": [
            "Using cuda device\n",
            "epoch: 1, loss_train: 1.3294, accuracy_train: 0.3588, loss_valid: 1.3279, accuracy_valid: 0.3561, 13.0013sec\n",
            "epoch: 2, loss_train: 1.2864, accuracy_train: 0.3777, loss_valid: 1.2863, accuracy_valid: 0.3763, 12.8474sec\n",
            "epoch: 3, loss_train: 1.2524, accuracy_train: 0.3831, loss_valid: 1.2533, accuracy_valid: 0.3801, 12.8837sec\n",
            "epoch: 4, loss_train: 1.2262, accuracy_train: 0.3883, loss_valid: 1.2281, accuracy_valid: 0.3838, 12.9554sec\n",
            "epoch: 5, loss_train: 1.2073, accuracy_train: 0.3906, loss_valid: 1.2099, accuracy_valid: 0.3928, 12.8618sec\n",
            "epoch: 6, loss_train: 1.1949, accuracy_train: 0.3947, loss_valid: 1.1980, accuracy_valid: 0.4003, 12.9218sec\n",
            "epoch: 7, loss_train: 1.1873, accuracy_train: 0.3966, loss_valid: 1.1907, accuracy_valid: 0.3981, 12.8534sec\n",
            "epoch: 8, loss_train: 1.1828, accuracy_train: 0.3981, loss_valid: 1.1864, accuracy_valid: 0.4003, 13.0115sec\n",
            "epoch: 9, loss_train: 1.1800, accuracy_train: 0.3986, loss_valid: 1.1836, accuracy_valid: 0.4010, 12.8231sec\n",
            "epoch: 10, loss_train: 1.1782, accuracy_train: 0.4009, loss_valid: 1.1819, accuracy_valid: 0.4085, 12.8259sec\n",
            "epoch: 11, loss_train: 1.1770, accuracy_train: 0.4027, loss_valid: 1.1807, accuracy_valid: 0.4108, 12.8247sec\n",
            "epoch: 12, loss_train: 1.1760, accuracy_train: 0.4051, loss_valid: 1.1796, accuracy_valid: 0.4100, 12.8633sec\n",
            "epoch: 13, loss_train: 1.1752, accuracy_train: 0.4063, loss_valid: 1.1789, accuracy_valid: 0.4115, 12.9035sec\n",
            "epoch: 14, loss_train: 1.1747, accuracy_train: 0.4093, loss_valid: 1.1783, accuracy_valid: 0.4100, 12.8903sec\n",
            "epoch: 15, loss_train: 1.1742, accuracy_train: 0.4109, loss_valid: 1.1778, accuracy_valid: 0.4115, 12.8528sec\n",
            "epoch: 16, loss_train: 1.1737, accuracy_train: 0.4118, loss_valid: 1.1773, accuracy_valid: 0.4138, 12.8885sec\n",
            "epoch: 17, loss_train: 1.1733, accuracy_train: 0.4133, loss_valid: 1.1769, accuracy_valid: 0.4123, 12.8267sec\n",
            "epoch: 18, loss_train: 1.1728, accuracy_train: 0.4165, loss_valid: 1.1764, accuracy_valid: 0.4145, 12.8302sec\n",
            "epoch: 19, loss_train: 1.1724, accuracy_train: 0.4158, loss_valid: 1.1761, accuracy_valid: 0.4190, 12.8363sec\n",
            "epoch: 20, loss_train: 1.1721, accuracy_train: 0.4158, loss_valid: 1.1758, accuracy_valid: 0.4190, 12.8050sec\n",
            "epoch: 21, loss_train: 1.1718, accuracy_train: 0.4184, loss_valid: 1.1755, accuracy_valid: 0.4213, 12.8937sec\n",
            "epoch: 22, loss_train: 1.1715, accuracy_train: 0.4201, loss_valid: 1.1753, accuracy_valid: 0.4243, 12.8421sec\n",
            "epoch: 23, loss_train: 1.1712, accuracy_train: 0.4212, loss_valid: 1.1750, accuracy_valid: 0.4265, 12.7683sec\n",
            "epoch: 24, loss_train: 1.1709, accuracy_train: 0.4238, loss_valid: 1.1748, accuracy_valid: 0.4258, 12.9036sec\n",
            "epoch: 25, loss_train: 1.1707, accuracy_train: 0.4246, loss_valid: 1.1746, accuracy_valid: 0.4250, 12.8503sec\n",
            "epoch: 26, loss_train: 1.1704, accuracy_train: 0.4255, loss_valid: 1.1743, accuracy_valid: 0.4265, 12.7856sec\n",
            "epoch: 27, loss_train: 1.1701, accuracy_train: 0.4267, loss_valid: 1.1741, accuracy_valid: 0.4280, 12.8958sec\n",
            "epoch: 28, loss_train: 1.1699, accuracy_train: 0.4266, loss_valid: 1.1739, accuracy_valid: 0.4280, 12.7545sec\n",
            "epoch: 29, loss_train: 1.1697, accuracy_train: 0.4301, loss_valid: 1.1738, accuracy_valid: 0.4288, 12.8505sec\n",
            "epoch: 30, loss_train: 1.1695, accuracy_train: 0.4312, loss_valid: 1.1737, accuracy_valid: 0.4288, 12.7753sec\n",
            "epoch: 31, loss_train: 1.1694, accuracy_train: 0.4327, loss_valid: 1.1736, accuracy_valid: 0.4288, 12.8370sec\n",
            "epoch: 32, loss_train: 1.1693, accuracy_train: 0.4344, loss_valid: 1.1735, accuracy_valid: 0.4325, 12.8763sec\n",
            "epoch: 33, loss_train: 1.1691, accuracy_train: 0.4355, loss_valid: 1.1735, accuracy_valid: 0.4303, 12.8417sec\n",
            "epoch: 34, loss_train: 1.1689, accuracy_train: 0.4366, loss_valid: 1.1733, accuracy_valid: 0.4333, 12.8276sec\n",
            "epoch: 35, loss_train: 1.1688, accuracy_train: 0.4377, loss_valid: 1.1732, accuracy_valid: 0.4340, 12.8123sec\n",
            "epoch: 36, loss_train: 1.1687, accuracy_train: 0.4382, loss_valid: 1.1732, accuracy_valid: 0.4363, 12.7715sec\n",
            "epoch: 37, loss_train: 1.1686, accuracy_train: 0.4380, loss_valid: 1.1732, accuracy_valid: 0.4393, 12.8736sec\n",
            "epoch: 38, loss_train: 1.1685, accuracy_train: 0.4379, loss_valid: 1.1731, accuracy_valid: 0.4408, 12.9247sec\n",
            "epoch: 39, loss_train: 1.1684, accuracy_train: 0.4376, loss_valid: 1.1731, accuracy_valid: 0.4423, 12.9713sec\n",
            "epoch: 40, loss_train: 1.1684, accuracy_train: 0.4390, loss_valid: 1.1731, accuracy_valid: 0.4423, 12.8618sec\n",
            "epoch: 41, loss_train: 1.1683, accuracy_train: 0.4393, loss_valid: 1.1731, accuracy_valid: 0.4423, 12.8168sec\n",
            "epoch: 42, loss_train: 1.1682, accuracy_train: 0.4393, loss_valid: 1.1730, accuracy_valid: 0.4423, 12.8820sec\n",
            "epoch: 43, loss_train: 1.1682, accuracy_train: 0.4392, loss_valid: 1.1730, accuracy_valid: 0.4423, 12.9657sec\n",
            "epoch: 44, loss_train: 1.1681, accuracy_train: 0.4393, loss_valid: 1.1730, accuracy_valid: 0.4430, 12.9085sec\n",
            "epoch: 45, loss_train: 1.1681, accuracy_train: 0.4392, loss_valid: 1.1730, accuracy_valid: 0.4430, 12.8442sec\n",
            "epoch: 46, loss_train: 1.1681, accuracy_train: 0.4394, loss_valid: 1.1730, accuracy_valid: 0.4438, 12.9248sec\n",
            "epoch: 47, loss_train: 1.1681, accuracy_train: 0.4398, loss_valid: 1.1730, accuracy_valid: 0.4438, 12.9211sec\n",
            "epoch: 48, loss_train: 1.1681, accuracy_train: 0.4401, loss_valid: 1.1730, accuracy_valid: 0.4438, 12.8966sec\n",
            "epoch: 49, loss_train: 1.1681, accuracy_train: 0.4400, loss_valid: 1.1730, accuracy_valid: 0.4430, 12.8693sec\n",
            "epoch: 50, loss_train: 1.1681, accuracy_train: 0.4400, loss_valid: 1.1730, accuracy_valid: 0.4430, 12.9382sec\n"
          ]
        }
      ]
    },
    {
      "cell_type": "code",
      "metadata": {
        "colab": {
          "base_uri": "https://localhost:8080/",
          "height": 241
        },
        "id": "UvrgsS4c2kg7",
        "outputId": "be432213-81dd-4db9-fde7-c2bf0ed3c309"
      },
      "source": [
        "visualize_logs(log)"
      ],
      "execution_count": null,
      "outputs": [
        {
          "output_type": "display_data",
          "data": {
            "image/png": "[encoded data removed]",
            "text/plain": [
              "<Figure size 1080x360 with 2 Axes>"
            ]
          },
          "metadata": {
            "needs_background": "light"
          }
        }
      ]
    },
    {
      "cell_type": "code",
      "metadata": {
        "colab": {
          "base_uri": "https://localhost:8080/"
        },
        "id": "vdyTuj8O7_dt",
        "outputId": "fe1c616b-290e-4669-a7eb-8c56d9d2aca6"
      },
      "source": [
        "_, acc_train = calc_loss_and_accuracy(model, dataset_train)\n",
        "_, acc_test = calc_loss_and_accuracy(model, dataset_test)\n",
        "print(f\"正解率(train): {acc_train:.4f}\")\n",
        "print(f\"正解率(test): {acc_test:.4f}\")"
      ],
      "execution_count": null,
      "outputs": [
        {
          "output_type": "stream",
          "name": "stdout",
          "text": [
            "正解率(train): 0.4400\n",
            "正解率(test): 0.4310\n"
          ]
        }
      ]
    },
    {
      "cell_type": "markdown",
      "metadata": {
        "id": "UgIHf0q38HXV"
      },
      "source": [
        "バッチサイズ1でもやってみる"
      ]
    },
    {
      "cell_type": "code",
      "metadata": {
        "colab": {
          "base_uri": "https://localhost:8080/"
        },
        "id": "quVy16DP8Cz9",
        "outputId": "e5e52043-cb0e-469e-8cfb-717e28569784"
      },
      "source": [
        "n_labels = len(set(word_to_id.keys()))\n",
        "model_params = {\n",
        "    \"vocab_size\": n_labels + 1,\n",
        "    \"emb_size\": 300,\n",
        "    \"padding_idx\": n_labels,\n",
        "    \"output_size\": 4,\n",
        "    \"hidden_size\": 50,\n",
        "    \"num_layers\": 1,\n",
        "    \"emb_weights\": weights\n",
        "}\n",
        "PADDING_IDX = n_labels\n",
        "LEARNING_RATE = 1e-3\n",
        "BATCH_SIZE = 1\n",
        "NUM_EPOCHS = 10\n",
        "\n",
        "model = MyRNN(**model_params)\n",
        "criterion = nn.CrossEntropyLoss()\n",
        "optimizer = torch.optim.SGD(model.parameters(), lr=LEARNING_RATE)\n",
        "\n",
        "device = 'cuda' if torch.cuda.is_available() else 'cpu'\n",
        "print(f'Using {device} device')\n",
        "\n",
        "log = train_model(dataset_train, dataset_valid, BATCH_SIZE, model, criterion, optimizer, NUM_EPOCHS, collate_fn=Padsequence(PADDING_IDX), device=device)\n"
      ],
      "execution_count": null,
      "outputs": [
        {
          "output_type": "stream",
          "name": "stdout",
          "text": [
            "Using cuda device\n",
            "epoch: 1, loss_train: 0.6567, accuracy_train: 0.7621, loss_valid: 0.6776, accuracy_valid: 0.7556, 35.2736sec\n",
            "epoch: 2, loss_train: 0.4731, accuracy_train: 0.8328, loss_valid: 0.5134, accuracy_valid: 0.8156, 34.5815sec\n",
            "epoch: 3, loss_train: 0.4224, accuracy_train: 0.8534, loss_valid: 0.4725, accuracy_valid: 0.8456, 34.6946sec\n",
            "epoch: 4, loss_train: 0.4009, accuracy_train: 0.8565, loss_valid: 0.4513, accuracy_valid: 0.8478, 34.3760sec\n",
            "epoch: 5, loss_train: 0.3387, accuracy_train: 0.8829, loss_valid: 0.4031, accuracy_valid: 0.8643, 34.5314sec\n",
            "epoch: 6, loss_train: 0.3213, accuracy_train: 0.8926, loss_valid: 0.3891, accuracy_valid: 0.8756, 34.3280sec\n",
            "epoch: 7, loss_train: 0.2985, accuracy_train: 0.8992, loss_valid: 0.3704, accuracy_valid: 0.8808, 34.2227sec\n",
            "epoch: 8, loss_train: 0.2939, accuracy_train: 0.9001, loss_valid: 0.3731, accuracy_valid: 0.8793, 34.2058sec\n",
            "epoch: 9, loss_train: 0.2876, accuracy_train: 0.9019, loss_valid: 0.3655, accuracy_valid: 0.8786, 34.1750sec\n",
            "epoch: 10, loss_train: 0.2862, accuracy_train: 0.9050, loss_valid: 0.3631, accuracy_valid: 0.8816, 34.2378sec\n"
          ]
        }
      ]
    },
    {
      "cell_type": "code",
      "metadata": {
        "colab": {
          "base_uri": "https://localhost:8080/",
          "height": 241
        },
        "id": "-TYIuncG9oYO",
        "outputId": "1bcaf6d8-fd46-4fb6-82ec-a587c3a922a6"
      },
      "source": [
        "visualize_logs(log)"
      ],
      "execution_count": null,
      "outputs": [
        {
          "output_type": "display_data",
          "data": {
            "image/png": "[encoded data removed]",
            "text/plain": [
              "<Figure size 1080x360 with 2 Axes>"
            ]
          },
          "metadata": {
            "needs_background": "light"
          }
        }
      ]
    },
    {
      "cell_type": "code",
      "metadata": {
        "colab": {
          "base_uri": "https://localhost:8080/"
        },
        "id": "nfoAFF619q71",
        "outputId": "d559ca6e-3843-47c7-d721-9e64a7d32cb1"
      },
      "source": [
        "_, acc_train = calc_loss_and_accuracy(model, dataset_train)\n",
        "_, acc_test = calc_loss_and_accuracy(model, dataset_test)\n",
        "print(f\"正解率(train): {acc_train:.4f}\")\n",
        "print(f\"正解率(test): {acc_test:.4f}\")"
      ],
      "execution_count": null,
      "outputs": [
        {
          "output_type": "stream",
          "name": "stdout",
          "text": [
            "正解率(train): 0.9050\n",
            "正解率(test): 0.8726\n"
          ]
        }
      ]
    },
    {
      "cell_type": "markdown",
      "metadata": {
        "id": "nZxFVnbo9nrf"
      },
      "source": [
        ""
      ]
    },
    {
      "cell_type": "markdown",
      "metadata": {
        "id": "v7Yd715G8zfY"
      },
      "source": [
        "# 85. 双方向RNN・多層化\n",
        "* bidirectionalをTrueにする\n",
        "* NUM_LAYERSを2にする"
      ]
    },
    {
      "cell_type": "code",
      "metadata": {
        "colab": {
          "base_uri": "https://localhost:8080/"
        },
        "id": "jlO-8rMo-CyE",
        "outputId": "b8aa0ad5-7472-49f6-acba-f723bd08f91b"
      },
      "source": [
        "n_labels = len(set(word_to_id.keys()))\n",
        "model_params = {\n",
        "    \"vocab_size\": n_labels + 1,\n",
        "    \"emb_size\": 300,\n",
        "    \"padding_idx\": n_labels,\n",
        "    \"output_size\": 4,\n",
        "    \"hidden_size\": 50,\n",
        "    \"num_layers\": 2,\n",
        "    \"emb_weights\": weights,\n",
        "    \"bidirectional\": True,\n",
        "}\n",
        "PADDING_IDX = n_labels\n",
        "LEARNING_RATE = 1e-3\n",
        "BATCH_SIZE = 32\n",
        "NUM_EPOCHS = 10\n",
        "\n",
        "model = MyRNN(**model_params)\n",
        "criterion = nn.CrossEntropyLoss()\n",
        "optimizer = torch.optim.SGD(model.parameters(), lr=LEARNING_RATE)\n",
        "\n",
        "device = 'cuda' if torch.cuda.is_available() else 'cpu'\n",
        "print(f'Using {device} device')\n",
        "\n",
        "log = train_model(dataset_train, dataset_valid, BATCH_SIZE, model, criterion, optimizer, NUM_EPOCHS, collate_fn=Padsequence(PADDING_IDX), device=device)\n"
      ],
      "execution_count": null,
      "outputs": [
        {
          "output_type": "stream",
          "name": "stdout",
          "text": [
            "Using cuda device\n",
            "epoch: 1, loss_train: 1.2554, accuracy_train: 0.4374, loss_valid: 1.2615, accuracy_valid: 0.4400, 27.5792sec\n",
            "epoch: 2, loss_train: 1.1960, accuracy_train: 0.4400, loss_valid: 1.2018, accuracy_valid: 0.4423, 27.6564sec\n",
            "epoch: 3, loss_train: 1.1762, accuracy_train: 0.4440, loss_valid: 1.1818, accuracy_valid: 0.4423, 27.6141sec\n",
            "epoch: 4, loss_train: 1.1693, accuracy_train: 0.4472, loss_valid: 1.1747, accuracy_valid: 0.4460, 27.6473sec\n",
            "epoch: 5, loss_train: 1.1667, accuracy_train: 0.4506, loss_valid: 1.1720, accuracy_valid: 0.4460, 27.5450sec\n",
            "epoch: 6, loss_train: 1.1655, accuracy_train: 0.4495, loss_valid: 1.1708, accuracy_valid: 0.4453, 27.5125sec\n",
            "epoch: 7, loss_train: 1.1649, accuracy_train: 0.4497, loss_valid: 1.1701, accuracy_valid: 0.4483, 27.6066sec\n",
            "epoch: 8, loss_train: 1.1646, accuracy_train: 0.4503, loss_valid: 1.1698, accuracy_valid: 0.4468, 27.5403sec\n",
            "epoch: 9, loss_train: 1.1645, accuracy_train: 0.4509, loss_valid: 1.1697, accuracy_valid: 0.4483, 27.6455sec\n",
            "epoch: 10, loss_train: 1.1644, accuracy_train: 0.4516, loss_valid: 1.1696, accuracy_valid: 0.4483, 27.6057sec\n"
          ]
        }
      ]
    },
    {
      "cell_type": "code",
      "metadata": {
        "colab": {
          "base_uri": "https://localhost:8080/",
          "height": 275
        },
        "id": "XoDLB0f5ALe6",
        "outputId": "de3088ac-527f-427f-cde3-abefd6b2ec08"
      },
      "source": [
        "visualize_logs(log)\n",
        "_, acc_train = calc_loss_and_accuracy(model, dataset_train)\n",
        "_, acc_test = calc_loss_and_accuracy(model, dataset_test)\n",
        "print(f\"正解率(train): {acc_train:.4f}\")\n",
        "print(f\"正解率(test): {acc_test:.4f}\")"
      ],
      "execution_count": null,
      "outputs": [
        {
          "output_type": "display_data",
          "data": {
            "image/png": "[encoded data removed]",
            "text/plain": [
              "<Figure size 1080x360 with 2 Axes>"
            ]
          },
          "metadata": {
            "needs_background": "light"
          }
        },
        {
          "output_type": "stream",
          "name": "stdout",
          "text": [
            "正解率(train): 0.4516\n",
            "正解率(test): 0.4505\n"
          ]
        }
      ]
    },
    {
      "cell_type": "code",
      "metadata": {
        "colab": {
          "base_uri": "https://localhost:8080/"
        },
        "id": "FiooiBi3DfCw",
        "outputId": "ee1f6314-f22a-4df9-f07a-0d4260081c57"
      },
      "source": [
        "n_labels = len(set(word_to_id.keys()))\n",
        "model_params = {\n",
        "    \"vocab_size\": n_labels + 1,\n",
        "    \"emb_size\": 300,\n",
        "    \"padding_idx\": n_labels,\n",
        "    \"output_size\": 4,\n",
        "    \"hidden_size\": 50,\n",
        "    \"num_layers\": 2,\n",
        "    \"emb_weights\": weights,\n",
        "    \"bidirectional\": True,\n",
        "}\n",
        "PADDING_IDX = n_labels\n",
        "LEARNING_RATE = 1e-3\n",
        "BATCH_SIZE = 1\n",
        "NUM_EPOCHS = 10\n",
        "\n",
        "model = MyRNN(**model_params)\n",
        "criterion = nn.CrossEntropyLoss()\n",
        "optimizer = torch.optim.SGD(model.parameters(), lr=LEARNING_RATE)\n",
        "\n",
        "device = 'cuda' if torch.cuda.is_available() else 'cpu'\n",
        "print(f'Using {device} device')\n",
        "\n",
        "log = train_model(dataset_train, dataset_valid, BATCH_SIZE, model, criterion, optimizer, NUM_EPOCHS, collate_fn=Padsequence(PADDING_IDX), device=device)\n"
      ],
      "execution_count": null,
      "outputs": [
        {
          "output_type": "stream",
          "name": "stdout",
          "text": [
            "Using cuda device\n",
            "epoch: 1, loss_train: 0.6049, accuracy_train: 0.7785, loss_valid: 0.6331, accuracy_valid: 0.7699, 76.5859sec\n",
            "epoch: 2, loss_train: 0.6694, accuracy_train: 0.7470, loss_valid: 0.7402, accuracy_valid: 0.7196, 77.2014sec\n",
            "epoch: 3, loss_train: 0.4374, accuracy_train: 0.8431, loss_valid: 0.4772, accuracy_valid: 0.8298, 76.4613sec\n",
            "epoch: 4, loss_train: 0.3913, accuracy_train: 0.8615, loss_valid: 0.4538, accuracy_valid: 0.8396, 76.3562sec\n",
            "epoch: 5, loss_train: 0.3601, accuracy_train: 0.8757, loss_valid: 0.4284, accuracy_valid: 0.8576, 76.5283sec\n",
            "epoch: 6, loss_train: 0.3295, accuracy_train: 0.8886, loss_valid: 0.4187, accuracy_valid: 0.8576, 76.8695sec\n",
            "epoch: 7, loss_train: 0.3089, accuracy_train: 0.8949, loss_valid: 0.3931, accuracy_valid: 0.8681, 76.4779sec\n",
            "epoch: 8, loss_train: 0.3110, accuracy_train: 0.8955, loss_valid: 0.4097, accuracy_valid: 0.8606, 76.7392sec\n",
            "epoch: 9, loss_train: 0.2931, accuracy_train: 0.8984, loss_valid: 0.3784, accuracy_valid: 0.8673, 76.9136sec\n",
            "epoch: 10, loss_train: 0.2870, accuracy_train: 0.9007, loss_valid: 0.3739, accuracy_valid: 0.8711, 76.6155sec\n"
          ]
        }
      ]
    },
    {
      "cell_type": "code",
      "metadata": {
        "colab": {
          "base_uri": "https://localhost:8080/",
          "height": 277
        },
        "id": "G3Q9lqQ9DlrC",
        "outputId": "7e1e57fd-9482-4a6c-aa52-deab1d1a77ad"
      },
      "source": [
        "visualize_logs(log)\n",
        "_, acc_train = calc_loss_and_accuracy(model, dataset_train)\n",
        "_, acc_test = calc_loss_and_accuracy(model, dataset_test)\n",
        "print(f\"正解率(train): {acc_train:.4f}\")\n",
        "print(f\"正解率(test): {acc_test:.4f}\")"
      ],
      "execution_count": null,
      "outputs": [
        {
          "output_type": "display_data",
          "data": {
            "image/png": "[encoded data removed]",
            "text/plain": [
              "<Figure size 1080x360 with 2 Axes>"
            ]
          },
          "metadata": {
            "needs_background": "light"
          }
        },
        {
          "output_type": "stream",
          "name": "stdout",
          "text": [
            "正解率(train): 0.9007\n",
            "正解率(test): 0.8726\n"
          ]
        }
      ]
    },
    {
      "cell_type": "markdown",
      "metadata": {
        "id": "C2042qsaIAt-"
      },
      "source": [
        "# 86. 畳み込みニューラルネットワーク (CNN)"
      ]
    },
    {
      "cell_type": "code",
      "metadata": {
        "id": "3vs-TLurIAeT"
      },
      "source": [
        "from torch.nn import functional\n",
        "\n",
        "class MyCNN(nn.Module):\n",
        "  def __init__(self, vocab_size, emb_size, padding_idx, output_size, out_channels, kernel_heights, strides, padding, emb_weights=None):\n",
        "    super().__init__()\n",
        "    if emb_weights != None:\n",
        "      self.emb = nn.Embedding.from_pretrained(emb_weights, padding_idx=padding_idx)\n",
        "    else:\n",
        "      self.emb = nn.Embedding(vocab_size, emb_size, padding_idx=padding_idx)\n",
        "    self.conv = nn.Conv2d(1, out_channels, (kernel_heights, emb_size), strides, (padding, 0))\n",
        "    self.drop = nn.Dropout(0.3)\n",
        "    self.fc = nn.Linear(out_channels, output_size)\n",
        "\n",
        "  def forward(self, x):\n",
        "    emb = self.emb(x).unsqueeze(1)\n",
        "    conv = self.conv(emb)\n",
        "    act = functional.relu(conv.squeeze(3))\n",
        "    max_pool = functional.max_pool1d(act, act.size()[2])\n",
        "    out = self.fc(self.drop(max_pool.squeeze(2)))\n",
        "    return out"
      ],
      "execution_count": null,
      "outputs": []
    },
    {
      "cell_type": "code",
      "metadata": {
        "colab": {
          "base_uri": "https://localhost:8080/"
        },
        "id": "v1BEQhPyDmYy",
        "outputId": "559053b7-a9a5-4a69-ed05-eb2fb8c1b3b5"
      },
      "source": [
        "n_labels = len(set(word_to_id.keys()))\n",
        "model_params = {\n",
        "    \"vocab_size\": n_labels + 1,\n",
        "    \"emb_size\": 300,\n",
        "    \"padding_idx\": n_labels,\n",
        "    \"output_size\": 4,\n",
        "    \"out_channels\": 100,\n",
        "    \"kernel_heights\": 3,\n",
        "    \"strides\": 1,\n",
        "    \"padding\": 1,\n",
        "    \"emb_weights\": weights,\n",
        "}\n",
        "\n",
        "model = MyCNN(**model_params)\n",
        "\n",
        "for i in range(10):\n",
        "  X = dataset_train[i][\"inputs\"]\n",
        "  print(torch.softmax(model(X.unsqueeze(0)), dim=-1))"
      ],
      "execution_count": null,
      "outputs": [
        {
          "output_type": "stream",
          "name": "stdout",
          "text": [
            "tensor([[0.2113, 0.2997, 0.2617, 0.2273]], grad_fn=<SoftmaxBackward>)\n",
            "tensor([[0.2612, 0.2565, 0.2608, 0.2216]], grad_fn=<SoftmaxBackward>)\n",
            "tensor([[0.2931, 0.2209, 0.2686, 0.2174]], grad_fn=<SoftmaxBackward>)\n",
            "tensor([[0.2404, 0.2544, 0.2754, 0.2299]], grad_fn=<SoftmaxBackward>)\n",
            "tensor([[0.2499, 0.2633, 0.2581, 0.2286]], grad_fn=<SoftmaxBackward>)\n",
            "tensor([[0.2748, 0.2442, 0.2504, 0.2306]], grad_fn=<SoftmaxBackward>)\n",
            "tensor([[0.2523, 0.2542, 0.2427, 0.2508]], grad_fn=<SoftmaxBackward>)\n",
            "tensor([[0.2302, 0.2409, 0.2869, 0.2419]], grad_fn=<SoftmaxBackward>)\n",
            "tensor([[0.2656, 0.2514, 0.2550, 0.2280]], grad_fn=<SoftmaxBackward>)\n",
            "tensor([[0.3126, 0.2370, 0.2602, 0.1903]], grad_fn=<SoftmaxBackward>)\n"
          ]
        },
        {
          "output_type": "stream",
          "name": "stderr",
          "text": [
            "/usr/local/lib/python3.7/dist-packages/torch/nn/functional.py:652: UserWarning:\n",
            "\n",
            "Named tensors and all their associated APIs are an experimental feature and subject to change. Please do not use them for anything important until they are released as stable. (Triggered internally at  /pytorch/c10/core/TensorImpl.h:1156.)\n",
            "\n"
          ]
        }
      ]
    },
    {
      "cell_type": "markdown",
      "metadata": {
        "id": "OzHusOo1Lp3m"
      },
      "source": [
        "# 87. 確率的勾配降下法によるCNNの学習"
      ]
    },
    {
      "cell_type": "code",
      "metadata": {
        "colab": {
          "base_uri": "https://localhost:8080/"
        },
        "id": "ZaZcUIkuLZpH",
        "outputId": "7c7e93f9-8b72-46bf-8c27-be19286ad8a3"
      },
      "source": [
        "n_labels = len(set(word_to_id.keys()))\n",
        "model_params = {\n",
        "    \"vocab_size\": n_labels + 1,\n",
        "    \"emb_size\": 300,\n",
        "    \"padding_idx\": n_labels,\n",
        "    \"output_size\": 4,\n",
        "    \"out_channels\": 100,\n",
        "    \"kernel_heights\": 3,\n",
        "    \"strides\": 1,\n",
        "    \"padding\": 1,\n",
        "    \"emb_weights\": weights,\n",
        "}\n",
        "LEARNING_RATE = 5e-2\n",
        "BATCH_SIZE = 64\n",
        "NUM_EPOCHS = 10\n",
        "\n",
        "model = MyCNN(**model_params)\n",
        "criterion = nn.CrossEntropyLoss()\n",
        "optimizer = torch.optim.SGD(model.parameters(), lr=LEARNING_RATE)\n",
        "\n",
        "\n",
        "device = 'cuda' if torch.cuda.is_available() else 'cpu'\n",
        "print(f'Using {device} device')\n",
        "\n",
        "log = train_model(dataset_train, dataset_valid, BATCH_SIZE, model, criterion, optimizer, NUM_EPOCHS, collate_fn=Padsequence(PADDING_IDX), device=device)\n"
      ],
      "execution_count": null,
      "outputs": [
        {
          "output_type": "stream",
          "name": "stdout",
          "text": [
            "Using cuda device\n",
            "epoch: 1, loss_train: 0.7314, accuracy_train: 0.7646, loss_valid: 0.7528, accuracy_valid: 0.7504, 10.6897sec\n",
            "epoch: 2, loss_train: 0.5775, accuracy_train: 0.7826, loss_valid: 0.6160, accuracy_valid: 0.7699, 10.5214sec\n",
            "epoch: 3, loss_train: 0.5062, accuracy_train: 0.8085, loss_valid: 0.5560, accuracy_valid: 0.7864, 10.4904sec\n",
            "epoch: 4, loss_train: 0.4545, accuracy_train: 0.8401, loss_valid: 0.5129, accuracy_valid: 0.8178, 10.4697sec\n",
            "epoch: 5, loss_train: 0.4131, accuracy_train: 0.8615, loss_valid: 0.4755, accuracy_valid: 0.8358, 10.3951sec\n",
            "epoch: 6, loss_train: 0.3822, accuracy_train: 0.8776, loss_valid: 0.4491, accuracy_valid: 0.8568, 10.5449sec\n",
            "epoch: 7, loss_train: 0.3627, accuracy_train: 0.8868, loss_valid: 0.4356, accuracy_valid: 0.8583, 10.4091sec\n",
            "epoch: 8, loss_train: 0.3512, accuracy_train: 0.8901, loss_valid: 0.4243, accuracy_valid: 0.8666, 10.4346sec\n",
            "epoch: 9, loss_train: 0.3463, accuracy_train: 0.8928, loss_valid: 0.4203, accuracy_valid: 0.8681, 10.4090sec\n",
            "epoch: 10, loss_train: 0.3451, accuracy_train: 0.8933, loss_valid: 0.4193, accuracy_valid: 0.8688, 10.4455sec\n"
          ]
        }
      ]
    },
    {
      "cell_type": "code",
      "metadata": {
        "colab": {
          "base_uri": "https://localhost:8080/",
          "height": 391
        },
        "id": "wkmXTI5kMEL3",
        "outputId": "5ba621fa-5649-4cac-cbc4-784bf5033974"
      },
      "source": [
        "visualize_logs(log)\n",
        "_, acc_train = calc_loss_and_accuracy(model, dataset_train)\n",
        "_, acc_test = calc_loss_and_accuracy(model, dataset_test)\n",
        "print(f\"正解率(train): {acc_train:.4f}\")\n",
        "print(f\"正解率(test): {acc_test:.4f}\")"
      ],
      "execution_count": null,
      "outputs": [
        {
          "output_type": "display_data",
          "data": {
            "image/png": "[encoded data removed]",
            "text/plain": [
              "<Figure size 1080x360 with 2 Axes>"
            ]
          },
          "metadata": {
            "needs_background": "light"
          }
        },
        {
          "output_type": "stream",
          "name": "stdout",
          "text": [
            "正解率(train): 0.8933\n",
            "正解率(test): 0.8741\n"
          ]
        }
      ]
    },
    {
      "cell_type": "markdown",
      "metadata": {
        "id": "52fZS7R2HKQE"
      },
      "source": [
        "88. パラメータチューニング\n",
        "* LSTMを用いたモデルを作ってみる"
      ]
    },
    {
      "cell_type": "code",
      "metadata": {
        "id": "BZaxqCtmMiWr"
      },
      "source": [
        "import torch\n",
        "from torch import nn\n",
        "from torch.utils.data import Dataset, DataLoader\n",
        "from torchvision import datasets\n",
        "\n",
        "class MyLSTM(nn.Module):\n",
        "  def __init__(self, vocab_size, emb_size, padding_idx, output_size, hidden_size, num_layers, dropout=0.2, emb_weights=None, bidirectional=False):\n",
        "    super().__init__()\n",
        "    self.hidden_size = hidden_size\n",
        "    self.num_layers = num_layers\n",
        "    self.dropout = dropout\n",
        "    self.bidirectional = bidirectional\n",
        "    self.num_directions = int(bidirectional) + 1 #uni -> 1 bi -> 2\n",
        "    if emb_weights != None:\n",
        "      self.emb = nn.Embedding.from_pretrained(emb_weights, padding_idx=padding_idx)\n",
        "    else:\n",
        "      self.emb = nn.Embedding(vocab_size, emb_size, padding_idx=padding_idx)\n",
        "    self.lstm = nn.LSTM(emb_size, hidden_size, num_layers, bidirectional=bidirectional, batch_first=True, dropout=dropout)\n",
        "    self.fc = nn.Linear(hidden_size * self.num_directions, output_size)\n",
        "\n",
        "\n",
        "  def forward(self, x):\n",
        "    emb = self.emb(x)\n",
        "    y_lstm, h = self.lstm(emb, None)\n",
        "    y = self.fc(y_lstm[:, -1, :])\n",
        "    return y"
      ],
      "execution_count": null,
      "outputs": []
    },
    {
      "cell_type": "code",
      "metadata": {
        "colab": {
          "base_uri": "https://localhost:8080/"
        },
        "id": "wJfts7iZXxWh",
        "outputId": "6f1daf47-04da-4140-f3de-4d5224a684ee"
      },
      "source": [
        "!pip install optuna"
      ],
      "execution_count": null,
      "outputs": [
        {
          "output_type": "stream",
          "name": "stdout",
          "text": [
            "Collecting optuna\n",
            "  Downloading optuna-2.9.1-py3-none-any.whl (302 kB)\n",
            "\u001b[K     |████████████████████████████████| 302 kB 5.3 MB/s \n",
            "\u001b[?25hCollecting cliff\n",
            "  Downloading cliff-3.9.0-py3-none-any.whl (80 kB)\n",
            "\u001b[K     |████████████████████████████████| 80 kB 8.9 MB/s \n",
            "\u001b[?25hCollecting alembic\n",
            "  Downloading alembic-1.7.1-py3-none-any.whl (208 kB)\n",
            "\u001b[K     |████████████████████████████████| 208 kB 37.0 MB/s \n",
            "\u001b[?25hCollecting cmaes>=0.8.2\n",
            "  Downloading cmaes-0.8.2-py3-none-any.whl (15 kB)\n",
            "Requirement already satisfied: PyYAML in /usr/local/lib/python3.7/dist-packages (from optuna) (3.13)\n",
            "Requirement already satisfied: numpy in /usr/local/lib/python3.7/dist-packages (from optuna) (1.19.5)\n",
            "Requirement already satisfied: packaging>=20.0 in /usr/local/lib/python3.7/dist-packages (from optuna) (21.0)\n",
            "Collecting colorlog\n",
            "  Downloading colorlog-6.4.1-py2.py3-none-any.whl (11 kB)\n",
            "Requirement already satisfied: scipy!=1.4.0 in /usr/local/lib/python3.7/dist-packages (from optuna) (1.4.1)\n",
            "Requirement already satisfied: sqlalchemy>=1.1.0 in /usr/local/lib/python3.7/dist-packages (from optuna) (1.4.22)\n",
            "Requirement already satisfied: tqdm in /usr/local/lib/python3.7/dist-packages (from optuna) (4.62.0)\n",
            "Requirement already satisfied: pyparsing>=2.0.2 in /usr/local/lib/python3.7/dist-packages (from packaging>=20.0->optuna) (2.4.7)\n",
            "Requirement already satisfied: importlib-metadata in /usr/local/lib/python3.7/dist-packages (from sqlalchemy>=1.1.0->optuna) (4.6.4)\n",
            "Requirement already satisfied: greenlet!=0.4.17 in /usr/local/lib/python3.7/dist-packages (from sqlalchemy>=1.1.0->optuna) (1.1.1)\n",
            "Requirement already satisfied: importlib-resources in /usr/local/lib/python3.7/dist-packages (from alembic->optuna) (5.2.2)\n",
            "Collecting Mako\n",
            "  Downloading Mako-1.1.5-py2.py3-none-any.whl (75 kB)\n",
            "\u001b[K     |████████████████████████████████| 75 kB 4.2 MB/s \n",
            "\u001b[?25hCollecting cmd2>=1.0.0\n",
            "  Downloading cmd2-2.1.2-py3-none-any.whl (141 kB)\n",
            "\u001b[K     |████████████████████████████████| 141 kB 51.4 MB/s \n",
            "\u001b[?25hCollecting autopage>=0.4.0\n",
            "  Downloading autopage-0.4.0-py3-none-any.whl (20 kB)\n",
            "Requirement already satisfied: PrettyTable>=0.7.2 in /usr/local/lib/python3.7/dist-packages (from cliff->optuna) (2.1.0)\n",
            "Collecting stevedore>=2.0.1\n",
            "  Downloading stevedore-3.4.0-py3-none-any.whl (49 kB)\n",
            "\u001b[K     |████████████████████████████████| 49 kB 5.6 MB/s \n",
            "\u001b[?25hCollecting pbr!=2.1.0,>=2.0.0\n",
            "  Downloading pbr-5.6.0-py2.py3-none-any.whl (111 kB)\n",
            "\u001b[K     |████████████████████████████████| 111 kB 53.3 MB/s \n",
            "\u001b[?25hRequirement already satisfied: wcwidth>=0.1.7 in /usr/local/lib/python3.7/dist-packages (from cmd2>=1.0.0->cliff->optuna) (0.2.5)\n",
            "Requirement already satisfied: attrs>=16.3.0 in /usr/local/lib/python3.7/dist-packages (from cmd2>=1.0.0->cliff->optuna) (21.2.0)\n",
            "Requirement already satisfied: typing-extensions in /usr/local/lib/python3.7/dist-packages (from cmd2>=1.0.0->cliff->optuna) (3.7.4.3)\n",
            "Collecting pyperclip>=1.6\n",
            "  Downloading pyperclip-1.8.2.tar.gz (20 kB)\n",
            "Collecting colorama>=0.3.7\n",
            "  Downloading colorama-0.4.4-py2.py3-none-any.whl (16 kB)\n",
            "Requirement already satisfied: zipp>=0.5 in /usr/local/lib/python3.7/dist-packages (from importlib-metadata->sqlalchemy>=1.1.0->optuna) (3.5.0)\n",
            "Requirement already satisfied: MarkupSafe>=0.9.2 in /usr/local/lib/python3.7/dist-packages (from Mako->alembic->optuna) (2.0.1)\n",
            "Building wheels for collected packages: pyperclip\n",
            "  Building wheel for pyperclip (setup.py) ... \u001b[?25l\u001b[?25hdone\n",
            "  Created wheel for pyperclip: filename=pyperclip-1.8.2-py3-none-any.whl size=11136 sha256=1990bccb5d0a1aecbc9704eca29223ceb25c1d209767fce042059d2940bdc956\n",
            "  Stored in directory: /root/.cache/pip/wheels/9f/18/84/8f69f8b08169c7bae2dde6bd7daf0c19fca8c8e500ee620a28\n",
            "Successfully built pyperclip\n",
            "Installing collected packages: pyperclip, pbr, colorama, stevedore, Mako, cmd2, autopage, colorlog, cmaes, cliff, alembic, optuna\n",
            "Successfully installed Mako-1.1.5 alembic-1.7.1 autopage-0.4.0 cliff-3.9.0 cmaes-0.8.2 cmd2-2.1.2 colorama-0.4.4 colorlog-6.4.1 optuna-2.9.1 pbr-5.6.0 pyperclip-1.8.2 stevedore-3.4.0\n"
          ]
        }
      ]
    },
    {
      "cell_type": "code",
      "metadata": {
        "colab": {
          "base_uri": "https://localhost:8080/",
          "height": 120
        },
        "id": "V6MiX6L7X1Oh",
        "outputId": "c505d770-7b5b-47bd-cc50-4dcad7e88966"
      },
      "source": [
        "import optuna\n",
        "\n",
        "def objective(trial):\n",
        "  out_channels = int(trial.suggest_discrete_uniform('out_channels', 50, 200, 50))\n",
        "  learning_rate = trial.suggest_loguniform('learning_rate', 5e-4, 5e-2)\n",
        "  momentum = trial.suggest_discrete_uniform('momentum', 0.5, 0.9, 0.1)\n",
        "  batch_size = int(trial.suggest_discrete_uniform('batch_size', 16, 128, 16))\n",
        "  \n",
        "  n_labels = len(set(word_to_id.keys()))\n",
        "  model_params = {\n",
        "      \"vocab_size\": n_labels + 1,\n",
        "      \"emb_size\": 300,\n",
        "      \"padding_idx\": n_labels,\n",
        "      \"output_size\": 4,\n",
        "      \"out_channels\": out_channels,\n",
        "      \"kernel_heights\": 3,\n",
        "      \"strides\": 1,\n",
        "      \"padding\": 1,\n",
        "      \"emb_weights\": weights,\n",
        "  }\n",
        "  PADDING_IDX = n_labels\n",
        "  NUM_EPOCHS = 30\n",
        "\n",
        "  model = MyCNN(**model_params)\n",
        "  criterion = nn.CrossEntropyLoss()\n",
        "  optimizer = torch.optim.SGD(model.parameters(), lr=learning_rate, momentum=momentum)\n",
        "  device = 'cuda' if torch.cuda.is_available() else 'cpu'\n",
        "  log = train_model(dataset_train, dataset_valid, batch_size, model, criterion, optimizer, NUM_EPOCHS, collate_fn=Padsequence(PADDING_IDX), device=device)\n",
        "\n",
        "  loss_valid, _ = calc_loss_and_accuracy(model, dataset_valid)\n",
        "\n",
        "  return loss_valid\n",
        "\n",
        "\n",
        "\"\"\"def objective2(trial):\n",
        "  emb_size = int(trial.suggest_discrete_uniform('emb_size', 100, 400, 100))\n",
        "  drop_out = trial.suggest_discrete_uniform('dropout', 0.0, 0.5, 0.1)\n",
        "  learning_rate = trial.suggest_loguniform('learning_rate', 5e-4, 5e-2)\n",
        "  hidden_size = trial.suggest_discrete_uniform('hidden_size', 10, 100, 10)\n",
        "  batch_size = int(trial.suggest_discrete_uniform('batch_size', 16, 128, 16))\n",
        "  momentum = trial.suggest_discrete_uniform('momentum', 0.5, 0.9, 0.1)\n",
        "  n_labels = len(set(word_to_id.keys()))\n",
        "  model_params = {\n",
        "    \"vocab_size\": n_labels,\n",
        "    \"emb_size\": emb_size,\n",
        "    \"padding_idx\": n_labels,\n",
        "    \"output_size\": 4,\n",
        "    \"hidden_size\": hidden_size,\n",
        "    \"num_layers\": 2,\n",
        "    \"dropout\": drop_out,\n",
        "    \"emb_weights\": weights,\n",
        "    \"bidirectional\": True,\n",
        "  }\n",
        "\n",
        "  model = MyLSTM(**model_params)\n",
        "  criterion = nn.CrossEntropyLoss()\n",
        "  optimizer = torch.optim.SGD(model.parameters(), lr=learning_rate, momentum=momentum)\n",
        "  device1 = 'cuda' if torch.cuda.is_available() else 'cpu'\n",
        "  log = train_model(dataset_train, dataset_valid, BATCH_SIZE, model, criterion, optimizer, NUM_EPOCHS, collate_fn=Padsequence(PADDING_IDX), device=device1)\n",
        "\n",
        "  loss_valid, _ = calc_loss_and_accuracy(model, dataset_valid)\"\"\"\n",
        "  "
      ],
      "execution_count": null,
      "outputs": [
        {
          "output_type": "execute_result",
          "data": {
            "application/vnd.google.colaboratory.intrinsic+json": {
              "type": "string"
            },
            "text/plain": [
              "'def objective2(trial):\\n  emb_size = int(trial.suggest_discrete_uniform(\\'emb_size\\', 100, 400, 100))\\n  drop_out = trial.suggest_discrete_uniform(\\'dropout\\', 0.0, 0.5, 0.1)\\n  learning_rate = trial.suggest_loguniform(\\'learning_rate\\', 5e-4, 5e-2)\\n  hidden_size = trial.suggest_discrete_uniform(\\'hidden_size\\', 10, 100, 10)\\n  batch_size = int(trial.suggest_discrete_uniform(\\'batch_size\\', 16, 128, 16))\\n  momentum = trial.suggest_discrete_uniform(\\'momentum\\', 0.5, 0.9, 0.1)\\n  n_labels = len(set(word_to_id.keys()))\\n  model_params = {\\n    \"vocab_size\": n_labels,\\n    \"emb_size\": emb_size,\\n    \"padding_idx\": n_labels,\\n    \"output_size\": 4,\\n    \"hidden_size\": hidden_size,\\n    \"num_layers\": 2,\\n    \"dropout\": drop_out,\\n    \"emb_weights\": weights,\\n    \"bidirectional\": True,\\n  }\\n\\n  model = MyLSTM(**model_params)\\n  criterion = nn.CrossEntropyLoss()\\n  optimizer = torch.optim.SGD(model.parameters(), lr=learning_rate, momentum=momentum)\\n  device1 = \\'cuda\\' if torch.cuda.is_available() else \\'cpu\\'\\n  log = train_model(dataset_train, dataset_valid, BATCH_SIZE, model, criterion, optimizer, NUM_EPOCHS, collate_fn=Padsequence(PADDING_IDX), device=device1)\\n\\n  loss_valid, _ = calc_loss_and_accuracy(model, dataset_valid)'"
            ]
          },
          "metadata": {},
          "execution_count": 62
        }
      ]
    },
    {
      "cell_type": "code",
      "metadata": {
        "colab": {
          "base_uri": "https://localhost:8080/"
        },
        "id": "xdvlaeiSacOT",
        "outputId": "d50c4bf1-a5a4-4a1e-d1ea-7486bd9a7b79"
      },
      "source": [
        "study = optuna.create_study()\n",
        "study.optimize(objective, timeout=7200)\n",
        "\n",
        "print(\"BEST trial:\")\n",
        "trial = study.best_trial\n",
        "print(f\"  value: {trial.value:.3f}\")\n",
        "print(f\"  params: \")\n",
        "for k, v in trial.params.items():\n",
        "  print(f\"     {k}: {v}\")"
      ],
      "execution_count": null,
      "outputs": [
        {
          "output_type": "stream",
          "name": "stderr",
          "text": [
            "\u001b[32m[I 2021-09-11 01:36:28,126]\u001b[0m A new study created in memory with name: no-name-6a2a75d5-2a4b-49e3-9ea5-6520518c6436\u001b[0m\n",
            "/usr/local/lib/python3.7/dist-packages/torch/nn/functional.py:652: UserWarning:\n",
            "\n",
            "Named tensors and all their associated APIs are an experimental feature and subject to change. Please do not use them for anything important until they are released as stable. (Triggered internally at  /pytorch/c10/core/TensorImpl.h:1156.)\n",
            "\n"
          ]
        },
        {
          "output_type": "stream",
          "name": "stdout",
          "text": [
            "epoch: 1, loss_train: 1.1308, accuracy_train: 0.6725, loss_valid: 1.1384, accuracy_valid: 0.6552, 10.3630sec\n",
            "epoch: 2, loss_train: 1.0546, accuracy_train: 0.7287, loss_valid: 1.0646, accuracy_valid: 0.7144, 9.6575sec\n",
            "epoch: 3, loss_train: 0.9678, accuracy_train: 0.7452, loss_valid: 0.9798, accuracy_valid: 0.7354, 9.7840sec\n",
            "epoch: 4, loss_train: 0.8768, accuracy_train: 0.7522, loss_valid: 0.8911, accuracy_valid: 0.7399, 9.6398sec\n",
            "epoch: 5, loss_train: 0.7966, accuracy_train: 0.7610, loss_valid: 0.8135, accuracy_valid: 0.7429, 9.7356sec\n",
            "epoch: 6, loss_train: 0.7355, accuracy_train: 0.7650, loss_valid: 0.7556, accuracy_valid: 0.7489, 9.8394sec\n",
            "epoch: 7, loss_train: 0.6908, accuracy_train: 0.7682, loss_valid: 0.7137, accuracy_valid: 0.7504, 9.7602sec\n",
            "epoch: 8, loss_train: 0.6572, accuracy_train: 0.7719, loss_valid: 0.6834, accuracy_valid: 0.7549, 9.6531sec\n",
            "epoch: 9, loss_train: 0.6311, accuracy_train: 0.7759, loss_valid: 0.6605, accuracy_valid: 0.7609, 9.5659sec\n",
            "epoch: 10, loss_train: 0.6101, accuracy_train: 0.7792, loss_valid: 0.6419, accuracy_valid: 0.7661, 9.8935sec\n",
            "epoch: 11, loss_train: 0.5931, accuracy_train: 0.7823, loss_valid: 0.6270, accuracy_valid: 0.7721, 9.7464sec\n",
            "epoch: 12, loss_train: 0.5788, accuracy_train: 0.7865, loss_valid: 0.6148, accuracy_valid: 0.7774, 9.6467sec\n",
            "epoch: 13, loss_train: 0.5665, accuracy_train: 0.7901, loss_valid: 0.6048, accuracy_valid: 0.7811, 9.6334sec\n",
            "epoch: 14, loss_train: 0.5559, accuracy_train: 0.7929, loss_valid: 0.5964, accuracy_valid: 0.7826, 9.7714sec\n",
            "epoch: 15, loss_train: 0.5468, accuracy_train: 0.7956, loss_valid: 0.5888, accuracy_valid: 0.7856, 10.0359sec\n",
            "epoch: 16, loss_train: 0.5390, accuracy_train: 0.7981, loss_valid: 0.5827, accuracy_valid: 0.7871, 9.7680sec\n",
            "epoch: 17, loss_train: 0.5322, accuracy_train: 0.8012, loss_valid: 0.5770, accuracy_valid: 0.7894, 9.7737sec\n",
            "epoch: 18, loss_train: 0.5264, accuracy_train: 0.8030, loss_valid: 0.5721, accuracy_valid: 0.7909, 9.6306sec\n",
            "epoch: 19, loss_train: 0.5214, accuracy_train: 0.8052, loss_valid: 0.5681, accuracy_valid: 0.7901, 9.6809sec\n",
            "epoch: 20, loss_train: 0.5172, accuracy_train: 0.8072, loss_valid: 0.5645, accuracy_valid: 0.7901, 9.6764sec\n",
            "epoch: 21, loss_train: 0.5136, accuracy_train: 0.8077, loss_valid: 0.5617, accuracy_valid: 0.7894, 9.6175sec\n",
            "epoch: 22, loss_train: 0.5108, accuracy_train: 0.8088, loss_valid: 0.5595, accuracy_valid: 0.7924, 9.6459sec\n",
            "epoch: 23, loss_train: 0.5085, accuracy_train: 0.8100, loss_valid: 0.5578, accuracy_valid: 0.7916, 9.5500sec\n",
            "epoch: 24, loss_train: 0.5067, accuracy_train: 0.8106, loss_valid: 0.5563, accuracy_valid: 0.7916, 9.9241sec\n",
            "epoch: 25, loss_train: 0.5053, accuracy_train: 0.8109, loss_valid: 0.5551, accuracy_valid: 0.7916, 9.6845sec\n",
            "epoch: 26, loss_train: 0.5043, accuracy_train: 0.8111, loss_valid: 0.5543, accuracy_valid: 0.7924, 9.6188sec\n",
            "epoch: 27, loss_train: 0.5037, accuracy_train: 0.8114, loss_valid: 0.5538, accuracy_valid: 0.7924, 9.7131sec\n",
            "epoch: 28, loss_train: 0.5033, accuracy_train: 0.8115, loss_valid: 0.5535, accuracy_valid: 0.7931, 9.7328sec\n",
            "epoch: 29, loss_train: 0.5030, accuracy_train: 0.8115, loss_valid: 0.5533, accuracy_valid: 0.7931, 9.8559sec\n",
            "epoch: 30, loss_train: 0.5029, accuracy_train: 0.8115, loss_valid: 0.5532, accuracy_valid: 0.7931, 9.7847sec\n"
          ]
        },
        {
          "output_type": "stream",
          "name": "stderr",
          "text": [
            "\u001b[32m[I 2021-09-11 01:41:21,444]\u001b[0m Trial 0 finished with value: 0.0 and parameters: {'out_channels': 200.0, 'learning_rate': 0.0013182279255313568, 'momentum': 0.9, 'batch_size': 96.0}. Best is trial 0 with value: 0.0.\u001b[0m\n"
          ]
        },
        {
          "output_type": "stream",
          "name": "stdout",
          "text": [
            "epoch: 1, loss_train: 1.1566, accuracy_train: 0.6178, loss_valid: 1.1575, accuracy_valid: 0.6034, 9.6317sec\n",
            "epoch: 2, loss_train: 1.0795, accuracy_train: 0.7254, loss_valid: 1.0844, accuracy_valid: 0.7226, 9.7317sec\n",
            "epoch: 3, loss_train: 0.9985, accuracy_train: 0.7382, loss_valid: 1.0054, accuracy_valid: 0.7286, 9.7469sec\n",
            "epoch: 4, loss_train: 0.9169, accuracy_train: 0.7448, loss_valid: 0.9253, accuracy_valid: 0.7391, 10.0766sec\n",
            "epoch: 5, loss_train: 0.8446, accuracy_train: 0.7542, loss_valid: 0.8555, accuracy_valid: 0.7429, 10.0530sec\n",
            "epoch: 6, loss_train: 0.7872, accuracy_train: 0.7583, loss_valid: 0.8010, accuracy_valid: 0.7451, 10.1069sec\n",
            "epoch: 7, loss_train: 0.7423, accuracy_train: 0.7636, loss_valid: 0.7589, accuracy_valid: 0.7504, 10.0916sec\n",
            "epoch: 8, loss_train: 0.7080, accuracy_train: 0.7650, loss_valid: 0.7278, accuracy_valid: 0.7511, 10.0993sec\n",
            "epoch: 9, loss_train: 0.6811, accuracy_train: 0.7675, loss_valid: 0.7032, accuracy_valid: 0.7534, 10.0921sec\n",
            "epoch: 10, loss_train: 0.6593, accuracy_train: 0.7711, loss_valid: 0.6838, accuracy_valid: 0.7549, 10.1745sec\n",
            "epoch: 11, loss_train: 0.6417, accuracy_train: 0.7730, loss_valid: 0.6681, accuracy_valid: 0.7564, 10.0255sec\n",
            "epoch: 12, loss_train: 0.6270, accuracy_train: 0.7749, loss_valid: 0.6550, accuracy_valid: 0.7579, 10.1606sec\n",
            "epoch: 13, loss_train: 0.6148, accuracy_train: 0.7767, loss_valid: 0.6448, accuracy_valid: 0.7594, 10.2269sec\n",
            "epoch: 14, loss_train: 0.6044, accuracy_train: 0.7783, loss_valid: 0.6357, accuracy_valid: 0.7594, 10.1767sec\n",
            "epoch: 15, loss_train: 0.5956, accuracy_train: 0.7804, loss_valid: 0.6280, accuracy_valid: 0.7624, 10.1184sec\n",
            "epoch: 16, loss_train: 0.5880, accuracy_train: 0.7820, loss_valid: 0.6220, accuracy_valid: 0.7639, 10.0866sec\n",
            "epoch: 17, loss_train: 0.5816, accuracy_train: 0.7835, loss_valid: 0.6164, accuracy_valid: 0.7676, 10.2090sec\n",
            "epoch: 18, loss_train: 0.5762, accuracy_train: 0.7856, loss_valid: 0.6118, accuracy_valid: 0.7691, 10.1115sec\n",
            "epoch: 19, loss_train: 0.5716, accuracy_train: 0.7874, loss_valid: 0.6082, accuracy_valid: 0.7721, 10.0658sec\n",
            "epoch: 20, loss_train: 0.5677, accuracy_train: 0.7880, loss_valid: 0.6049, accuracy_valid: 0.7729, 10.0647sec\n",
            "epoch: 21, loss_train: 0.5646, accuracy_train: 0.7884, loss_valid: 0.6022, accuracy_valid: 0.7729, 10.1049sec\n",
            "epoch: 22, loss_train: 0.5620, accuracy_train: 0.7892, loss_valid: 0.6001, accuracy_valid: 0.7729, 10.1064sec\n",
            "epoch: 23, loss_train: 0.5600, accuracy_train: 0.7892, loss_valid: 0.5985, accuracy_valid: 0.7736, 10.1547sec\n",
            "epoch: 24, loss_train: 0.5583, accuracy_train: 0.7897, loss_valid: 0.5972, accuracy_valid: 0.7759, 10.1803sec\n",
            "epoch: 25, loss_train: 0.5572, accuracy_train: 0.7902, loss_valid: 0.5962, accuracy_valid: 0.7766, 10.1869sec\n",
            "epoch: 26, loss_train: 0.5563, accuracy_train: 0.7904, loss_valid: 0.5955, accuracy_valid: 0.7774, 10.0759sec\n",
            "epoch: 27, loss_train: 0.5558, accuracy_train: 0.7903, loss_valid: 0.5951, accuracy_valid: 0.7774, 10.1135sec\n",
            "epoch: 28, loss_train: 0.5554, accuracy_train: 0.7903, loss_valid: 0.5948, accuracy_valid: 0.7774, 10.0673sec\n",
            "epoch: 29, loss_train: 0.5552, accuracy_train: 0.7903, loss_valid: 0.5947, accuracy_valid: 0.7766, 10.0757sec\n",
            "epoch: 30, loss_train: 0.5552, accuracy_train: 0.7903, loss_valid: 0.5946, accuracy_valid: 0.7766, 10.1051sec\n"
          ]
        },
        {
          "output_type": "stream",
          "name": "stderr",
          "text": [
            "\u001b[32m[I 2021-09-11 01:46:24,425]\u001b[0m Trial 1 finished with value: 0.0 and parameters: {'out_channels': 50.0, 'learning_rate': 0.0022226018069729284, 'momentum': 0.8, 'batch_size': 96.0}. Best is trial 0 with value: 0.0.\u001b[0m\n"
          ]
        },
        {
          "output_type": "stream",
          "name": "stdout",
          "text": [
            "epoch: 1, loss_train: 1.1496, accuracy_train: 0.6575, loss_valid: 1.1542, accuracy_valid: 0.6439, 10.1088sec\n",
            "epoch: 2, loss_train: 1.0984, accuracy_train: 0.7176, loss_valid: 1.1055, accuracy_valid: 0.7031, 9.7089sec\n",
            "epoch: 3, loss_train: 1.0438, accuracy_train: 0.7298, loss_valid: 1.0523, accuracy_valid: 0.7136, 9.6525sec\n",
            "epoch: 4, loss_train: 0.9832, accuracy_train: 0.7436, loss_valid: 0.9930, accuracy_valid: 0.7271, 9.6501sec\n",
            "epoch: 5, loss_train: 0.9191, accuracy_train: 0.7496, loss_valid: 0.9308, accuracy_valid: 0.7354, 9.8739sec\n",
            "epoch: 6, loss_train: 0.8582, accuracy_train: 0.7561, loss_valid: 0.8722, accuracy_valid: 0.7429, 9.7872sec\n",
            "epoch: 7, loss_train: 0.8054, accuracy_train: 0.7598, loss_valid: 0.8218, accuracy_valid: 0.7504, 9.7560sec\n",
            "epoch: 8, loss_train: 0.7621, accuracy_train: 0.7626, loss_valid: 0.7805, accuracy_valid: 0.7519, 9.5452sec\n",
            "epoch: 9, loss_train: 0.7274, accuracy_train: 0.7660, loss_valid: 0.7480, accuracy_valid: 0.7534, 9.7200sec\n",
            "epoch: 10, loss_train: 0.6997, accuracy_train: 0.7684, loss_valid: 0.7226, accuracy_valid: 0.7556, 9.9008sec\n",
            "epoch: 11, loss_train: 0.6776, accuracy_train: 0.7706, loss_valid: 0.7029, accuracy_valid: 0.7571, 9.7399sec\n",
            "epoch: 12, loss_train: 0.6594, accuracy_train: 0.7724, loss_valid: 0.6861, accuracy_valid: 0.7601, 9.6449sec\n",
            "epoch: 13, loss_train: 0.6445, accuracy_train: 0.7733, loss_valid: 0.6732, accuracy_valid: 0.7609, 9.6457sec\n",
            "epoch: 14, loss_train: 0.6319, accuracy_train: 0.7749, loss_valid: 0.6622, accuracy_valid: 0.7601, 9.7399sec\n",
            "epoch: 15, loss_train: 0.6214, accuracy_train: 0.7768, loss_valid: 0.6527, accuracy_valid: 0.7639, 10.0980sec\n",
            "epoch: 16, loss_train: 0.6126, accuracy_train: 0.7789, loss_valid: 0.6452, accuracy_valid: 0.7654, 9.8863sec\n",
            "epoch: 17, loss_train: 0.6050, accuracy_train: 0.7795, loss_valid: 0.6386, accuracy_valid: 0.7669, 9.7247sec\n",
            "epoch: 18, loss_train: 0.5986, accuracy_train: 0.7808, loss_valid: 0.6331, accuracy_valid: 0.7699, 9.7155sec\n",
            "epoch: 19, loss_train: 0.5933, accuracy_train: 0.7819, loss_valid: 0.6284, accuracy_valid: 0.7706, 9.8251sec\n",
            "epoch: 20, loss_train: 0.5888, accuracy_train: 0.7824, loss_valid: 0.6247, accuracy_valid: 0.7714, 10.0537sec\n",
            "epoch: 21, loss_train: 0.5851, accuracy_train: 0.7835, loss_valid: 0.6216, accuracy_valid: 0.7721, 9.6748sec\n",
            "epoch: 22, loss_train: 0.5821, accuracy_train: 0.7843, loss_valid: 0.6191, accuracy_valid: 0.7736, 9.7592sec\n",
            "epoch: 23, loss_train: 0.5797, accuracy_train: 0.7849, loss_valid: 0.6171, accuracy_valid: 0.7744, 9.6785sec\n",
            "epoch: 24, loss_train: 0.5778, accuracy_train: 0.7850, loss_valid: 0.6155, accuracy_valid: 0.7744, 9.7745sec\n",
            "epoch: 25, loss_train: 0.5764, accuracy_train: 0.7855, loss_valid: 0.6143, accuracy_valid: 0.7766, 10.2300sec\n",
            "epoch: 26, loss_train: 0.5754, accuracy_train: 0.7858, loss_valid: 0.6135, accuracy_valid: 0.7774, 9.7526sec\n",
            "epoch: 27, loss_train: 0.5747, accuracy_train: 0.7858, loss_valid: 0.6129, accuracy_valid: 0.7774, 9.6993sec\n",
            "epoch: 28, loss_train: 0.5742, accuracy_train: 0.7862, loss_valid: 0.6125, accuracy_valid: 0.7774, 9.6263sec\n",
            "epoch: 29, loss_train: 0.5739, accuracy_train: 0.7863, loss_valid: 0.6123, accuracy_valid: 0.7774, 9.6483sec\n",
            "epoch: 30, loss_train: 0.5737, accuracy_train: 0.7864, loss_valid: 0.6121, accuracy_valid: 0.7774, 10.1993sec\n"
          ]
        },
        {
          "output_type": "stream",
          "name": "stderr",
          "text": [
            "\u001b[32m[I 2021-09-11 01:51:19,116]\u001b[0m Trial 2 finished with value: 0.0 and parameters: {'out_channels': 200.0, 'learning_rate': 0.0009502208131134619, 'momentum': 0.9, 'batch_size': 96.0}. Best is trial 0 with value: 0.0.\u001b[0m\n"
          ]
        },
        {
          "output_type": "stream",
          "name": "stdout",
          "text": [
            "epoch: 1, loss_train: 1.0956, accuracy_train: 0.7007, loss_valid: 1.1013, accuracy_valid: 0.6942, 9.6428sec\n",
            "epoch: 2, loss_train: 0.9815, accuracy_train: 0.7393, loss_valid: 0.9897, accuracy_valid: 0.7279, 9.7030sec\n",
            "epoch: 3, loss_train: 0.8573, accuracy_train: 0.7562, loss_valid: 0.8705, accuracy_valid: 0.7391, 9.7783sec\n",
            "epoch: 4, loss_train: 0.7588, accuracy_train: 0.7640, loss_valid: 0.7766, accuracy_valid: 0.7459, 9.7915sec\n",
            "epoch: 5, loss_train: 0.6921, accuracy_train: 0.7703, loss_valid: 0.7145, accuracy_valid: 0.7481, 9.7935sec\n",
            "epoch: 6, loss_train: 0.6463, accuracy_train: 0.7744, loss_valid: 0.6735, accuracy_valid: 0.7564, 9.7487sec\n",
            "epoch: 7, loss_train: 0.6129, accuracy_train: 0.7805, loss_valid: 0.6444, accuracy_valid: 0.7616, 9.7283sec\n",
            "epoch: 8, loss_train: 0.5869, accuracy_train: 0.7841, loss_valid: 0.6216, accuracy_valid: 0.7691, 9.7955sec\n",
            "epoch: 9, loss_train: 0.5660, accuracy_train: 0.7881, loss_valid: 0.6033, accuracy_valid: 0.7744, 9.9947sec\n",
            "epoch: 10, loss_train: 0.5475, accuracy_train: 0.7941, loss_valid: 0.5889, accuracy_valid: 0.7789, 9.7626sec\n",
            "epoch: 11, loss_train: 0.5319, accuracy_train: 0.7996, loss_valid: 0.5760, accuracy_valid: 0.7796, 9.6614sec\n",
            "epoch: 12, loss_train: 0.5182, accuracy_train: 0.8043, loss_valid: 0.5649, accuracy_valid: 0.7819, 9.7295sec\n",
            "epoch: 13, loss_train: 0.5058, accuracy_train: 0.8110, loss_valid: 0.5559, accuracy_valid: 0.7864, 9.7284sec\n",
            "epoch: 14, loss_train: 0.4949, accuracy_train: 0.8159, loss_valid: 0.5460, accuracy_valid: 0.7931, 10.1659sec\n",
            "epoch: 15, loss_train: 0.4850, accuracy_train: 0.8216, loss_valid: 0.5383, accuracy_valid: 0.7999, 9.8780sec\n",
            "epoch: 16, loss_train: 0.4762, accuracy_train: 0.8271, loss_valid: 0.5314, accuracy_valid: 0.8036, 9.8099sec\n",
            "epoch: 17, loss_train: 0.4684, accuracy_train: 0.8330, loss_valid: 0.5255, accuracy_valid: 0.8036, 9.6069sec\n",
            "epoch: 18, loss_train: 0.4616, accuracy_train: 0.8359, loss_valid: 0.5198, accuracy_valid: 0.8081, 9.7108sec\n",
            "epoch: 19, loss_train: 0.4556, accuracy_train: 0.8398, loss_valid: 0.5149, accuracy_valid: 0.8103, 9.9813sec\n",
            "epoch: 20, loss_train: 0.4505, accuracy_train: 0.8441, loss_valid: 0.5106, accuracy_valid: 0.8141, 9.6812sec\n",
            "epoch: 21, loss_train: 0.4462, accuracy_train: 0.8461, loss_valid: 0.5067, accuracy_valid: 0.8148, 9.8072sec\n",
            "epoch: 22, loss_train: 0.4427, accuracy_train: 0.8475, loss_valid: 0.5041, accuracy_valid: 0.8171, 9.7248sec\n",
            "epoch: 23, loss_train: 0.4399, accuracy_train: 0.8488, loss_valid: 0.5018, accuracy_valid: 0.8171, 9.7390sec\n",
            "epoch: 24, loss_train: 0.4377, accuracy_train: 0.8500, loss_valid: 0.5000, accuracy_valid: 0.8193, 10.1342sec\n",
            "epoch: 25, loss_train: 0.4360, accuracy_train: 0.8506, loss_valid: 0.4987, accuracy_valid: 0.8208, 9.7802sec\n",
            "epoch: 26, loss_train: 0.4349, accuracy_train: 0.8515, loss_valid: 0.4978, accuracy_valid: 0.8208, 9.8596sec\n",
            "epoch: 27, loss_train: 0.4341, accuracy_train: 0.8518, loss_valid: 0.4972, accuracy_valid: 0.8216, 9.6865sec\n",
            "epoch: 28, loss_train: 0.4337, accuracy_train: 0.8521, loss_valid: 0.4968, accuracy_valid: 0.8216, 9.6810sec\n",
            "epoch: 29, loss_train: 0.4335, accuracy_train: 0.8520, loss_valid: 0.4966, accuracy_valid: 0.8223, 9.9143sec\n",
            "epoch: 30, loss_train: 0.4334, accuracy_train: 0.8521, loss_valid: 0.4966, accuracy_valid: 0.8223, 9.9035sec\n"
          ]
        },
        {
          "output_type": "stream",
          "name": "stderr",
          "text": [
            "\u001b[32m[I 2021-09-11 01:56:13,930]\u001b[0m Trial 3 finished with value: 0.0 and parameters: {'out_channels': 200.0, 'learning_rate': 0.007483558629299105, 'momentum': 0.5, 'batch_size': 80.0}. Best is trial 0 with value: 0.0.\u001b[0m\n"
          ]
        },
        {
          "output_type": "stream",
          "name": "stdout",
          "text": [
            "epoch: 1, loss_train: 1.0690, accuracy_train: 0.7189, loss_valid: 1.0783, accuracy_valid: 0.6957, 9.6780sec\n",
            "epoch: 2, loss_train: 0.9139, accuracy_train: 0.7495, loss_valid: 0.9280, accuracy_valid: 0.7339, 9.7636sec\n",
            "epoch: 3, loss_train: 0.7738, accuracy_train: 0.7606, loss_valid: 0.7931, accuracy_valid: 0.7481, 9.5934sec\n",
            "epoch: 4, loss_train: 0.6863, accuracy_train: 0.7706, loss_valid: 0.7113, accuracy_valid: 0.7541, 9.9243sec\n",
            "epoch: 5, loss_train: 0.6316, accuracy_train: 0.7765, loss_valid: 0.6634, accuracy_valid: 0.7624, 9.7433sec\n",
            "epoch: 6, loss_train: 0.5936, accuracy_train: 0.7827, loss_valid: 0.6283, accuracy_valid: 0.7676, 9.6561sec\n",
            "epoch: 7, loss_train: 0.5642, accuracy_train: 0.7889, loss_valid: 0.6053, accuracy_valid: 0.7736, 9.6919sec\n",
            "epoch: 8, loss_train: 0.5400, accuracy_train: 0.7949, loss_valid: 0.5854, accuracy_valid: 0.7796, 9.6821sec\n",
            "epoch: 9, loss_train: 0.5191, accuracy_train: 0.8040, loss_valid: 0.5695, accuracy_valid: 0.7849, 10.0285sec\n",
            "epoch: 10, loss_train: 0.5002, accuracy_train: 0.8102, loss_valid: 0.5537, accuracy_valid: 0.7916, 9.8552sec\n",
            "epoch: 11, loss_train: 0.4832, accuracy_train: 0.8192, loss_valid: 0.5397, accuracy_valid: 0.8073, 9.7264sec\n",
            "epoch: 12, loss_train: 0.4675, accuracy_train: 0.8323, loss_valid: 0.5279, accuracy_valid: 0.8051, 9.6612sec\n",
            "epoch: 13, loss_train: 0.4530, accuracy_train: 0.8391, loss_valid: 0.5151, accuracy_valid: 0.8156, 9.9090sec\n",
            "epoch: 14, loss_train: 0.4399, accuracy_train: 0.8468, loss_valid: 0.5042, accuracy_valid: 0.8148, 9.6493sec\n",
            "epoch: 15, loss_train: 0.4283, accuracy_train: 0.8557, loss_valid: 0.4945, accuracy_valid: 0.8216, 9.7067sec\n",
            "epoch: 16, loss_train: 0.4178, accuracy_train: 0.8625, loss_valid: 0.4865, accuracy_valid: 0.8253, 9.8085sec\n",
            "epoch: 17, loss_train: 0.4085, accuracy_train: 0.8663, loss_valid: 0.4786, accuracy_valid: 0.8336, 9.7416sec\n",
            "epoch: 18, loss_train: 0.4004, accuracy_train: 0.8695, loss_valid: 0.4714, accuracy_valid: 0.8366, 9.9229sec\n",
            "epoch: 19, loss_train: 0.3935, accuracy_train: 0.8716, loss_valid: 0.4655, accuracy_valid: 0.8396, 9.6831sec\n",
            "epoch: 20, loss_train: 0.3877, accuracy_train: 0.8746, loss_valid: 0.4607, accuracy_valid: 0.8433, 9.5807sec\n",
            "epoch: 21, loss_train: 0.3829, accuracy_train: 0.8764, loss_valid: 0.4566, accuracy_valid: 0.8441, 9.7224sec\n",
            "epoch: 22, loss_train: 0.3790, accuracy_train: 0.8780, loss_valid: 0.4537, accuracy_valid: 0.8448, 9.6904sec\n",
            "epoch: 23, loss_train: 0.3759, accuracy_train: 0.8790, loss_valid: 0.4510, accuracy_valid: 0.8471, 9.9930sec\n",
            "epoch: 24, loss_train: 0.3735, accuracy_train: 0.8800, loss_valid: 0.4490, accuracy_valid: 0.8493, 9.7497sec\n",
            "epoch: 25, loss_train: 0.3717, accuracy_train: 0.8807, loss_valid: 0.4475, accuracy_valid: 0.8516, 9.6640sec\n",
            "epoch: 26, loss_train: 0.3704, accuracy_train: 0.8808, loss_valid: 0.4465, accuracy_valid: 0.8531, 9.7184sec\n",
            "epoch: 27, loss_train: 0.3696, accuracy_train: 0.8809, loss_valid: 0.4458, accuracy_valid: 0.8531, 9.6634sec\n",
            "epoch: 28, loss_train: 0.3692, accuracy_train: 0.8808, loss_valid: 0.4455, accuracy_valid: 0.8531, 10.1190sec\n",
            "epoch: 29, loss_train: 0.3690, accuracy_train: 0.8808, loss_valid: 0.4453, accuracy_valid: 0.8523, 9.8068sec\n",
            "epoch: 30, loss_train: 0.3689, accuracy_train: 0.8808, loss_valid: 0.4452, accuracy_valid: 0.8531, 9.7767sec\n"
          ]
        },
        {
          "output_type": "stream",
          "name": "stderr",
          "text": [
            "\u001b[32m[I 2021-09-11 02:01:07,724]\u001b[0m Trial 4 finished with value: 0.0 and parameters: {'out_channels': 200.0, 'learning_rate': 0.010665702071761346, 'momentum': 0.6, 'batch_size': 112.0}. Best is trial 0 with value: 0.0.\u001b[0m\n"
          ]
        },
        {
          "output_type": "stream",
          "name": "stdout",
          "text": [
            "epoch: 1, loss_train: 1.1667, accuracy_train: 0.5863, loss_valid: 1.1701, accuracy_valid: 0.5832, 9.6292sec\n",
            "epoch: 2, loss_train: 1.1189, accuracy_train: 0.6882, loss_valid: 1.1259, accuracy_valid: 0.6919, 9.8145sec\n",
            "epoch: 3, loss_train: 1.0745, accuracy_train: 0.7192, loss_valid: 1.0826, accuracy_valid: 0.7181, 9.8303sec\n",
            "epoch: 4, loss_train: 1.0256, accuracy_train: 0.7359, loss_valid: 1.0345, accuracy_valid: 0.7264, 9.7409sec\n",
            "epoch: 5, loss_train: 0.9726, accuracy_train: 0.7426, loss_valid: 0.9823, accuracy_valid: 0.7331, 9.8958sec\n",
            "epoch: 6, loss_train: 0.9184, accuracy_train: 0.7498, loss_valid: 0.9294, accuracy_valid: 0.7384, 9.7676sec\n",
            "epoch: 7, loss_train: 0.8666, accuracy_train: 0.7569, loss_valid: 0.8791, accuracy_valid: 0.7444, 9.9444sec\n",
            "epoch: 8, loss_train: 0.8210, accuracy_train: 0.7592, loss_valid: 0.8354, accuracy_valid: 0.7489, 9.7040sec\n",
            "epoch: 9, loss_train: 0.7827, accuracy_train: 0.7612, loss_valid: 0.7990, accuracy_valid: 0.7534, 9.6811sec\n",
            "epoch: 10, loss_train: 0.7512, accuracy_train: 0.7630, loss_valid: 0.7693, accuracy_valid: 0.7534, 9.6288sec\n",
            "epoch: 11, loss_train: 0.7254, accuracy_train: 0.7652, loss_valid: 0.7454, accuracy_valid: 0.7564, 9.6368sec\n",
            "epoch: 12, loss_train: 0.7044, accuracy_train: 0.7675, loss_valid: 0.7261, accuracy_valid: 0.7586, 10.1354sec\n",
            "epoch: 13, loss_train: 0.6871, accuracy_train: 0.7691, loss_valid: 0.7106, accuracy_valid: 0.7616, 9.9528sec\n",
            "epoch: 14, loss_train: 0.6727, accuracy_train: 0.7708, loss_valid: 0.6972, accuracy_valid: 0.7639, 9.7171sec\n",
            "epoch: 15, loss_train: 0.6607, accuracy_train: 0.7721, loss_valid: 0.6865, accuracy_valid: 0.7639, 9.6956sec\n",
            "epoch: 16, loss_train: 0.6508, accuracy_train: 0.7731, loss_valid: 0.6779, accuracy_valid: 0.7646, 9.7739sec\n",
            "epoch: 17, loss_train: 0.6424, accuracy_train: 0.7746, loss_valid: 0.6704, accuracy_valid: 0.7669, 10.2507sec\n",
            "epoch: 18, loss_train: 0.6353, accuracy_train: 0.7755, loss_valid: 0.6643, accuracy_valid: 0.7676, 9.7582sec\n",
            "epoch: 19, loss_train: 0.6294, accuracy_train: 0.7762, loss_valid: 0.6591, accuracy_valid: 0.7684, 9.7068sec\n",
            "epoch: 20, loss_train: 0.6246, accuracy_train: 0.7772, loss_valid: 0.6548, accuracy_valid: 0.7691, 9.7372sec\n",
            "epoch: 21, loss_train: 0.6206, accuracy_train: 0.7779, loss_valid: 0.6514, accuracy_valid: 0.7699, 9.7563sec\n",
            "epoch: 22, loss_train: 0.6174, accuracy_train: 0.7783, loss_valid: 0.6486, accuracy_valid: 0.7699, 9.8201sec\n",
            "epoch: 23, loss_train: 0.6148, accuracy_train: 0.7790, loss_valid: 0.6464, accuracy_valid: 0.7706, 9.7041sec\n",
            "epoch: 24, loss_train: 0.6128, accuracy_train: 0.7794, loss_valid: 0.6447, accuracy_valid: 0.7714, 9.6979sec\n",
            "epoch: 25, loss_train: 0.6114, accuracy_train: 0.7800, loss_valid: 0.6435, accuracy_valid: 0.7714, 9.7724sec\n",
            "epoch: 26, loss_train: 0.6103, accuracy_train: 0.7800, loss_valid: 0.6426, accuracy_valid: 0.7714, 9.9962sec\n",
            "epoch: 27, loss_train: 0.6096, accuracy_train: 0.7800, loss_valid: 0.6420, accuracy_valid: 0.7714, 9.8142sec\n",
            "epoch: 28, loss_train: 0.6091, accuracy_train: 0.7800, loss_valid: 0.6416, accuracy_valid: 0.7714, 9.6436sec\n",
            "epoch: 29, loss_train: 0.6088, accuracy_train: 0.7801, loss_valid: 0.6413, accuracy_valid: 0.7714, 9.8019sec\n",
            "epoch: 30, loss_train: 0.6087, accuracy_train: 0.7801, loss_valid: 0.6412, accuracy_valid: 0.7714, 9.7510sec\n"
          ]
        },
        {
          "output_type": "stream",
          "name": "stderr",
          "text": [
            "\u001b[32m[I 2021-09-11 02:06:02,401]\u001b[0m Trial 5 finished with value: 0.0 and parameters: {'out_channels': 200.0, 'learning_rate': 0.0010962875569080518, 'momentum': 0.8, 'batch_size': 64.0}. Best is trial 0 with value: 0.0.\u001b[0m\n"
          ]
        },
        {
          "output_type": "stream",
          "name": "stdout",
          "text": [
            "epoch: 1, loss_train: 1.2223, accuracy_train: 0.4999, loss_valid: 1.2208, accuracy_valid: 0.4925, 10.1232sec\n",
            "epoch: 2, loss_train: 1.1705, accuracy_train: 0.6585, loss_valid: 1.1724, accuracy_valid: 0.6364, 9.7503sec\n",
            "epoch: 3, loss_train: 1.1434, accuracy_train: 0.6901, loss_valid: 1.1480, accuracy_valid: 0.6769, 9.6610sec\n",
            "epoch: 4, loss_train: 1.1217, accuracy_train: 0.7083, loss_valid: 1.1281, accuracy_valid: 0.6912, 9.5172sec\n",
            "epoch: 5, loss_train: 1.1015, accuracy_train: 0.7202, loss_valid: 1.1090, accuracy_valid: 0.7046, 9.5723sec\n",
            "epoch: 6, loss_train: 1.0813, accuracy_train: 0.7282, loss_valid: 1.0898, accuracy_valid: 0.7121, 10.0105sec\n",
            "epoch: 7, loss_train: 1.0614, accuracy_train: 0.7329, loss_valid: 1.0705, accuracy_valid: 0.7181, 9.6734sec\n",
            "epoch: 8, loss_train: 1.0414, accuracy_train: 0.7346, loss_valid: 1.0511, accuracy_valid: 0.7204, 9.6592sec\n",
            "epoch: 9, loss_train: 1.0219, accuracy_train: 0.7402, loss_valid: 1.0321, accuracy_valid: 0.7264, 9.6234sec\n",
            "epoch: 10, loss_train: 1.0028, accuracy_train: 0.7429, loss_valid: 1.0135, accuracy_valid: 0.7316, 9.6380sec\n",
            "epoch: 11, loss_train: 0.9844, accuracy_train: 0.7442, loss_valid: 0.9956, accuracy_valid: 0.7339, 9.8490sec\n",
            "epoch: 12, loss_train: 0.9671, accuracy_train: 0.7453, loss_valid: 0.9787, accuracy_valid: 0.7331, 9.7407sec\n",
            "epoch: 13, loss_train: 0.9509, accuracy_train: 0.7483, loss_valid: 0.9629, accuracy_valid: 0.7361, 9.7095sec\n",
            "epoch: 14, loss_train: 0.9358, accuracy_train: 0.7495, loss_valid: 0.9483, accuracy_valid: 0.7384, 9.6871sec\n",
            "epoch: 15, loss_train: 0.9222, accuracy_train: 0.7506, loss_valid: 0.9350, accuracy_valid: 0.7384, 9.6089sec\n",
            "epoch: 16, loss_train: 0.9099, accuracy_train: 0.7518, loss_valid: 0.9230, accuracy_valid: 0.7399, 9.7823sec\n",
            "epoch: 17, loss_train: 0.8990, accuracy_train: 0.7527, loss_valid: 0.9125, accuracy_valid: 0.7391, 9.7940sec\n",
            "epoch: 18, loss_train: 0.8894, accuracy_train: 0.7541, loss_valid: 0.9032, accuracy_valid: 0.7384, 9.7254sec\n",
            "epoch: 19, loss_train: 0.8811, accuracy_train: 0.7555, loss_valid: 0.8952, accuracy_valid: 0.7391, 9.5461sec\n",
            "epoch: 20, loss_train: 0.8741, accuracy_train: 0.7564, loss_valid: 0.8884, accuracy_valid: 0.7421, 9.6823sec\n",
            "epoch: 21, loss_train: 0.8682, accuracy_train: 0.7571, loss_valid: 0.8827, accuracy_valid: 0.7414, 9.9714sec\n",
            "epoch: 22, loss_train: 0.8634, accuracy_train: 0.7572, loss_valid: 0.8781, accuracy_valid: 0.7421, 9.6621sec\n",
            "epoch: 23, loss_train: 0.8595, accuracy_train: 0.7577, loss_valid: 0.8743, accuracy_valid: 0.7421, 9.5867sec\n",
            "epoch: 24, loss_train: 0.8565, accuracy_train: 0.7580, loss_valid: 0.8714, accuracy_valid: 0.7421, 9.5785sec\n",
            "epoch: 25, loss_train: 0.8542, accuracy_train: 0.7582, loss_valid: 0.8692, accuracy_valid: 0.7421, 9.5799sec\n",
            "epoch: 26, loss_train: 0.8526, accuracy_train: 0.7582, loss_valid: 0.8676, accuracy_valid: 0.7421, 9.8818sec\n",
            "epoch: 27, loss_train: 0.8515, accuracy_train: 0.7583, loss_valid: 0.8666, accuracy_valid: 0.7421, 9.8231sec\n",
            "epoch: 28, loss_train: 0.8508, accuracy_train: 0.7583, loss_valid: 0.8659, accuracy_valid: 0.7429, 9.6724sec\n",
            "epoch: 29, loss_train: 0.8505, accuracy_train: 0.7584, loss_valid: 0.8656, accuracy_valid: 0.7429, 9.5537sec\n",
            "epoch: 30, loss_train: 0.8503, accuracy_train: 0.7584, loss_valid: 0.8654, accuracy_valid: 0.7429, 9.6515sec\n"
          ]
        },
        {
          "output_type": "stream",
          "name": "stderr",
          "text": [
            "\u001b[32m[I 2021-09-11 02:10:54,572]\u001b[0m Trial 6 finished with value: 0.0 and parameters: {'out_channels': 150.0, 'learning_rate': 0.001578589090321219, 'momentum': 0.6, 'batch_size': 112.0}. Best is trial 0 with value: 0.0.\u001b[0m\n"
          ]
        },
        {
          "output_type": "stream",
          "name": "stdout",
          "text": [
            "epoch: 1, loss_train: 1.1605, accuracy_train: 0.6011, loss_valid: 1.1638, accuracy_valid: 0.5900, 10.3783sec\n",
            "epoch: 2, loss_train: 1.1144, accuracy_train: 0.6742, loss_valid: 1.1212, accuracy_valid: 0.6732, 10.3402sec\n",
            "epoch: 3, loss_train: 1.0758, accuracy_train: 0.7015, loss_valid: 1.0840, accuracy_valid: 0.6994, 10.0614sec\n",
            "epoch: 4, loss_train: 1.0351, accuracy_train: 0.7180, loss_valid: 1.0445, accuracy_valid: 0.7136, 10.2211sec\n",
            "epoch: 5, loss_train: 0.9923, accuracy_train: 0.7280, loss_valid: 1.0028, accuracy_valid: 0.7234, 10.1469sec\n",
            "epoch: 6, loss_train: 0.9486, accuracy_train: 0.7397, loss_valid: 0.9605, accuracy_valid: 0.7361, 10.4902sec\n",
            "epoch: 7, loss_train: 0.9063, accuracy_train: 0.7463, loss_valid: 0.9193, accuracy_valid: 0.7384, 10.2016sec\n",
            "epoch: 8, loss_train: 0.8669, accuracy_train: 0.7515, loss_valid: 0.8814, accuracy_valid: 0.7429, 10.3294sec\n",
            "epoch: 9, loss_train: 0.8318, accuracy_train: 0.7555, loss_valid: 0.8474, accuracy_valid: 0.7429, 10.2908sec\n",
            "epoch: 10, loss_train: 0.8014, accuracy_train: 0.7587, loss_valid: 0.8181, accuracy_valid: 0.7466, 10.3124sec\n",
            "epoch: 11, loss_train: 0.7755, accuracy_train: 0.7608, loss_valid: 0.7935, accuracy_valid: 0.7489, 10.3494sec\n",
            "epoch: 12, loss_train: 0.7538, accuracy_train: 0.7634, loss_valid: 0.7729, accuracy_valid: 0.7489, 10.1368sec\n",
            "epoch: 13, loss_train: 0.7354, accuracy_train: 0.7653, loss_valid: 0.7557, accuracy_valid: 0.7519, 10.2012sec\n",
            "epoch: 14, loss_train: 0.7199, accuracy_train: 0.7663, loss_valid: 0.7413, accuracy_valid: 0.7511, 10.2573sec\n",
            "epoch: 15, loss_train: 0.7069, accuracy_train: 0.7671, loss_valid: 0.7292, accuracy_valid: 0.7519, 10.5838sec\n",
            "epoch: 16, loss_train: 0.6959, accuracy_train: 0.7679, loss_valid: 0.7193, accuracy_valid: 0.7526, 10.4038sec\n",
            "epoch: 17, loss_train: 0.6867, accuracy_train: 0.7691, loss_valid: 0.7106, accuracy_valid: 0.7526, 10.2191sec\n",
            "epoch: 18, loss_train: 0.6790, accuracy_train: 0.7698, loss_valid: 0.7035, accuracy_valid: 0.7534, 10.2205sec\n",
            "epoch: 19, loss_train: 0.6725, accuracy_train: 0.7703, loss_valid: 0.6977, accuracy_valid: 0.7549, 10.2543sec\n",
            "epoch: 20, loss_train: 0.6672, accuracy_train: 0.7706, loss_valid: 0.6929, accuracy_valid: 0.7556, 10.3898sec\n",
            "epoch: 21, loss_train: 0.6628, accuracy_train: 0.7708, loss_valid: 0.6889, accuracy_valid: 0.7571, 10.3106sec\n",
            "epoch: 22, loss_train: 0.6593, accuracy_train: 0.7716, loss_valid: 0.6856, accuracy_valid: 0.7586, 10.2247sec\n",
            "epoch: 23, loss_train: 0.6564, accuracy_train: 0.7721, loss_valid: 0.6831, accuracy_valid: 0.7586, 10.2562sec\n",
            "epoch: 24, loss_train: 0.6542, accuracy_train: 0.7724, loss_valid: 0.6812, accuracy_valid: 0.7586, 10.6405sec\n",
            "epoch: 25, loss_train: 0.6525, accuracy_train: 0.7726, loss_valid: 0.6797, accuracy_valid: 0.7594, 10.2837sec\n",
            "epoch: 26, loss_train: 0.6513, accuracy_train: 0.7728, loss_valid: 0.6785, accuracy_valid: 0.7601, 10.3229sec\n",
            "epoch: 27, loss_train: 0.6504, accuracy_train: 0.7729, loss_valid: 0.6778, accuracy_valid: 0.7601, 10.1453sec\n",
            "epoch: 28, loss_train: 0.6498, accuracy_train: 0.7729, loss_valid: 0.6772, accuracy_valid: 0.7601, 10.2960sec\n",
            "epoch: 29, loss_train: 0.6494, accuracy_train: 0.7729, loss_valid: 0.6769, accuracy_valid: 0.7601, 10.2223sec\n",
            "epoch: 30, loss_train: 0.6492, accuracy_train: 0.7729, loss_valid: 0.6767, accuracy_valid: 0.7601, 10.2835sec\n"
          ]
        },
        {
          "output_type": "stream",
          "name": "stderr",
          "text": [
            "\u001b[32m[I 2021-09-11 02:16:04,209]\u001b[0m Trial 7 finished with value: 0.0 and parameters: {'out_channels': 200.0, 'learning_rate': 0.0006597026193452053, 'momentum': 0.7, 'batch_size': 32.0}. Best is trial 0 with value: 0.0.\u001b[0m\n"
          ]
        },
        {
          "output_type": "stream",
          "name": "stdout",
          "text": [
            "epoch: 1, loss_train: 0.8575, accuracy_train: 0.7534, loss_valid: 0.8716, accuracy_valid: 0.7391, 10.1224sec\n",
            "epoch: 2, loss_train: 0.6418, accuracy_train: 0.7738, loss_valid: 0.6704, accuracy_valid: 0.7601, 10.1005sec\n",
            "epoch: 3, loss_train: 0.5578, accuracy_train: 0.7914, loss_valid: 0.5990, accuracy_valid: 0.7744, 10.2767sec\n",
            "epoch: 4, loss_train: 0.5018, accuracy_train: 0.8121, loss_valid: 0.5542, accuracy_valid: 0.7856, 10.2027sec\n",
            "epoch: 5, loss_train: 0.4542, accuracy_train: 0.8431, loss_valid: 0.5150, accuracy_valid: 0.8148, 10.1475sec\n",
            "epoch: 6, loss_train: 0.4088, accuracy_train: 0.8660, loss_valid: 0.4775, accuracy_valid: 0.8358, 10.1365sec\n",
            "epoch: 7, loss_train: 0.3691, accuracy_train: 0.8848, loss_valid: 0.4469, accuracy_valid: 0.8568, 10.0408sec\n",
            "epoch: 8, loss_train: 0.3348, accuracy_train: 0.8949, loss_valid: 0.4161, accuracy_valid: 0.8613, 10.3168sec\n",
            "epoch: 9, loss_train: 0.3084, accuracy_train: 0.9023, loss_valid: 0.3926, accuracy_valid: 0.8711, 9.9892sec\n",
            "epoch: 10, loss_train: 0.2877, accuracy_train: 0.9082, loss_valid: 0.3769, accuracy_valid: 0.8786, 10.0326sec\n",
            "epoch: 11, loss_train: 0.2705, accuracy_train: 0.9160, loss_valid: 0.3644, accuracy_valid: 0.8831, 9.9495sec\n",
            "epoch: 12, loss_train: 0.2569, accuracy_train: 0.9210, loss_valid: 0.3554, accuracy_valid: 0.8846, 10.2547sec\n",
            "epoch: 13, loss_train: 0.2457, accuracy_train: 0.9249, loss_valid: 0.3486, accuracy_valid: 0.8891, 9.9813sec\n",
            "epoch: 14, loss_train: 0.2367, accuracy_train: 0.9275, loss_valid: 0.3453, accuracy_valid: 0.8868, 9.9969sec\n",
            "epoch: 15, loss_train: 0.2276, accuracy_train: 0.9303, loss_valid: 0.3373, accuracy_valid: 0.8921, 10.0969sec\n",
            "epoch: 16, loss_train: 0.2207, accuracy_train: 0.9329, loss_valid: 0.3345, accuracy_valid: 0.8928, 10.0988sec\n",
            "epoch: 17, loss_train: 0.2145, accuracy_train: 0.9354, loss_valid: 0.3290, accuracy_valid: 0.8958, 10.1888sec\n",
            "epoch: 18, loss_train: 0.2097, accuracy_train: 0.9375, loss_valid: 0.3259, accuracy_valid: 0.8966, 10.3409sec\n",
            "epoch: 19, loss_train: 0.2055, accuracy_train: 0.9381, loss_valid: 0.3244, accuracy_valid: 0.8943, 10.0174sec\n",
            "epoch: 20, loss_train: 0.2019, accuracy_train: 0.9394, loss_valid: 0.3216, accuracy_valid: 0.8988, 9.9402sec\n",
            "epoch: 21, loss_train: 0.1990, accuracy_train: 0.9404, loss_valid: 0.3191, accuracy_valid: 0.8988, 10.3399sec\n",
            "epoch: 22, loss_train: 0.1967, accuracy_train: 0.9404, loss_valid: 0.3182, accuracy_valid: 0.9010, 10.1482sec\n",
            "epoch: 23, loss_train: 0.1950, accuracy_train: 0.9408, loss_valid: 0.3181, accuracy_valid: 0.8966, 10.1465sec\n",
            "epoch: 24, loss_train: 0.1935, accuracy_train: 0.9416, loss_valid: 0.3171, accuracy_valid: 0.8988, 10.1025sec\n",
            "epoch: 25, loss_train: 0.1924, accuracy_train: 0.9415, loss_valid: 0.3163, accuracy_valid: 0.8996, 10.2061sec\n",
            "epoch: 26, loss_train: 0.1917, accuracy_train: 0.9417, loss_valid: 0.3160, accuracy_valid: 0.9003, 9.9706sec\n",
            "epoch: 27, loss_train: 0.1912, accuracy_train: 0.9418, loss_valid: 0.3157, accuracy_valid: 0.9003, 9.9280sec\n",
            "epoch: 28, loss_train: 0.1909, accuracy_train: 0.9417, loss_valid: 0.3155, accuracy_valid: 0.9003, 9.9671sec\n",
            "epoch: 29, loss_train: 0.1907, accuracy_train: 0.9417, loss_valid: 0.3155, accuracy_valid: 0.9003, 10.1380sec\n",
            "epoch: 30, loss_train: 0.1907, accuracy_train: 0.9418, loss_valid: 0.3154, accuracy_valid: 0.9003, 10.3250sec\n"
          ]
        },
        {
          "output_type": "stream",
          "name": "stderr",
          "text": [
            "\u001b[32m[I 2021-09-11 02:21:08,558]\u001b[0m Trial 8 finished with value: 0.0 and parameters: {'out_channels': 150.0, 'learning_rate': 0.0027105737262657125, 'momentum': 0.9, 'batch_size': 48.0}. Best is trial 0 with value: 0.0.\u001b[0m\n"
          ]
        },
        {
          "output_type": "stream",
          "name": "stdout",
          "text": [
            "epoch: 1, loss_train: 1.3036, accuracy_train: 0.4137, loss_valid: 1.2980, accuracy_valid: 0.4153, 10.0739sec\n",
            "epoch: 2, loss_train: 1.2343, accuracy_train: 0.5141, loss_valid: 1.2293, accuracy_valid: 0.5202, 10.0171sec\n",
            "epoch: 3, loss_train: 1.1937, accuracy_train: 0.6150, loss_valid: 1.1912, accuracy_valid: 0.6147, 10.0989sec\n",
            "epoch: 4, loss_train: 1.1669, accuracy_train: 0.6591, loss_valid: 1.1670, accuracy_valid: 0.6499, 10.0365sec\n",
            "epoch: 5, loss_train: 1.1456, accuracy_train: 0.6822, loss_valid: 1.1478, accuracy_valid: 0.6649, 10.0041sec\n",
            "epoch: 6, loss_train: 1.1267, accuracy_train: 0.6947, loss_valid: 1.1307, accuracy_valid: 0.6792, 10.0013sec\n",
            "epoch: 7, loss_train: 1.1091, accuracy_train: 0.7081, loss_valid: 1.1145, accuracy_valid: 0.6897, 10.1469sec\n",
            "epoch: 8, loss_train: 1.0920, accuracy_train: 0.7166, loss_valid: 1.0985, accuracy_valid: 0.6994, 9.9847sec\n",
            "epoch: 9, loss_train: 1.0754, accuracy_train: 0.7227, loss_valid: 1.0828, accuracy_valid: 0.7099, 10.0593sec\n",
            "epoch: 10, loss_train: 1.0590, accuracy_train: 0.7275, loss_valid: 1.0671, accuracy_valid: 0.7151, 10.0757sec\n",
            "epoch: 11, loss_train: 1.0431, accuracy_train: 0.7314, loss_valid: 1.0517, accuracy_valid: 0.7174, 10.0706sec\n",
            "epoch: 12, loss_train: 1.0281, accuracy_train: 0.7337, loss_valid: 1.0371, accuracy_valid: 0.7204, 10.1456sec\n",
            "epoch: 13, loss_train: 1.0138, accuracy_train: 0.7365, loss_valid: 1.0232, accuracy_valid: 0.7219, 10.1033sec\n",
            "epoch: 14, loss_train: 1.0004, accuracy_train: 0.7385, loss_valid: 1.0100, accuracy_valid: 0.7241, 9.9756sec\n",
            "epoch: 15, loss_train: 0.9881, accuracy_train: 0.7405, loss_valid: 0.9979, accuracy_valid: 0.7264, 10.0284sec\n",
            "epoch: 16, loss_train: 0.9769, accuracy_train: 0.7415, loss_valid: 0.9868, accuracy_valid: 0.7256, 10.0561sec\n",
            "epoch: 17, loss_train: 0.9667, accuracy_train: 0.7417, loss_valid: 0.9768, accuracy_valid: 0.7271, 10.0133sec\n",
            "epoch: 18, loss_train: 0.9576, accuracy_train: 0.7429, loss_valid: 0.9677, accuracy_valid: 0.7279, 10.0178sec\n",
            "epoch: 19, loss_train: 0.9496, accuracy_train: 0.7436, loss_valid: 0.9599, accuracy_valid: 0.7286, 10.0318sec\n",
            "epoch: 20, loss_train: 0.9428, accuracy_train: 0.7441, loss_valid: 0.9532, accuracy_valid: 0.7279, 10.0939sec\n",
            "epoch: 21, loss_train: 0.9371, accuracy_train: 0.7448, loss_valid: 0.9475, accuracy_valid: 0.7286, 10.0605sec\n",
            "epoch: 22, loss_train: 0.9323, accuracy_train: 0.7454, loss_valid: 0.9428, accuracy_valid: 0.7294, 10.1146sec\n",
            "epoch: 23, loss_train: 0.9285, accuracy_train: 0.7456, loss_valid: 0.9391, accuracy_valid: 0.7301, 9.9795sec\n",
            "epoch: 24, loss_train: 0.9256, accuracy_train: 0.7460, loss_valid: 0.9361, accuracy_valid: 0.7301, 10.0389sec\n",
            "epoch: 25, loss_train: 0.9233, accuracy_train: 0.7464, loss_valid: 0.9339, accuracy_valid: 0.7301, 9.9875sec\n",
            "epoch: 26, loss_train: 0.9217, accuracy_train: 0.7468, loss_valid: 0.9323, accuracy_valid: 0.7324, 9.9240sec\n",
            "epoch: 27, loss_train: 0.9206, accuracy_train: 0.7468, loss_valid: 0.9312, accuracy_valid: 0.7331, 10.0507sec\n",
            "epoch: 28, loss_train: 0.9199, accuracy_train: 0.7469, loss_valid: 0.9305, accuracy_valid: 0.7331, 10.1074sec\n",
            "epoch: 29, loss_train: 0.9195, accuracy_train: 0.7469, loss_valid: 0.9301, accuracy_valid: 0.7331, 10.1700sec\n",
            "epoch: 30, loss_train: 0.9193, accuracy_train: 0.7470, loss_valid: 0.9299, accuracy_valid: 0.7331, 10.0834sec\n"
          ]
        },
        {
          "output_type": "stream",
          "name": "stderr",
          "text": [
            "\u001b[32m[I 2021-09-11 02:26:10,865]\u001b[0m Trial 9 finished with value: 0.0 and parameters: {'out_channels': 50.0, 'learning_rate': 0.001381090412110436, 'momentum': 0.5, 'batch_size': 96.0}. Best is trial 0 with value: 0.0.\u001b[0m\n"
          ]
        },
        {
          "output_type": "stream",
          "name": "stdout",
          "text": [
            "epoch: 1, loss_train: 0.5659, accuracy_train: 0.7839, loss_valid: 0.6072, accuracy_valid: 0.7691, 10.0331sec\n",
            "epoch: 2, loss_train: 0.4113, accuracy_train: 0.8704, loss_valid: 0.4812, accuracy_valid: 0.8426, 9.9893sec\n",
            "epoch: 3, loss_train: 0.3027, accuracy_train: 0.9070, loss_valid: 0.3902, accuracy_valid: 0.8748, 10.0195sec\n",
            "epoch: 4, loss_train: 0.2449, accuracy_train: 0.9249, loss_valid: 0.3478, accuracy_valid: 0.8861, 10.0562sec\n",
            "epoch: 5, loss_train: 0.2092, accuracy_train: 0.9352, loss_valid: 0.3208, accuracy_valid: 0.8958, 10.0266sec\n",
            "epoch: 6, loss_train: 0.1864, accuracy_train: 0.9407, loss_valid: 0.3102, accuracy_valid: 0.8936, 9.9163sec\n",
            "epoch: 7, loss_train: 0.1658, accuracy_train: 0.9487, loss_valid: 0.2984, accuracy_valid: 0.8988, 9.9052sec\n",
            "epoch: 8, loss_train: 0.1485, accuracy_train: 0.9560, loss_valid: 0.2887, accuracy_valid: 0.9010, 9.9368sec\n",
            "epoch: 9, loss_train: 0.1343, accuracy_train: 0.9631, loss_valid: 0.2865, accuracy_valid: 0.9018, 9.9150sec\n",
            "epoch: 10, loss_train: 0.1229, accuracy_train: 0.9672, loss_valid: 0.2821, accuracy_valid: 0.9093, 10.1183sec\n",
            "epoch: 11, loss_train: 0.1142, accuracy_train: 0.9699, loss_valid: 0.2823, accuracy_valid: 0.9040, 9.8877sec\n",
            "epoch: 12, loss_train: 0.1044, accuracy_train: 0.9740, loss_valid: 0.2776, accuracy_valid: 0.9063, 9.9711sec\n",
            "epoch: 13, loss_train: 0.0969, accuracy_train: 0.9754, loss_valid: 0.2749, accuracy_valid: 0.9033, 9.7950sec\n",
            "epoch: 14, loss_train: 0.0915, accuracy_train: 0.9773, loss_valid: 0.2711, accuracy_valid: 0.9085, 9.7341sec\n",
            "epoch: 15, loss_train: 0.0851, accuracy_train: 0.9805, loss_valid: 0.2713, accuracy_valid: 0.9040, 9.5567sec\n",
            "epoch: 16, loss_train: 0.0809, accuracy_train: 0.9814, loss_valid: 0.2704, accuracy_valid: 0.9055, 9.7112sec\n",
            "epoch: 17, loss_train: 0.0765, accuracy_train: 0.9843, loss_valid: 0.2707, accuracy_valid: 0.9025, 9.7071sec\n",
            "epoch: 18, loss_train: 0.0730, accuracy_train: 0.9839, loss_valid: 0.2665, accuracy_valid: 0.9070, 9.7641sec\n",
            "epoch: 19, loss_train: 0.0708, accuracy_train: 0.9842, loss_valid: 0.2663, accuracy_valid: 0.9100, 9.8655sec\n",
            "epoch: 20, loss_train: 0.0679, accuracy_train: 0.9866, loss_valid: 0.2651, accuracy_valid: 0.9078, 9.7550sec\n",
            "epoch: 21, loss_train: 0.0666, accuracy_train: 0.9866, loss_valid: 0.2669, accuracy_valid: 0.9093, 9.9210sec\n",
            "epoch: 22, loss_train: 0.0648, accuracy_train: 0.9863, loss_valid: 0.2626, accuracy_valid: 0.9100, 9.8098sec\n",
            "epoch: 23, loss_train: 0.0636, accuracy_train: 0.9871, loss_valid: 0.2639, accuracy_valid: 0.9070, 9.6418sec\n",
            "epoch: 24, loss_train: 0.0627, accuracy_train: 0.9876, loss_valid: 0.2632, accuracy_valid: 0.9070, 9.9364sec\n",
            "epoch: 25, loss_train: 0.0621, accuracy_train: 0.9884, loss_valid: 0.2641, accuracy_valid: 0.9070, 10.0960sec\n",
            "epoch: 26, loss_train: 0.0614, accuracy_train: 0.9880, loss_valid: 0.2638, accuracy_valid: 0.9078, 10.0425sec\n",
            "epoch: 27, loss_train: 0.0611, accuracy_train: 0.9883, loss_valid: 0.2641, accuracy_valid: 0.9070, 9.8303sec\n",
            "epoch: 28, loss_train: 0.0609, accuracy_train: 0.9884, loss_valid: 0.2637, accuracy_valid: 0.9078, 9.9185sec\n",
            "epoch: 29, loss_train: 0.0608, accuracy_train: 0.9884, loss_valid: 0.2636, accuracy_valid: 0.9078, 10.0433sec\n",
            "epoch: 30, loss_train: 0.0608, accuracy_train: 0.9884, loss_valid: 0.2636, accuracy_valid: 0.9078, 9.7545sec\n"
          ]
        },
        {
          "output_type": "stream",
          "name": "stderr",
          "text": [
            "\u001b[32m[I 2021-09-11 02:31:08,311]\u001b[0m Trial 10 finished with value: 0.0 and parameters: {'out_channels': 100.0, 'learning_rate': 0.04385331763516838, 'momentum': 0.8, 'batch_size': 128.0}. Best is trial 0 with value: 0.0.\u001b[0m\n"
          ]
        },
        {
          "output_type": "stream",
          "name": "stdout",
          "text": [
            "epoch: 1, loss_train: 1.1098, accuracy_train: 0.6897, loss_valid: 1.1166, accuracy_valid: 0.6604, 9.7479sec\n",
            "epoch: 2, loss_train: 0.9701, accuracy_train: 0.7443, loss_valid: 0.9810, accuracy_valid: 0.7331, 9.7670sec\n",
            "epoch: 3, loss_train: 0.8213, accuracy_train: 0.7570, loss_valid: 0.8367, accuracy_valid: 0.7466, 9.9701sec\n",
            "epoch: 4, loss_train: 0.7168, accuracy_train: 0.7659, loss_valid: 0.7374, accuracy_valid: 0.7526, 10.0474sec\n",
            "epoch: 5, loss_train: 0.6527, accuracy_train: 0.7710, loss_valid: 0.6791, accuracy_valid: 0.7594, 10.1635sec\n",
            "epoch: 6, loss_train: 0.6100, accuracy_train: 0.7766, loss_valid: 0.6412, accuracy_valid: 0.7661, 10.1262sec\n",
            "epoch: 7, loss_train: 0.5787, accuracy_train: 0.7838, loss_valid: 0.6150, accuracy_valid: 0.7699, 10.1183sec\n",
            "epoch: 8, loss_train: 0.5530, accuracy_train: 0.7900, loss_valid: 0.5927, accuracy_valid: 0.7751, 10.0847sec\n",
            "epoch: 9, loss_train: 0.5317, accuracy_train: 0.8001, loss_valid: 0.5753, accuracy_valid: 0.7849, 10.2239sec\n",
            "epoch: 10, loss_train: 0.5130, accuracy_train: 0.8103, loss_valid: 0.5592, accuracy_valid: 0.7954, 10.1486sec\n",
            "epoch: 11, loss_train: 0.4961, accuracy_train: 0.8185, loss_valid: 0.5452, accuracy_valid: 0.8006, 10.1373sec\n",
            "epoch: 12, loss_train: 0.4806, accuracy_train: 0.8303, loss_valid: 0.5329, accuracy_valid: 0.8096, 10.1140sec\n",
            "epoch: 13, loss_train: 0.4662, accuracy_train: 0.8361, loss_valid: 0.5191, accuracy_valid: 0.8193, 10.1524sec\n",
            "epoch: 14, loss_train: 0.4533, accuracy_train: 0.8445, loss_valid: 0.5089, accuracy_valid: 0.8238, 10.1329sec\n",
            "epoch: 15, loss_train: 0.4420, accuracy_train: 0.8521, loss_valid: 0.4999, accuracy_valid: 0.8306, 10.0735sec\n",
            "epoch: 16, loss_train: 0.4318, accuracy_train: 0.8566, loss_valid: 0.4910, accuracy_valid: 0.8351, 10.1136sec\n",
            "epoch: 17, loss_train: 0.4231, accuracy_train: 0.8609, loss_valid: 0.4837, accuracy_valid: 0.8403, 10.2153sec\n",
            "epoch: 18, loss_train: 0.4155, accuracy_train: 0.8660, loss_valid: 0.4772, accuracy_valid: 0.8486, 10.1681sec\n",
            "epoch: 19, loss_train: 0.4090, accuracy_train: 0.8680, loss_valid: 0.4718, accuracy_valid: 0.8493, 10.1307sec\n",
            "epoch: 20, loss_train: 0.4033, accuracy_train: 0.8695, loss_valid: 0.4667, accuracy_valid: 0.8501, 10.1547sec\n",
            "epoch: 21, loss_train: 0.3987, accuracy_train: 0.8724, loss_valid: 0.4629, accuracy_valid: 0.8538, 9.9809sec\n",
            "epoch: 22, loss_train: 0.3949, accuracy_train: 0.8737, loss_valid: 0.4597, accuracy_valid: 0.8561, 10.0481sec\n",
            "epoch: 23, loss_train: 0.3919, accuracy_train: 0.8747, loss_valid: 0.4570, accuracy_valid: 0.8568, 10.1527sec\n",
            "epoch: 24, loss_train: 0.3896, accuracy_train: 0.8757, loss_valid: 0.4551, accuracy_valid: 0.8568, 10.1324sec\n",
            "epoch: 25, loss_train: 0.3880, accuracy_train: 0.8767, loss_valid: 0.4537, accuracy_valid: 0.8568, 10.0777sec\n",
            "epoch: 26, loss_train: 0.3868, accuracy_train: 0.8772, loss_valid: 0.4528, accuracy_valid: 0.8568, 10.0579sec\n",
            "epoch: 27, loss_train: 0.3860, accuracy_train: 0.8772, loss_valid: 0.4522, accuracy_valid: 0.8576, 10.0572sec\n",
            "epoch: 28, loss_train: 0.3855, accuracy_train: 0.8774, loss_valid: 0.4518, accuracy_valid: 0.8576, 9.9870sec\n",
            "epoch: 29, loss_train: 0.3853, accuracy_train: 0.8776, loss_valid: 0.4516, accuracy_valid: 0.8576, 9.9617sec\n",
            "epoch: 30, loss_train: 0.3852, accuracy_train: 0.8775, loss_valid: 0.4515, accuracy_valid: 0.8576, 10.0777sec\n"
          ]
        },
        {
          "output_type": "stream",
          "name": "stderr",
          "text": [
            "\u001b[32m[I 2021-09-11 02:36:11,403]\u001b[0m Trial 11 finished with value: 0.0 and parameters: {'out_channels': 50.0, 'learning_rate': 0.0035982689251615593, 'momentum': 0.8, 'batch_size': 80.0}. Best is trial 0 with value: 0.0.\u001b[0m\n"
          ]
        },
        {
          "output_type": "stream",
          "name": "stdout",
          "text": [
            "epoch: 1, loss_train: 0.5779, accuracy_train: 0.7827, loss_valid: 0.6147, accuracy_valid: 0.7676, 11.1255sec\n",
            "epoch: 2, loss_train: 0.4378, accuracy_train: 0.8498, loss_valid: 0.5000, accuracy_valid: 0.8231, 11.1227sec\n",
            "epoch: 3, loss_train: 0.3299, accuracy_train: 0.8994, loss_valid: 0.4110, accuracy_valid: 0.8696, 11.0574sec\n",
            "epoch: 4, loss_train: 0.2677, accuracy_train: 0.9154, loss_valid: 0.3643, accuracy_valid: 0.8808, 11.0982sec\n",
            "epoch: 5, loss_train: 0.2287, accuracy_train: 0.9296, loss_valid: 0.3391, accuracy_valid: 0.8913, 11.0837sec\n",
            "epoch: 6, loss_train: 0.1995, accuracy_train: 0.9397, loss_valid: 0.3195, accuracy_valid: 0.9018, 11.0359sec\n",
            "epoch: 7, loss_train: 0.1784, accuracy_train: 0.9480, loss_valid: 0.3071, accuracy_valid: 0.9040, 11.1018sec\n",
            "epoch: 8, loss_train: 0.1625, accuracy_train: 0.9522, loss_valid: 0.3017, accuracy_valid: 0.8996, 11.0967sec\n",
            "epoch: 9, loss_train: 0.1481, accuracy_train: 0.9569, loss_valid: 0.2933, accuracy_valid: 0.9018, 11.0270sec\n",
            "epoch: 10, loss_train: 0.1345, accuracy_train: 0.9631, loss_valid: 0.2884, accuracy_valid: 0.9010, 11.1327sec\n",
            "epoch: 11, loss_train: 0.1241, accuracy_train: 0.9664, loss_valid: 0.2877, accuracy_valid: 0.9025, 10.9602sec\n",
            "epoch: 12, loss_train: 0.1158, accuracy_train: 0.9690, loss_valid: 0.2812, accuracy_valid: 0.9033, 11.1245sec\n",
            "epoch: 13, loss_train: 0.1098, accuracy_train: 0.9721, loss_valid: 0.2818, accuracy_valid: 0.9018, 11.0776sec\n",
            "epoch: 14, loss_train: 0.1023, accuracy_train: 0.9741, loss_valid: 0.2776, accuracy_valid: 0.9018, 11.1249sec\n",
            "epoch: 15, loss_train: 0.0951, accuracy_train: 0.9771, loss_valid: 0.2779, accuracy_valid: 0.9078, 11.1943sec\n",
            "epoch: 16, loss_train: 0.0900, accuracy_train: 0.9783, loss_valid: 0.2737, accuracy_valid: 0.9085, 11.2227sec\n",
            "epoch: 17, loss_train: 0.0858, accuracy_train: 0.9799, loss_valid: 0.2745, accuracy_valid: 0.9078, 11.2968sec\n",
            "epoch: 18, loss_train: 0.0830, accuracy_train: 0.9807, loss_valid: 0.2698, accuracy_valid: 0.9100, 11.1209sec\n",
            "epoch: 19, loss_train: 0.0798, accuracy_train: 0.9816, loss_valid: 0.2714, accuracy_valid: 0.9115, 11.0970sec\n",
            "epoch: 20, loss_train: 0.0769, accuracy_train: 0.9834, loss_valid: 0.2696, accuracy_valid: 0.9085, 11.0886sec\n",
            "epoch: 21, loss_train: 0.0750, accuracy_train: 0.9835, loss_valid: 0.2692, accuracy_valid: 0.9100, 11.1575sec\n",
            "epoch: 22, loss_train: 0.0732, accuracy_train: 0.9841, loss_valid: 0.2701, accuracy_valid: 0.9085, 11.2069sec\n",
            "epoch: 23, loss_train: 0.0719, accuracy_train: 0.9845, loss_valid: 0.2690, accuracy_valid: 0.9108, 11.1404sec\n",
            "epoch: 24, loss_train: 0.0711, accuracy_train: 0.9845, loss_valid: 0.2702, accuracy_valid: 0.9093, 11.1656sec\n",
            "epoch: 25, loss_train: 0.0701, accuracy_train: 0.9853, loss_valid: 0.2694, accuracy_valid: 0.9100, 11.1861sec\n",
            "epoch: 26, loss_train: 0.0696, accuracy_train: 0.9855, loss_valid: 0.2694, accuracy_valid: 0.9093, 11.0283sec\n",
            "epoch: 27, loss_train: 0.0692, accuracy_train: 0.9859, loss_valid: 0.2690, accuracy_valid: 0.9100, 11.0067sec\n",
            "epoch: 28, loss_train: 0.0689, accuracy_train: 0.9860, loss_valid: 0.2692, accuracy_valid: 0.9108, 11.0617sec\n",
            "epoch: 29, loss_train: 0.0688, accuracy_train: 0.9859, loss_valid: 0.2689, accuracy_valid: 0.9108, 11.0161sec\n",
            "epoch: 30, loss_train: 0.0687, accuracy_train: 0.9859, loss_valid: 0.2689, accuracy_valid: 0.9100, 11.0250sec\n"
          ]
        },
        {
          "output_type": "stream",
          "name": "stderr",
          "text": [
            "\u001b[32m[I 2021-09-11 02:41:45,348]\u001b[0m Trial 12 finished with value: 0.0 and parameters: {'out_channels': 100.0, 'learning_rate': 0.002509348741206365, 'momentum': 0.9, 'batch_size': 16.0}. Best is trial 0 with value: 0.0.\u001b[0m\n"
          ]
        },
        {
          "output_type": "stream",
          "name": "stdout",
          "text": [
            "epoch: 1, loss_train: 1.2988, accuracy_train: 0.3973, loss_valid: 1.2945, accuracy_valid: 0.3988, 10.0439sec\n",
            "epoch: 2, loss_train: 1.2405, accuracy_train: 0.4428, loss_valid: 1.2364, accuracy_valid: 0.4385, 10.0346sec\n",
            "epoch: 3, loss_train: 1.2053, accuracy_train: 0.5333, loss_valid: 1.2027, accuracy_valid: 0.5187, 9.7060sec\n",
            "epoch: 4, loss_train: 1.1828, accuracy_train: 0.6070, loss_valid: 1.1820, accuracy_valid: 0.6012, 9.7099sec\n",
            "epoch: 5, loss_train: 1.1665, accuracy_train: 0.6551, loss_valid: 1.1673, accuracy_valid: 0.6439, 9.6992sec\n",
            "epoch: 6, loss_train: 1.1532, accuracy_train: 0.6800, loss_valid: 1.1553, accuracy_valid: 0.6702, 10.1224sec\n",
            "epoch: 7, loss_train: 1.1417, accuracy_train: 0.6943, loss_valid: 1.1447, accuracy_valid: 0.6859, 9.7776sec\n",
            "epoch: 8, loss_train: 1.1310, accuracy_train: 0.7022, loss_valid: 1.1348, accuracy_valid: 0.6897, 9.5920sec\n",
            "epoch: 9, loss_train: 1.1211, accuracy_train: 0.7091, loss_valid: 1.1255, accuracy_valid: 0.6987, 9.7565sec\n",
            "epoch: 10, loss_train: 1.1116, accuracy_train: 0.7126, loss_valid: 1.1164, accuracy_valid: 0.7009, 9.6695sec\n",
            "epoch: 11, loss_train: 1.1024, accuracy_train: 0.7172, loss_valid: 1.1077, accuracy_valid: 0.7031, 10.0544sec\n",
            "epoch: 12, loss_train: 1.0937, accuracy_train: 0.7207, loss_valid: 1.0993, accuracy_valid: 0.7061, 10.0754sec\n",
            "epoch: 13, loss_train: 1.0855, accuracy_train: 0.7241, loss_valid: 1.0913, accuracy_valid: 0.7091, 9.9481sec\n",
            "epoch: 14, loss_train: 1.0778, accuracy_train: 0.7270, loss_valid: 1.0838, accuracy_valid: 0.7121, 9.8780sec\n",
            "epoch: 15, loss_train: 1.0705, accuracy_train: 0.7295, loss_valid: 1.0768, accuracy_valid: 0.7106, 9.9701sec\n",
            "epoch: 16, loss_train: 1.0639, accuracy_train: 0.7307, loss_valid: 1.0704, accuracy_valid: 0.7121, 9.8963sec\n",
            "epoch: 17, loss_train: 1.0579, accuracy_train: 0.7313, loss_valid: 1.0645, accuracy_valid: 0.7144, 9.8283sec\n",
            "epoch: 18, loss_train: 1.0524, accuracy_train: 0.7325, loss_valid: 1.0592, accuracy_valid: 0.7189, 9.8526sec\n",
            "epoch: 19, loss_train: 1.0476, accuracy_train: 0.7336, loss_valid: 1.0545, accuracy_valid: 0.7196, 9.7856sec\n",
            "epoch: 20, loss_train: 1.0433, accuracy_train: 0.7349, loss_valid: 1.0504, accuracy_valid: 0.7211, 9.9696sec\n",
            "epoch: 21, loss_train: 1.0397, accuracy_train: 0.7359, loss_valid: 1.0469, accuracy_valid: 0.7226, 9.8854sec\n",
            "epoch: 22, loss_train: 1.0367, accuracy_train: 0.7366, loss_valid: 1.0439, accuracy_valid: 0.7241, 9.8568sec\n",
            "epoch: 23, loss_train: 1.0342, accuracy_train: 0.7366, loss_valid: 1.0415, accuracy_valid: 0.7241, 9.6047sec\n",
            "epoch: 24, loss_train: 1.0322, accuracy_train: 0.7368, loss_valid: 1.0396, accuracy_valid: 0.7241, 9.6841sec\n",
            "epoch: 25, loss_train: 1.0306, accuracy_train: 0.7374, loss_valid: 1.0380, accuracy_valid: 0.7241, 9.9939sec\n",
            "epoch: 26, loss_train: 1.0294, accuracy_train: 0.7374, loss_valid: 1.0369, accuracy_valid: 0.7241, 9.8588sec\n",
            "epoch: 27, loss_train: 1.0285, accuracy_train: 0.7377, loss_valid: 1.0360, accuracy_valid: 0.7249, 9.6837sec\n",
            "epoch: 28, loss_train: 1.0279, accuracy_train: 0.7378, loss_valid: 1.0354, accuracy_valid: 0.7249, 9.6115sec\n",
            "epoch: 29, loss_train: 1.0275, accuracy_train: 0.7379, loss_valid: 1.0350, accuracy_valid: 0.7256, 9.6200sec\n",
            "epoch: 30, loss_train: 1.0272, accuracy_train: 0.7380, loss_valid: 1.0347, accuracy_valid: 0.7256, 9.8860sec\n"
          ]
        },
        {
          "output_type": "stream",
          "name": "stderr",
          "text": [
            "\u001b[32m[I 2021-09-11 02:46:41,161]\u001b[0m Trial 13 finished with value: 0.0 and parameters: {'out_channels': 100.0, 'learning_rate': 0.0005186650214477373, 'momentum': 0.8, 'batch_size': 128.0}. Best is trial 0 with value: 0.0.\u001b[0m\n"
          ]
        },
        {
          "output_type": "stream",
          "name": "stdout",
          "text": [
            "epoch: 1, loss_train: 1.0098, accuracy_train: 0.7358, loss_valid: 1.0198, accuracy_valid: 0.7196, 9.7706sec\n",
            "epoch: 2, loss_train: 0.7892, accuracy_train: 0.7609, loss_valid: 0.8080, accuracy_valid: 0.7466, 9.7270sec\n",
            "epoch: 3, loss_train: 0.6645, accuracy_train: 0.7717, loss_valid: 0.6915, accuracy_valid: 0.7549, 9.6855sec\n",
            "epoch: 4, loss_train: 0.5999, accuracy_train: 0.7820, loss_valid: 0.6334, accuracy_valid: 0.7714, 9.8157sec\n",
            "epoch: 5, loss_train: 0.5578, accuracy_train: 0.7906, loss_valid: 0.5982, accuracy_valid: 0.7819, 10.0574sec\n",
            "epoch: 6, loss_train: 0.5234, accuracy_train: 0.8012, loss_valid: 0.5715, accuracy_valid: 0.7849, 9.7783sec\n",
            "epoch: 7, loss_train: 0.4950, accuracy_train: 0.8133, loss_valid: 0.5488, accuracy_valid: 0.7939, 9.7060sec\n",
            "epoch: 8, loss_train: 0.4697, accuracy_train: 0.8319, loss_valid: 0.5308, accuracy_valid: 0.8081, 9.6963sec\n",
            "epoch: 9, loss_train: 0.4451, accuracy_train: 0.8430, loss_valid: 0.5079, accuracy_valid: 0.8103, 9.8628sec\n",
            "epoch: 10, loss_train: 0.4225, accuracy_train: 0.8578, loss_valid: 0.4897, accuracy_valid: 0.8261, 9.7622sec\n",
            "epoch: 11, loss_train: 0.4018, accuracy_train: 0.8679, loss_valid: 0.4713, accuracy_valid: 0.8396, 9.7039sec\n",
            "epoch: 12, loss_train: 0.3827, accuracy_train: 0.8807, loss_valid: 0.4570, accuracy_valid: 0.8478, 9.7151sec\n",
            "epoch: 13, loss_train: 0.3655, accuracy_train: 0.8851, loss_valid: 0.4409, accuracy_valid: 0.8561, 9.7148sec\n",
            "epoch: 14, loss_train: 0.3506, accuracy_train: 0.8919, loss_valid: 0.4292, accuracy_valid: 0.8591, 9.9325sec\n",
            "epoch: 15, loss_train: 0.3377, accuracy_train: 0.8955, loss_valid: 0.4184, accuracy_valid: 0.8606, 9.8696sec\n",
            "epoch: 16, loss_train: 0.3269, accuracy_train: 0.8960, loss_valid: 0.4084, accuracy_valid: 0.8636, 9.7868sec\n",
            "epoch: 17, loss_train: 0.3181, accuracy_train: 0.8982, loss_valid: 0.4007, accuracy_valid: 0.8666, 9.7412sec\n",
            "epoch: 18, loss_train: 0.3100, accuracy_train: 0.9028, loss_valid: 0.3963, accuracy_valid: 0.8666, 9.8057sec\n",
            "epoch: 19, loss_train: 0.3034, accuracy_train: 0.9054, loss_valid: 0.3903, accuracy_valid: 0.8711, 10.0566sec\n",
            "epoch: 20, loss_train: 0.2981, accuracy_train: 0.9068, loss_valid: 0.3863, accuracy_valid: 0.8733, 9.8476sec\n",
            "epoch: 21, loss_train: 0.2939, accuracy_train: 0.9078, loss_valid: 0.3833, accuracy_valid: 0.8718, 9.7665sec\n",
            "epoch: 22, loss_train: 0.2905, accuracy_train: 0.9092, loss_valid: 0.3804, accuracy_valid: 0.8748, 9.7029sec\n",
            "epoch: 23, loss_train: 0.2878, accuracy_train: 0.9096, loss_valid: 0.3782, accuracy_valid: 0.8771, 9.8115sec\n",
            "epoch: 24, loss_train: 0.2858, accuracy_train: 0.9108, loss_valid: 0.3769, accuracy_valid: 0.8771, 10.1184sec\n",
            "epoch: 25, loss_train: 0.2843, accuracy_train: 0.9114, loss_valid: 0.3757, accuracy_valid: 0.8778, 9.8769sec\n",
            "epoch: 26, loss_train: 0.2832, accuracy_train: 0.9117, loss_valid: 0.3749, accuracy_valid: 0.8793, 9.9993sec\n",
            "epoch: 27, loss_train: 0.2825, accuracy_train: 0.9120, loss_valid: 0.3744, accuracy_valid: 0.8793, 9.6547sec\n",
            "epoch: 28, loss_train: 0.2821, accuracy_train: 0.9124, loss_valid: 0.3741, accuracy_valid: 0.8778, 9.7052sec\n",
            "epoch: 29, loss_train: 0.2820, accuracy_train: 0.9124, loss_valid: 0.3739, accuracy_valid: 0.8778, 9.9748sec\n",
            "epoch: 30, loss_train: 0.2819, accuracy_train: 0.9124, loss_valid: 0.3739, accuracy_valid: 0.8778, 9.8873sec\n"
          ]
        },
        {
          "output_type": "stream",
          "name": "stderr",
          "text": [
            "\u001b[32m[I 2021-09-11 02:51:36,533]\u001b[0m Trial 14 finished with value: 0.0 and parameters: {'out_channels': 150.0, 'learning_rate': 0.006668687339850765, 'momentum': 0.7, 'batch_size': 64.0}. Best is trial 0 with value: 0.0.\u001b[0m\n"
          ]
        },
        {
          "output_type": "stream",
          "name": "stdout",
          "text": [
            "epoch: 1, loss_train: 0.5781, accuracy_train: 0.7866, loss_valid: 0.6123, accuracy_valid: 0.7789, 9.5492sec\n",
            "epoch: 2, loss_train: 0.4422, accuracy_train: 0.8460, loss_valid: 0.5000, accuracy_valid: 0.8253, 9.6249sec\n",
            "epoch: 3, loss_train: 0.3298, accuracy_train: 0.8925, loss_valid: 0.4034, accuracy_valid: 0.8703, 9.6497sec\n",
            "epoch: 4, loss_train: 0.2665, accuracy_train: 0.9146, loss_valid: 0.3573, accuracy_valid: 0.8838, 9.9862sec\n",
            "epoch: 5, loss_train: 0.2268, accuracy_train: 0.9293, loss_valid: 0.3324, accuracy_valid: 0.8876, 10.0209sec\n",
            "epoch: 6, loss_train: 0.2016, accuracy_train: 0.9342, loss_valid: 0.3132, accuracy_valid: 0.8966, 10.0998sec\n",
            "epoch: 7, loss_train: 0.1796, accuracy_train: 0.9478, loss_valid: 0.3042, accuracy_valid: 0.8973, 10.0609sec\n",
            "epoch: 8, loss_train: 0.1612, accuracy_train: 0.9529, loss_valid: 0.2969, accuracy_valid: 0.8988, 10.0816sec\n",
            "epoch: 9, loss_train: 0.1480, accuracy_train: 0.9566, loss_valid: 0.2882, accuracy_valid: 0.9010, 9.9627sec\n",
            "epoch: 10, loss_train: 0.1345, accuracy_train: 0.9620, loss_valid: 0.2822, accuracy_valid: 0.9048, 10.1336sec\n",
            "epoch: 11, loss_train: 0.1273, accuracy_train: 0.9605, loss_valid: 0.2842, accuracy_valid: 0.9085, 9.9437sec\n",
            "epoch: 12, loss_train: 0.1162, accuracy_train: 0.9658, loss_valid: 0.2812, accuracy_valid: 0.9025, 10.0286sec\n",
            "epoch: 13, loss_train: 0.1088, accuracy_train: 0.9698, loss_valid: 0.2777, accuracy_valid: 0.9078, 10.0586sec\n",
            "epoch: 14, loss_train: 0.1013, accuracy_train: 0.9720, loss_valid: 0.2711, accuracy_valid: 0.9108, 10.0959sec\n",
            "epoch: 15, loss_train: 0.0957, accuracy_train: 0.9743, loss_valid: 0.2698, accuracy_valid: 0.9078, 10.0918sec\n",
            "epoch: 16, loss_train: 0.0910, accuracy_train: 0.9764, loss_valid: 0.2700, accuracy_valid: 0.9115, 9.9906sec\n",
            "epoch: 17, loss_train: 0.0879, accuracy_train: 0.9782, loss_valid: 0.2705, accuracy_valid: 0.9085, 10.0005sec\n",
            "epoch: 18, loss_train: 0.0833, accuracy_train: 0.9807, loss_valid: 0.2680, accuracy_valid: 0.9123, 10.1431sec\n",
            "epoch: 19, loss_train: 0.0803, accuracy_train: 0.9804, loss_valid: 0.2680, accuracy_valid: 0.9078, 10.2449sec\n",
            "epoch: 20, loss_train: 0.0773, accuracy_train: 0.9827, loss_valid: 0.2669, accuracy_valid: 0.9078, 10.0953sec\n",
            "epoch: 21, loss_train: 0.0751, accuracy_train: 0.9830, loss_valid: 0.2671, accuracy_valid: 0.9070, 10.0989sec\n",
            "epoch: 22, loss_train: 0.0737, accuracy_train: 0.9843, loss_valid: 0.2656, accuracy_valid: 0.9085, 10.0922sec\n",
            "epoch: 23, loss_train: 0.0723, accuracy_train: 0.9847, loss_valid: 0.2654, accuracy_valid: 0.9070, 10.0081sec\n",
            "epoch: 24, loss_train: 0.0710, accuracy_train: 0.9846, loss_valid: 0.2654, accuracy_valid: 0.9085, 9.9813sec\n",
            "epoch: 25, loss_train: 0.0703, accuracy_train: 0.9851, loss_valid: 0.2646, accuracy_valid: 0.9093, 10.1019sec\n",
            "epoch: 26, loss_train: 0.0695, accuracy_train: 0.9844, loss_valid: 0.2656, accuracy_valid: 0.9093, 10.0031sec\n",
            "epoch: 27, loss_train: 0.0692, accuracy_train: 0.9850, loss_valid: 0.2655, accuracy_valid: 0.9093, 10.0340sec\n",
            "epoch: 28, loss_train: 0.0690, accuracy_train: 0.9850, loss_valid: 0.2654, accuracy_valid: 0.9093, 10.0590sec\n",
            "epoch: 29, loss_train: 0.0689, accuracy_train: 0.9849, loss_valid: 0.2654, accuracy_valid: 0.9093, 10.1192sec\n",
            "epoch: 30, loss_train: 0.0689, accuracy_train: 0.9850, loss_valid: 0.2653, accuracy_valid: 0.9093, 10.1131sec\n"
          ]
        },
        {
          "output_type": "stream",
          "name": "stderr",
          "text": [
            "\u001b[32m[I 2021-09-11 02:56:37,784]\u001b[0m Trial 15 finished with value: 0.0 and parameters: {'out_channels': 50.0, 'learning_rate': 0.018131049239225348, 'momentum': 0.9, 'batch_size': 96.0}. Best is trial 0 with value: 0.0.\u001b[0m\n"
          ]
        },
        {
          "output_type": "stream",
          "name": "stdout",
          "text": [
            "epoch: 1, loss_train: 1.1907, accuracy_train: 0.5227, loss_valid: 1.1898, accuracy_valid: 0.5172, 10.1355sec\n",
            "epoch: 2, loss_train: 1.1451, accuracy_train: 0.6102, loss_valid: 1.1499, accuracy_valid: 0.6049, 10.1452sec\n",
            "epoch: 3, loss_train: 1.1064, accuracy_train: 0.6644, loss_valid: 1.1131, accuracy_valid: 0.6514, 10.0709sec\n",
            "epoch: 4, loss_train: 1.0657, accuracy_train: 0.7076, loss_valid: 1.0730, accuracy_valid: 0.6912, 9.7957sec\n",
            "epoch: 5, loss_train: 1.0216, accuracy_train: 0.7313, loss_valid: 1.0295, accuracy_valid: 0.7204, 9.9080sec\n",
            "epoch: 6, loss_train: 0.9745, accuracy_train: 0.7409, loss_valid: 0.9830, accuracy_valid: 0.7309, 9.7944sec\n",
            "epoch: 7, loss_train: 0.9262, accuracy_train: 0.7497, loss_valid: 0.9358, accuracy_valid: 0.7384, 9.8012sec\n",
            "epoch: 8, loss_train: 0.8800, accuracy_train: 0.7530, loss_valid: 0.8907, accuracy_valid: 0.7399, 9.8067sec\n",
            "epoch: 9, loss_train: 0.8387, accuracy_train: 0.7566, loss_valid: 0.8507, accuracy_valid: 0.7436, 9.7993sec\n",
            "epoch: 10, loss_train: 0.8032, accuracy_train: 0.7585, loss_valid: 0.8167, accuracy_valid: 0.7451, 10.0205sec\n",
            "epoch: 11, loss_train: 0.7735, accuracy_train: 0.7607, loss_valid: 0.7885, accuracy_valid: 0.7474, 10.2343sec\n",
            "epoch: 12, loss_train: 0.7488, accuracy_train: 0.7626, loss_valid: 0.7651, accuracy_valid: 0.7511, 10.0696sec\n",
            "epoch: 13, loss_train: 0.7284, accuracy_train: 0.7642, loss_valid: 0.7463, accuracy_valid: 0.7526, 10.0369sec\n",
            "epoch: 14, loss_train: 0.7116, accuracy_train: 0.7659, loss_valid: 0.7307, accuracy_valid: 0.7534, 9.9021sec\n",
            "epoch: 15, loss_train: 0.6974, accuracy_train: 0.7675, loss_valid: 0.7177, accuracy_valid: 0.7541, 9.9433sec\n"
          ]
        }
      ]
    },
    {
      "cell_type": "markdown",
      "metadata": {
        "id": "I8wLskdPZxvY"
      },
      "source": [
        "GPUのランタイム制限がかかって最後までできなかったがまあ動いたのでヨシ！"
      ]
    },
    {
      "cell_type": "code",
      "metadata": {
        "id": "VLkMDqUHMXd1",
        "colab": {
          "base_uri": "https://localhost:8080/"
        },
        "outputId": "c656cd50-23ac-4bcb-bf2b-165954cef8e3"
      },
      "source": [
        "!ls\n"
      ],
      "execution_count": 4,
      "outputs": [
        {
          "output_type": "stream",
          "name": "stdout",
          "text": [
            "drive  sample_data\n"
          ]
        }
      ]
    },
    {
      "cell_type": "code",
      "metadata": {
        "id": "hc7oxTFqaBww"
      },
      "source": [
        ""
      ],
      "execution_count": null,
      "outputs": []
    }
  ]
}